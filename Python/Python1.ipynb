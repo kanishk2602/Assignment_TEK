{
 "cells": [
  {
   "cell_type": "code",
   "execution_count": 2,
   "id": "6a1c00d3",
   "metadata": {},
   "outputs": [],
   "source": [
    "import keyword"
   ]
  },
  {
   "cell_type": "code",
   "execution_count": 3,
   "id": "0b299ab4",
   "metadata": {},
   "outputs": [
    {
     "name": "stdout",
     "output_type": "stream",
     "text": [
      "['False', 'None', 'True', '__peg_parser__', 'and', 'as', 'assert', 'async', 'await', 'break', 'class', 'continue', 'def', 'del', 'elif', 'else', 'except', 'finally', 'for', 'from', 'global', 'if', 'import', 'in', 'is', 'lambda', 'nonlocal', 'not', 'or', 'pass', 'raise', 'return', 'try', 'while', 'with', 'yield']\n"
     ]
    }
   ],
   "source": [
    "print(keyword.kwlist)"
   ]
  },
  {
   "cell_type": "code",
   "execution_count": 5,
   "id": "630db9eb",
   "metadata": {},
   "outputs": [
    {
     "data": {
      "text/plain": [
       "36"
      ]
     },
     "execution_count": 5,
     "metadata": {},
     "output_type": "execute_result"
    }
   ],
   "source": [
    "#len() - return length of keywords \n",
    "len(keyword.kwlist)"
   ]
  },
  {
   "cell_type": "markdown",
   "id": "d7fd04f5",
   "metadata": {},
   "source": [
    "### Primitive Data Types:\n",
    "int, float, complex, string, boolean\n"
   ]
  },
  {
   "cell_type": "code",
   "execution_count": 7,
   "id": "15f9ebe3",
   "metadata": {},
   "outputs": [],
   "source": [
    "var1=10"
   ]
  },
  {
   "cell_type": "markdown",
   "id": "96ae5cd0",
   "metadata": {},
   "source": [
    "\n"
   ]
  },
  {
   "cell_type": "code",
   "execution_count": 12,
   "id": "bd91bc6d",
   "metadata": {},
   "outputs": [
    {
     "data": {
      "text/plain": [
       "int"
      ]
     },
     "execution_count": 12,
     "metadata": {},
     "output_type": "execute_result"
    }
   ],
   "source": [
    "#type() - returns integer datatype\n",
    "type(var1)"
   ]
  },
  {
   "cell_type": "code",
   "execution_count": 13,
   "id": "4190f210",
   "metadata": {},
   "outputs": [
    {
     "name": "stdout",
     "output_type": "stream",
     "text": [
      "10\n"
     ]
    }
   ],
   "source": [
    "print(var1)"
   ]
  },
  {
   "cell_type": "code",
   "execution_count": 14,
   "id": "89078b82",
   "metadata": {},
   "outputs": [],
   "source": [
    "var2 = 12345.5678"
   ]
  },
  {
   "cell_type": "code",
   "execution_count": 15,
   "id": "599ffbcc",
   "metadata": {},
   "outputs": [
    {
     "data": {
      "text/plain": [
       "float"
      ]
     },
     "execution_count": 15,
     "metadata": {},
     "output_type": "execute_result"
    }
   ],
   "source": [
    "type(var2)"
   ]
  },
  {
   "cell_type": "code",
   "execution_count": 19,
   "id": "4a39c413",
   "metadata": {},
   "outputs": [],
   "source": [
    "var3='string'\n",
    "var4=\"string\""
   ]
  },
  {
   "cell_type": "code",
   "execution_count": 20,
   "id": "cced5d4c",
   "metadata": {},
   "outputs": [
    {
     "name": "stdout",
     "output_type": "stream",
     "text": [
      "string string\n"
     ]
    }
   ],
   "source": [
    "print(var3,var4)"
   ]
  },
  {
   "cell_type": "code",
   "execution_count": 32,
   "id": "b2d01888",
   "metadata": {},
   "outputs": [
    {
     "name": "stdout",
     "output_type": "stream",
     "text": [
      "<class 'str'>\n"
     ]
    }
   ],
   "source": [
    "print(type(var3))  "
   ]
  },
  {
   "cell_type": "code",
   "execution_count": 22,
   "id": "023ed497",
   "metadata": {},
   "outputs": [],
   "source": [
    "# ?type() or shift +  tab\n",
    "#provides documentaion"
   ]
  },
  {
   "cell_type": "code",
   "execution_count": 23,
   "id": "5106f94d",
   "metadata": {},
   "outputs": [],
   "source": [
    "var6= 10+20j\n",
    "var7= 12j"
   ]
  },
  {
   "cell_type": "code",
   "execution_count": 24,
   "id": "f0e5830a",
   "metadata": {},
   "outputs": [
    {
     "data": {
      "text/plain": [
       "complex"
      ]
     },
     "execution_count": 24,
     "metadata": {},
     "output_type": "execute_result"
    }
   ],
   "source": [
    "type(var6)"
   ]
  },
  {
   "cell_type": "code",
   "execution_count": 25,
   "id": "45db2097",
   "metadata": {},
   "outputs": [],
   "source": [
    "bool1 = True\n",
    "bool2 = False\n"
   ]
  },
  {
   "cell_type": "code",
   "execution_count": 26,
   "id": "f2c1d3a8",
   "metadata": {},
   "outputs": [
    {
     "data": {
      "text/plain": [
       "5806"
      ]
     },
     "execution_count": 26,
     "metadata": {},
     "output_type": "execute_result"
    }
   ],
   "source": [
    "4567+1239"
   ]
  },
  {
   "cell_type": "code",
   "execution_count": 28,
   "id": "e03d43a7",
   "metadata": {},
   "outputs": [
    {
     "data": {
      "text/plain": [
       "625"
      ]
     },
     "execution_count": 28,
     "metadata": {},
     "output_type": "execute_result"
    }
   ],
   "source": [
    "25**2"
   ]
  },
  {
   "cell_type": "code",
   "execution_count": 29,
   "id": "3dc5de0d",
   "metadata": {},
   "outputs": [],
   "source": [
    "import sys"
   ]
  },
  {
   "cell_type": "code",
   "execution_count": 31,
   "id": "bb344bf4",
   "metadata": {},
   "outputs": [
    {
     "name": "stdout",
     "output_type": "stream",
     "text": [
      "3.9.13 (main, Aug 25 2022, 23:51:50) [MSC v.1916 64 bit (AMD64)]\n"
     ]
    }
   ],
   "source": [
    "print (sys.version)"
   ]
  },
  {
   "cell_type": "code",
   "execution_count": 35,
   "id": "5569dc17",
   "metadata": {},
   "outputs": [
    {
     "data": {
      "text/plain": [
       "'3.9.13'"
      ]
     },
     "execution_count": 35,
     "metadata": {},
     "output_type": "execute_result"
    }
   ],
   "source": [
    "import platform\n",
    "platform.python_version()"
   ]
  },
  {
   "cell_type": "markdown",
   "id": "cc3ac58a",
   "metadata": {},
   "source": [
    "## String Methods"
   ]
  },
  {
   "cell_type": "code",
   "execution_count": 36,
   "id": "ebc7b76d",
   "metadata": {},
   "outputs": [],
   "source": [
    "str1 = \"This is Python's string1\"\n",
    "str2 = \"This is Python's string2\""
   ]
  },
  {
   "cell_type": "code",
   "execution_count": 39,
   "id": "3eb55d09",
   "metadata": {},
   "outputs": [
    {
     "data": {
      "text/plain": [
       "\"This is Python's string1This is Python's string2\""
      ]
     },
     "execution_count": 39,
     "metadata": {},
     "output_type": "execute_result"
    }
   ],
   "source": [
    "#concatenation of strings\n",
    "str1 + str2"
   ]
  },
  {
   "cell_type": "code",
   "execution_count": 40,
   "id": "90f47161",
   "metadata": {},
   "outputs": [
    {
     "data": {
      "text/plain": [
       "\"This is Python's string1 This is Python's string2\""
      ]
     },
     "execution_count": 40,
     "metadata": {},
     "output_type": "execute_result"
    }
   ],
   "source": [
    "str1 +' '+ str2"
   ]
  },
  {
   "cell_type": "code",
   "execution_count": 41,
   "id": "7e7c932b",
   "metadata": {},
   "outputs": [
    {
     "name": "stdout",
     "output_type": "stream",
     "text": [
      "This is Python's string1 This is Python's string2\n"
     ]
    }
   ],
   "source": [
    "str3  = str1 +' '+ str2\n",
    "print(str3)"
   ]
  },
  {
   "cell_type": "code",
   "execution_count": 45,
   "id": "affbb8da",
   "metadata": {},
   "outputs": [
    {
     "data": {
      "text/plain": [
       "\"This Is Python'S String1 This Is Python'S String2\""
      ]
     },
     "execution_count": 45,
     "metadata": {},
     "output_type": "execute_result"
    }
   ],
   "source": [
    "str3.title()"
   ]
  },
  {
   "cell_type": "code",
   "execution_count": 46,
   "id": "4b858ea3",
   "metadata": {},
   "outputs": [
    {
     "data": {
      "text/plain": [
       "\"this is python's string1 this is python's string2\""
      ]
     },
     "execution_count": 46,
     "metadata": {},
     "output_type": "execute_result"
    }
   ],
   "source": [
    "str3.lower()"
   ]
  },
  {
   "cell_type": "code",
   "execution_count": 91,
   "id": "dc6fd238",
   "metadata": {},
   "outputs": [
    {
     "name": "stdout",
     "output_type": "stream",
     "text": [
      "['This', 'is', 'Python', 'Session', 'we', 'are', 'learning', 'python', 'programming']\n"
     ]
    }
   ],
   "source": [
    "str5=\"This,is,Python,Session,we,are,learning,python,programming\"\n",
    "#seperator or delimitor\n",
    "print(str5.split(\",\"))"
   ]
  },
  {
   "cell_type": "code",
   "execution_count": 93,
   "id": "a224f6a3",
   "metadata": {},
   "outputs": [
    {
     "name": "stdout",
     "output_type": "stream",
     "text": [
      "['This', 'is', 'Python', 'Session', 'we', 'are', 'learning', 'python', 'programming']\n"
     ]
    }
   ],
   "source": [
    "str5=\"This is Python Session we are learning python programming\"\n",
    "print(str5.split(\" \"))"
   ]
  },
  {
   "cell_type": "code",
   "execution_count": 96,
   "id": "f4f8061e",
   "metadata": {},
   "outputs": [
    {
     "data": {
      "text/plain": [
       "('Data Engineering', ' with', ' Python')"
      ]
     },
     "execution_count": 96,
     "metadata": {},
     "output_type": "execute_result"
    }
   ],
   "source": [
    "str6=\"Data Engineering with Python\"\n",
    "str6.partition(\" with\")"
   ]
  },
  {
   "cell_type": "markdown",
   "id": "ae29555f",
   "metadata": {},
   "source": [
    "## Indexing and Slicing\n"
   ]
  },
  {
   "cell_type": "code",
   "execution_count": 47,
   "id": "83f53e69",
   "metadata": {},
   "outputs": [],
   "source": [
    "str4= \"This is TEK Python Session. We are learning about python basics\""
   ]
  },
  {
   "cell_type": "code",
   "execution_count": 55,
   "id": "54b1db00",
   "metadata": {},
   "outputs": [
    {
     "data": {
      "text/plain": [
       "'b'"
      ]
     },
     "execution_count": 55,
     "metadata": {},
     "output_type": "execute_result"
    }
   ],
   "source": [
    "str4[-6]"
   ]
  },
  {
   "cell_type": "code",
   "execution_count": 56,
   "id": "5af4b029",
   "metadata": {},
   "outputs": [
    {
     "data": {
      "text/plain": [
       "8"
      ]
     },
     "execution_count": 56,
     "metadata": {},
     "output_type": "execute_result"
    }
   ],
   "source": [
    "#find() - return index position of words from string\n",
    "# find returns index only for first appearance from the entire string\n",
    "str4.find(\"TEK\")"
   ]
  },
  {
   "cell_type": "code",
   "execution_count": 64,
   "id": "3375b545",
   "metadata": {},
   "outputs": [
    {
     "data": {
      "text/plain": [
       "12"
      ]
     },
     "execution_count": 64,
     "metadata": {},
     "output_type": "execute_result"
    }
   ],
   "source": [
    "str4.lower().find(\"python\")"
   ]
  },
  {
   "cell_type": "code",
   "execution_count": null,
   "id": "f9bedaa4",
   "metadata": {},
   "outputs": [],
   "source": [
    "#indexing in python\n",
    "string[start index : stop index : step size]"
   ]
  },
  {
   "cell_type": "code",
   "execution_count": 66,
   "id": "69866d50",
   "metadata": {},
   "outputs": [
    {
     "data": {
      "text/plain": [
       "'TKPto eso'"
      ]
     },
     "execution_count": 66,
     "metadata": {},
     "output_type": "execute_result"
    }
   ],
   "source": [
    "#start:stop:step  skips 1 element\n",
    "str4[8:26:2]"
   ]
  },
  {
   "cell_type": "code",
   "execution_count": 67,
   "id": "01d670fe",
   "metadata": {},
   "outputs": [
    {
     "data": {
      "text/plain": [
       "'basics'"
      ]
     },
     "execution_count": 67,
     "metadata": {},
     "output_type": "execute_result"
    }
   ],
   "source": [
    "# slicing last 6 elements\n",
    "str4[-6:]"
   ]
  },
  {
   "cell_type": "code",
   "execution_count": 84,
   "id": "ee1ef862",
   "metadata": {},
   "outputs": [
    {
     "data": {
      "text/plain": [
       "'scisab nohtyp tuoba gninrael era eW .noisseS nohtyP KET si sihT'"
      ]
     },
     "execution_count": 84,
     "metadata": {},
     "output_type": "execute_result"
    }
   ],
   "source": [
    "str4[::-1]"
   ]
  },
  {
   "cell_type": "markdown",
   "id": "2ebba264",
   "metadata": {},
   "source": [
    "##  Data Structure in Python"
   ]
  },
  {
   "cell_type": "markdown",
   "id": "ad09cd60",
   "metadata": {},
   "source": [
    "#### List - it is mutable collection of data types (modification is allowed)  []\n",
    "*duplicate values are allowed\n",
    "*it is hetrogenous collection of multiple data items of different types. eg. int, float, strings etc.\n",
    "declare : list=[] or list=list()"
   ]
  },
  {
   "cell_type": "code",
   "execution_count": 101,
   "id": "4afd771f",
   "metadata": {},
   "outputs": [],
   "source": [
    "#empty list\n",
    "list1=[]\n",
    "list1=list()"
   ]
  },
  {
   "cell_type": "code",
   "execution_count": 102,
   "id": "cc34145b",
   "metadata": {},
   "outputs": [],
   "source": [
    "list1 = [123,456,789.987,'This is list session', 123+45j,True,False]"
   ]
  },
  {
   "cell_type": "code",
   "execution_count": 103,
   "id": "b5e1497b",
   "metadata": {},
   "outputs": [
    {
     "data": {
      "text/plain": [
       "[123, 456, 789.987, 'This is list session', (123+45j), True, False]"
      ]
     },
     "execution_count": 103,
     "metadata": {},
     "output_type": "execute_result"
    }
   ],
   "source": [
    "list1"
   ]
  },
  {
   "cell_type": "code",
   "execution_count": 104,
   "id": "fc3c745d",
   "metadata": {},
   "outputs": [],
   "source": [
    "# Concatenation of lists - \n",
    "list1 = [123,456,789.987,'This is list session']\n",
    "list2 = ['True',True,False,101010101, 23+26j]"
   ]
  },
  {
   "cell_type": "code",
   "execution_count": 105,
   "id": "5a16b1d4",
   "metadata": {},
   "outputs": [
    {
     "name": "stdout",
     "output_type": "stream",
     "text": [
      "[123, 456, 789.987, 'This is list session', 'True', True, False, 101010101, (23+26j)]\n"
     ]
    }
   ],
   "source": [
    "print(list1+list2)"
   ]
  },
  {
   "cell_type": "code",
   "execution_count": null,
   "id": "272ff62c",
   "metadata": {},
   "outputs": [],
   "source": [
    "#Nested List\n",
    "list3 = [123,456,789.987,'This is list session',\n",
    "        ['True',True,False,23+26j]]"
   ]
  },
  {
   "cell_type": "markdown",
   "id": "36dc7a2b",
   "metadata": {},
   "source": [
    "### Methods of list"
   ]
  },
  {
   "cell_type": "code",
   "execution_count": 106,
   "id": "d3b7cc84",
   "metadata": {},
   "outputs": [
    {
     "name": "stdout",
     "output_type": "stream",
     "text": [
      "[123, 456, 789.987, 'This is list session']\n"
     ]
    }
   ],
   "source": [
    "#before append\n",
    "print (list1)"
   ]
  },
  {
   "cell_type": "code",
   "execution_count": 107,
   "id": "99ee1d8e",
   "metadata": {},
   "outputs": [],
   "source": [
    "list1.append(True)"
   ]
  },
  {
   "cell_type": "code",
   "execution_count": 108,
   "id": "55c27493",
   "metadata": {},
   "outputs": [
    {
     "name": "stdout",
     "output_type": "stream",
     "text": [
      "[123, 456, 789.987, 'This is list session', True]\n"
     ]
    }
   ],
   "source": [
    "#after append\n",
    "print(list1)"
   ]
  },
  {
   "cell_type": "code",
   "execution_count": 110,
   "id": "6df1bb28",
   "metadata": {},
   "outputs": [],
   "source": [
    "list1.append([1234,5678])"
   ]
  },
  {
   "cell_type": "code",
   "execution_count": 111,
   "id": "3791225f",
   "metadata": {},
   "outputs": [
    {
     "name": "stdout",
     "output_type": "stream",
     "text": [
      "[123, 456, 789.987, 'This is list session', True, [1234, 5678]]\n"
     ]
    }
   ],
   "source": [
    "print(list1)"
   ]
  },
  {
   "cell_type": "code",
   "execution_count": 112,
   "id": "c87f674a",
   "metadata": {},
   "outputs": [],
   "source": [
    "#it clears all vlues from list and makes it empty list\n",
    "list2.clear()"
   ]
  },
  {
   "cell_type": "code",
   "execution_count": 113,
   "id": "1f273b06",
   "metadata": {},
   "outputs": [
    {
     "name": "stdout",
     "output_type": "stream",
     "text": [
      "[]\n"
     ]
    }
   ],
   "source": [
    "print(list2)"
   ]
  },
  {
   "cell_type": "code",
   "execution_count": 114,
   "id": "be6778cc",
   "metadata": {},
   "outputs": [],
   "source": [
    "#deletes the variable from the memory\n",
    "del(list2)"
   ]
  },
  {
   "cell_type": "code",
   "execution_count": 119,
   "id": "02c7a27a",
   "metadata": {},
   "outputs": [],
   "source": [
    "##shallow copy - only items are getting copied from list1 to list2\n",
    "list2=list1.copy() "
   ]
  },
  {
   "cell_type": "code",
   "execution_count": 120,
   "id": "7f284dcc",
   "metadata": {},
   "outputs": [],
   "source": [
    "#deep copy or  copy by reference\n",
    "list4=list1"
   ]
  },
  {
   "cell_type": "code",
   "execution_count": 121,
   "id": "1f8cdcca",
   "metadata": {},
   "outputs": [],
   "source": [
    "list1.append('list')"
   ]
  },
  {
   "cell_type": "code",
   "execution_count": 122,
   "id": "e2135689",
   "metadata": {},
   "outputs": [
    {
     "name": "stdout",
     "output_type": "stream",
     "text": [
      "[123, 456, 789.987, 'This is list session', True, [1234, 5678]]\n"
     ]
    }
   ],
   "source": [
    "print(list2)"
   ]
  },
  {
   "cell_type": "code",
   "execution_count": 123,
   "id": "e80bf143",
   "metadata": {},
   "outputs": [
    {
     "name": "stdout",
     "output_type": "stream",
     "text": [
      "[123, 456, 789.987, 'This is list session', True, [1234, 5678], 'list']\n"
     ]
    }
   ],
   "source": [
    "print(list4)"
   ]
  },
  {
   "cell_type": "code",
   "execution_count": 126,
   "id": "b8ca66b2",
   "metadata": {},
   "outputs": [
    {
     "data": {
      "text/plain": [
       "1"
      ]
     },
     "execution_count": 126,
     "metadata": {},
     "output_type": "execute_result"
    }
   ],
   "source": [
    "#count() returns count of an element present in the list\n",
    "list1.count(123)"
   ]
  },
  {
   "cell_type": "code",
   "execution_count": 127,
   "id": "3e733d36",
   "metadata": {},
   "outputs": [],
   "source": [
    "list1.extend([12345,1010101,True,False])"
   ]
  },
  {
   "cell_type": "code",
   "execution_count": 128,
   "id": "e62dc620",
   "metadata": {},
   "outputs": [
    {
     "name": "stdout",
     "output_type": "stream",
     "text": [
      "[123, 456, 789.987, 'This is list session', True, [1234, 5678], 'list', 12345, 1010101, True, False]\n"
     ]
    }
   ],
   "source": [
    "print(list1)"
   ]
  },
  {
   "cell_type": "code",
   "execution_count": 129,
   "id": "eaa545ff",
   "metadata": {},
   "outputs": [
    {
     "data": {
      "text/plain": [
       "4"
      ]
     },
     "execution_count": 129,
     "metadata": {},
     "output_type": "execute_result"
    }
   ],
   "source": [
    "#returns index position of individual element\n",
    "list1.index(True)"
   ]
  },
  {
   "cell_type": "code",
   "execution_count": 130,
   "id": "e9663bb5",
   "metadata": {},
   "outputs": [],
   "source": [
    "#inserts at specific index position\n",
    "list1.insert(3, 'This is new list')"
   ]
  },
  {
   "cell_type": "code",
   "execution_count": 131,
   "id": "0e1fbefb",
   "metadata": {},
   "outputs": [
    {
     "name": "stdout",
     "output_type": "stream",
     "text": [
      "[123, 456, 789.987, 'This is new list', 'This is list session', True, [1234, 5678], 'list', 12345, 1010101, True, False]\n"
     ]
    }
   ],
   "source": [
    "print(list1)"
   ]
  },
  {
   "cell_type": "code",
   "execution_count": 132,
   "id": "0d7779c5",
   "metadata": {},
   "outputs": [
    {
     "data": {
      "text/plain": [
       "False"
      ]
     },
     "execution_count": 132,
     "metadata": {},
     "output_type": "execute_result"
    }
   ],
   "source": [
    "#removes a single value from a list usin index position; default - index = -1\n",
    "list1.pop()"
   ]
  },
  {
   "cell_type": "code",
   "execution_count": 133,
   "id": "e8737cca",
   "metadata": {},
   "outputs": [],
   "source": [
    "#remove by value\n",
    "list1.remove(789.987)"
   ]
  },
  {
   "cell_type": "code",
   "execution_count": 134,
   "id": "90979218",
   "metadata": {},
   "outputs": [
    {
     "data": {
      "text/plain": [
       "456"
      ]
     },
     "execution_count": 134,
     "metadata": {},
     "output_type": "execute_result"
    }
   ],
   "source": [
    "#remove by index\n",
    "list1.pop(1)"
   ]
  },
  {
   "cell_type": "code",
   "execution_count": 135,
   "id": "0fcbfb44",
   "metadata": {},
   "outputs": [],
   "source": [
    "list1.reverse()"
   ]
  },
  {
   "cell_type": "code",
   "execution_count": 136,
   "id": "c859a1a3",
   "metadata": {},
   "outputs": [
    {
     "name": "stdout",
     "output_type": "stream",
     "text": [
      "[True, 1010101, 12345, 'list', [1234, 5678], True, 'This is list session', 'This is new list', 123]\n"
     ]
    }
   ],
   "source": [
    "print(list1)"
   ]
  },
  {
   "cell_type": "markdown",
   "id": "73fa63a0",
   "metadata": {},
   "source": [
    "### Indexing and slicing in list"
   ]
  },
  {
   "cell_type": "code",
   "execution_count": 139,
   "id": "3cc49ed1",
   "metadata": {},
   "outputs": [
    {
     "data": {
      "text/plain": [
       "123"
      ]
     },
     "execution_count": 139,
     "metadata": {},
     "output_type": "execute_result"
    }
   ],
   "source": [
    "list2[0]"
   ]
  },
  {
   "cell_type": "code",
   "execution_count": 140,
   "id": "ba2bf640",
   "metadata": {},
   "outputs": [
    {
     "data": {
      "text/plain": [
       "[True, 12345, [1234, 5678], 'This is list session', 123]"
      ]
     },
     "execution_count": 140,
     "metadata": {},
     "output_type": "execute_result"
    }
   ],
   "source": [
    "# step size =2; accessing every another element\n",
    "list1[::2]"
   ]
  },
  {
   "cell_type": "code",
   "execution_count": 141,
   "id": "e3601b17",
   "metadata": {},
   "outputs": [
    {
     "data": {
      "text/plain": [
       "[1010101,\n",
       " 12345,\n",
       " 'list',\n",
       " [1234, 5678],\n",
       " True,\n",
       " 'This is list session',\n",
       " 'This is new list',\n",
       " 123]"
      ]
     },
     "execution_count": 141,
     "metadata": {},
     "output_type": "execute_result"
    }
   ],
   "source": [
    "#len(list1) = to access all the items till end of the list\n",
    "list1[1:len(list1)]"
   ]
  },
  {
   "cell_type": "code",
   "execution_count": 138,
   "id": "e5aba084",
   "metadata": {},
   "outputs": [
    {
     "data": {
      "text/plain": [
       "[123,\n",
       " 'This is new list',\n",
       " 'This is list session',\n",
       " True,\n",
       " [1234, 5678],\n",
       " 'list',\n",
       " 12345,\n",
       " 1010101,\n",
       " True]"
      ]
     },
     "execution_count": 138,
     "metadata": {},
     "output_type": "execute_result"
    }
   ],
   "source": [
    "list1[::-1]"
   ]
  },
  {
   "cell_type": "code",
   "execution_count": 142,
   "id": "0b146e17",
   "metadata": {},
   "outputs": [
    {
     "data": {
      "text/plain": [
       "[True,\n",
       " 1010101,\n",
       " 12345,\n",
       " 'list',\n",
       " [1234, 5678],\n",
       " True,\n",
       " 'This is list session',\n",
       " 'This is new list',\n",
       " 123]"
      ]
     },
     "execution_count": 142,
     "metadata": {},
     "output_type": "execute_result"
    }
   ],
   "source": [
    "list1"
   ]
  },
  {
   "cell_type": "code",
   "execution_count": 145,
   "id": "3b82bd7f",
   "metadata": {},
   "outputs": [
    {
     "data": {
      "text/plain": [
       "5678"
      ]
     },
     "execution_count": 145,
     "metadata": {},
     "output_type": "execute_result"
    }
   ],
   "source": [
    "# accessing individual item from nested list\n",
    "list1[4][1]"
   ]
  },
  {
   "cell_type": "markdown",
   "id": "1a2fa496",
   "metadata": {},
   "source": [
    "## Tuples - Immutable  ()\n",
    "* when we dont want data to be changed over time tuples are preffered.\n",
    "* iterating over elements of tuple is faster as compared to iterating over list.\n",
    "* tuples take less memory compared to lists."
   ]
  },
  {
   "cell_type": "code",
   "execution_count": 146,
   "id": "8f6c2ade",
   "metadata": {},
   "outputs": [],
   "source": [
    "#empty tuple declaration\n",
    "tuple1=()\n",
    "tuple1=tuple()"
   ]
  },
  {
   "cell_type": "code",
   "execution_count": 150,
   "id": "65c964d8",
   "metadata": {},
   "outputs": [],
   "source": [
    "tuple1=(123,456,789.987,'This is tuple session', 123+45j,True,False)"
   ]
  },
  {
   "cell_type": "code",
   "execution_count": 151,
   "id": "320346ed",
   "metadata": {},
   "outputs": [
    {
     "data": {
      "text/plain": [
       "1"
      ]
     },
     "execution_count": 151,
     "metadata": {},
     "output_type": "execute_result"
    }
   ],
   "source": [
    "tuple1.count(123)"
   ]
  },
  {
   "cell_type": "code",
   "execution_count": 152,
   "id": "7186aa25",
   "metadata": {},
   "outputs": [
    {
     "data": {
      "text/plain": [
       "5"
      ]
     },
     "execution_count": 152,
     "metadata": {},
     "output_type": "execute_result"
    }
   ],
   "source": [
    "tuple1.index(True)"
   ]
  },
  {
   "cell_type": "markdown",
   "id": "15afa584",
   "metadata": {},
   "source": [
    "## Sets - collection of unique elements \n",
    "* Sts are unordered. Sets has no index attached to any element.\n",
    "* I is mutable and heterogeneous collection.\n"
   ]
  },
  {
   "cell_type": "code",
   "execution_count": 153,
   "id": "1098ddba",
   "metadata": {},
   "outputs": [
    {
     "data": {
      "text/plain": [
       "set"
      ]
     },
     "execution_count": 153,
     "metadata": {},
     "output_type": "execute_result"
    }
   ],
   "source": [
    "set1=set()\n",
    "type(set1)"
   ]
  },
  {
   "cell_type": "code",
   "execution_count": 154,
   "id": "946acba8",
   "metadata": {},
   "outputs": [],
   "source": [
    "set1={'This is set', 12345,'Apple', 'Grapes',True,False,908172}"
   ]
  },
  {
   "cell_type": "code",
   "execution_count": 155,
   "id": "c7409719",
   "metadata": {},
   "outputs": [],
   "source": [
    "A = {'A','B','C','D','F','H'}\n",
    "B = {'G','H','I','F','D'}\n",
    "C = {'A', 'N','O','P','H','D'}"
   ]
  },
  {
   "cell_type": "code",
   "execution_count": 157,
   "id": "b1d17143",
   "metadata": {},
   "outputs": [
    {
     "data": {
      "text/plain": [
       "{'D', 'F', 'H'}"
      ]
     },
     "execution_count": 157,
     "metadata": {},
     "output_type": "execute_result"
    }
   ],
   "source": [
    "#common value between set A and set B\n",
    "A.intersection(B)"
   ]
  },
  {
   "cell_type": "code",
   "execution_count": 158,
   "id": "200817ec",
   "metadata": {},
   "outputs": [
    {
     "data": {
      "text/plain": [
       "{'D', 'H'}"
      ]
     },
     "execution_count": 158,
     "metadata": {},
     "output_type": "execute_result"
    }
   ],
   "source": [
    "#common value between sets A, B and C\n",
    "A.intersection(B,C)"
   ]
  },
  {
   "cell_type": "code",
   "execution_count": 164,
   "id": "d096ddc9",
   "metadata": {},
   "outputs": [
    {
     "name": "stdout",
     "output_type": "stream",
     "text": [
      "{'D', 'H'}\n"
     ]
    }
   ],
   "source": [
    "# Alternative method for intersection\n",
    "(A & B & C)"
   ]
  },
  {
   "cell_type": "code",
   "execution_count": 161,
   "id": "0b561d35",
   "metadata": {},
   "outputs": [
    {
     "data": {
      "text/plain": [
       "{'A', 'B', 'C', 'D', 'F', 'G', 'H', 'I', 'N', 'O', 'P'}"
      ]
     },
     "execution_count": 161,
     "metadata": {},
     "output_type": "execute_result"
    }
   ],
   "source": [
    "#Union of Sets\n",
    "A|B|C"
   ]
  },
  {
   "cell_type": "code",
   "execution_count": 162,
   "id": "bf6b9300",
   "metadata": {},
   "outputs": [
    {
     "data": {
      "text/plain": [
       "{'A', 'B', 'C', 'D', 'F', 'G', 'H', 'I', 'N', 'O', 'P'}"
      ]
     },
     "execution_count": 162,
     "metadata": {},
     "output_type": "execute_result"
    }
   ],
   "source": [
    "A.union(B,C)"
   ]
  },
  {
   "cell_type": "code",
   "execution_count": 163,
   "id": "807a49d2",
   "metadata": {},
   "outputs": [
    {
     "data": {
      "text/plain": [
       "{'A', 'B', 'C'}"
      ]
     },
     "execution_count": 163,
     "metadata": {},
     "output_type": "execute_result"
    }
   ],
   "source": [
    "A.difference(B)"
   ]
  },
  {
   "cell_type": "code",
   "execution_count": 165,
   "id": "e74da7d4",
   "metadata": {},
   "outputs": [
    {
     "name": "stdout",
     "output_type": "stream",
     "text": [
      "{False, True, (23+46j), 1234567, 'Apple', 'mango'}\n"
     ]
    }
   ],
   "source": [
    "myset1={1234567,True,False,'Apple','mango',23+46j}\n",
    "print(myset1)"
   ]
  },
  {
   "cell_type": "code",
   "execution_count": 167,
   "id": "d5ae1b04",
   "metadata": {},
   "outputs": [],
   "source": [
    "#adding individual value to the set\n",
    "myset1.add(1010101)"
   ]
  },
  {
   "cell_type": "code",
   "execution_count": 168,
   "id": "d294e0b1",
   "metadata": {},
   "outputs": [
    {
     "name": "stdout",
     "output_type": "stream",
     "text": [
      "{False, True, (23+46j), 1010101, 1234567, 'Apple', 'mango'}\n"
     ]
    }
   ],
   "source": [
    "print(myset1)"
   ]
  },
  {
   "cell_type": "code",
   "execution_count": 169,
   "id": "a73d63c5",
   "metadata": {},
   "outputs": [],
   "source": [
    "#to update existing set with multiple values\n",
    "myset1.update(['eleven','ten','twelve'])"
   ]
  },
  {
   "cell_type": "code",
   "execution_count": 170,
   "id": "6ce84a20",
   "metadata": {},
   "outputs": [
    {
     "name": "stdout",
     "output_type": "stream",
     "text": [
      "{False, True, 1234567, 'ten', 'mango', 'twelve', (23+46j), 'eleven', 'Apple', 1010101}\n"
     ]
    }
   ],
   "source": [
    "print(myset1)"
   ]
  },
  {
   "cell_type": "code",
   "execution_count": 171,
   "id": "27df4c61",
   "metadata": {},
   "outputs": [
    {
     "data": {
      "text/plain": [
       "False"
      ]
     },
     "execution_count": 171,
     "metadata": {},
     "output_type": "execute_result"
    }
   ],
   "source": [
    "myset1.pop()"
   ]
  },
  {
   "cell_type": "code",
   "execution_count": 172,
   "id": "16f8e7fc",
   "metadata": {},
   "outputs": [],
   "source": [
    "list1 = [123, 456, 789.987, 'list ', 12345, 1010101, True, False,'new list']"
   ]
  },
  {
   "cell_type": "code",
   "execution_count": 173,
   "id": "ab35fd0d",
   "metadata": {},
   "outputs": [
    {
     "data": {
      "text/plain": [
       "123"
      ]
     },
     "execution_count": 173,
     "metadata": {},
     "output_type": "execute_result"
    }
   ],
   "source": [
    "list1.pop(0)"
   ]
  },
  {
   "cell_type": "code",
   "execution_count": 174,
   "id": "8c2e775b",
   "metadata": {},
   "outputs": [],
   "source": [
    "list1.remove(1)"
   ]
  },
  {
   "cell_type": "code",
   "execution_count": 175,
   "id": "30e84c3a",
   "metadata": {},
   "outputs": [
    {
     "name": "stdout",
     "output_type": "stream",
     "text": [
      "[456, 789.987, 'list ', 12345, 1010101, False, 'new list']\n"
     ]
    }
   ],
   "source": [
    "print(list1)"
   ]
  },
  {
   "cell_type": "markdown",
   "id": "bc33d1eb",
   "metadata": {},
   "source": [
    "## Dictionary {} - key value pair\n",
    "* Mutable collection of keys and values, keys will be unique but values could be repetitive.\n"
   ]
  },
  {
   "cell_type": "code",
   "execution_count": 177,
   "id": "aa224ac8",
   "metadata": {},
   "outputs": [
    {
     "name": "stdout",
     "output_type": "stream",
     "text": [
      "<class 'dict'>\n"
     ]
    }
   ],
   "source": [
    "dict1={}\n",
    "print(type(dict1))"
   ]
  },
  {
   "cell_type": "code",
   "execution_count": 178,
   "id": "c0357e0b",
   "metadata": {},
   "outputs": [],
   "source": [
    "first_emp= {'empid':'TEK1001', 'Name':'Kanishk', 'Age':21,'City':'Hyderabad'}"
   ]
  },
  {
   "cell_type": "code",
   "execution_count": 179,
   "id": "1f03cb8b",
   "metadata": {},
   "outputs": [
    {
     "name": "stdout",
     "output_type": "stream",
     "text": [
      "{'empid': 'TEK1001', 'Name': 'Kanishk', 'Age': 21, 'City': 'Hyderabad'}\n"
     ]
    }
   ],
   "source": [
    "print(first_emp)"
   ]
  },
  {
   "cell_type": "code",
   "execution_count": 192,
   "id": "42a09c79",
   "metadata": {},
   "outputs": [],
   "source": [
    "fruit_basket=dict([('A','Apple'),('B','Blueberry'),('C','Carrot')])"
   ]
  },
  {
   "cell_type": "code",
   "execution_count": 193,
   "id": "ffe4fb6e",
   "metadata": {},
   "outputs": [
    {
     "name": "stdout",
     "output_type": "stream",
     "text": [
      "{'A': 'Apple', 'B': 'Blueberry', 'C': 'Carrot'}\n"
     ]
    }
   ],
   "source": [
    "print(fruit_basket)"
   ]
  },
  {
   "cell_type": "code",
   "execution_count": 182,
   "id": "295059f6",
   "metadata": {},
   "outputs": [
    {
     "data": {
      "text/plain": [
       "dict_items([('empid', 'TEK1001'), ('Name', 'Kanishk'), ('Age', 21), ('City', 'Hyderabad')])"
      ]
     },
     "execution_count": 182,
     "metadata": {},
     "output_type": "execute_result"
    }
   ],
   "source": [
    "first_emp.items()"
   ]
  },
  {
   "cell_type": "code",
   "execution_count": 183,
   "id": "bcb839b5",
   "metadata": {},
   "outputs": [
    {
     "data": {
      "text/plain": [
       "dict_values(['TEK1001', 'Kanishk', 21, 'Hyderabad'])"
      ]
     },
     "execution_count": 183,
     "metadata": {},
     "output_type": "execute_result"
    }
   ],
   "source": [
    "first_emp.values()"
   ]
  },
  {
   "cell_type": "code",
   "execution_count": 184,
   "id": "7dec4940",
   "metadata": {},
   "outputs": [
    {
     "data": {
      "text/plain": [
       "dict_keys(['empid', 'Name', 'Age', 'City'])"
      ]
     },
     "execution_count": 184,
     "metadata": {},
     "output_type": "execute_result"
    }
   ],
   "source": [
    "first_emp.keys()"
   ]
  },
  {
   "cell_type": "code",
   "execution_count": 190,
   "id": "d98a2ca8",
   "metadata": {},
   "outputs": [
    {
     "data": {
      "text/plain": [
       "'Kanishk'"
      ]
     },
     "execution_count": 190,
     "metadata": {},
     "output_type": "execute_result"
    }
   ],
   "source": [
    "first_emp['Name']"
   ]
  },
  {
   "cell_type": "code",
   "execution_count": 194,
   "id": "b1593131",
   "metadata": {},
   "outputs": [],
   "source": [
    "#creating new key for existing dictionary\n",
    "first_emp['Salary'] = 60000"
   ]
  },
  {
   "cell_type": "code",
   "execution_count": 195,
   "id": "9c1b73cd",
   "metadata": {},
   "outputs": [
    {
     "name": "stdout",
     "output_type": "stream",
     "text": [
      "{'empid': 'TEK1001', 'Name': 'Kanishk', 'Age': 21, 'City': 'Hyderabad', 'Salary': 60000}\n"
     ]
    }
   ],
   "source": [
    "print(first_emp)"
   ]
  },
  {
   "cell_type": "code",
   "execution_count": 200,
   "id": "f482598b",
   "metadata": {},
   "outputs": [],
   "source": [
    "first_emp.update({'Age':[22]})"
   ]
  },
  {
   "cell_type": "code",
   "execution_count": 201,
   "id": "4179f506",
   "metadata": {},
   "outputs": [
    {
     "data": {
      "text/plain": [
       "{'empid': 'TEK1001',\n",
       " 'Name': 'Kanishk',\n",
       " 'Age': [22],\n",
       " 'City': 'Hyderabad',\n",
       " 'Salary': 60000,\n",
       " 'age': [22]}"
      ]
     },
     "execution_count": 201,
     "metadata": {},
     "output_type": "execute_result"
    }
   ],
   "source": [
    "first_emp\n"
   ]
  },
  {
   "cell_type": "code",
   "execution_count": 202,
   "id": "77a1a45e",
   "metadata": {},
   "outputs": [],
   "source": [
    "first_emp.update({'City':['Hyderabad','Bangalore']})"
   ]
  },
  {
   "cell_type": "code",
   "execution_count": 205,
   "id": "88eb80ea",
   "metadata": {},
   "outputs": [
    {
     "data": {
      "text/plain": [
       "'Hyderabad'"
      ]
     },
     "execution_count": 205,
     "metadata": {},
     "output_type": "execute_result"
    }
   ],
   "source": [
    "first_emp['City'][0]"
   ]
  },
  {
   "cell_type": "code",
   "execution_count": 206,
   "id": "d3d8e6ba",
   "metadata": {},
   "outputs": [
    {
     "data": {
      "text/plain": [
       "'TEK1001'"
      ]
     },
     "execution_count": 206,
     "metadata": {},
     "output_type": "execute_result"
    }
   ],
   "source": [
    "#removes value by using index position\n",
    "first_emp.pop('empid')"
   ]
  },
  {
   "cell_type": "markdown",
   "id": "3008c570",
   "metadata": {},
   "source": [
    "### Nested Dictionary"
   ]
  },
  {
   "cell_type": "code",
   "execution_count": 218,
   "id": "9ab3d7ad",
   "metadata": {},
   "outputs": [],
   "source": [
    "employee= {'emp10':{ 'Name':'Kanishk','salary':'60000'},\n",
    "           'emp2':{ 'Name':'qwerty','salary':'61000'}}"
   ]
  },
  {
   "cell_type": "code",
   "execution_count": 219,
   "id": "1efd639c",
   "metadata": {},
   "outputs": [
    {
     "name": "stdout",
     "output_type": "stream",
     "text": [
      "{'emp10': {'Name': 'Kanishk', 'salary': '60000'}, 'emp2': {'Name': 'qwerty', 'salary': '61000'}}\n"
     ]
    }
   ],
   "source": [
    "print(employee)"
   ]
  },
  {
   "cell_type": "code",
   "execution_count": 221,
   "id": "1322a3a8",
   "metadata": {},
   "outputs": [
    {
     "data": {
      "text/plain": [
       "{'Name': 'Kanishk', 'salary': '60000'}"
      ]
     },
     "execution_count": 221,
     "metadata": {},
     "output_type": "execute_result"
    }
   ],
   "source": [
    "employee['emp10']"
   ]
  },
  {
   "cell_type": "code",
   "execution_count": 223,
   "id": "d2b09432",
   "metadata": {},
   "outputs": [
    {
     "data": {
      "text/plain": [
       "'Kanishk'"
      ]
     },
     "execution_count": 223,
     "metadata": {},
     "output_type": "execute_result"
    }
   ],
   "source": [
    "employee['emp10']['Name']"
   ]
  },
  {
   "cell_type": "markdown",
   "id": "7a5983fc",
   "metadata": {},
   "source": [
    "### Unassisted practice questions"
   ]
  },
  {
   "cell_type": "markdown",
   "id": "0ddcf9f3",
   "metadata": {},
   "source": [
    "1. Create a nested dictionary\n",
    "2. Crete three dictionaries then create one dictionary tha will contain the other three dictionaries.\n",
    "3. Access key value using get() method\n",
    "4. Update an existing key's value\n",
    "5. Check if key exixt\n",
    "6. Make a copy of dictionary using copy() method\n",
    "7. Delete entire Dictionary"
   ]
  },
  {
   "cell_type": "code",
   "execution_count": 3,
   "id": "0aa761a6",
   "metadata": {},
   "outputs": [],
   "source": [
    "std1={ 'Name':'Kanishk','roll':'01'}\n",
    "std2={ 'Name':'qwerty','roll':'02'}\n",
    "std3={ 'Name':'trainee,','roll':'05'}"
   ]
  },
  {
   "cell_type": "code",
   "execution_count": 4,
   "id": "ec211c18",
   "metadata": {},
   "outputs": [],
   "source": [
    "student= {'first':std1,\n",
    "          'second':std2,\n",
    "          'third':std3\n",
    "         }"
   ]
  },
  {
   "cell_type": "code",
   "execution_count": 5,
   "id": "9a7f9186",
   "metadata": {},
   "outputs": [
    {
     "name": "stdout",
     "output_type": "stream",
     "text": [
      "Kanishk\n"
     ]
    }
   ],
   "source": [
    "print(student.get('first').get('Name'))"
   ]
  },
  {
   "cell_type": "code",
   "execution_count": 11,
   "id": "e7180ae5",
   "metadata": {},
   "outputs": [],
   "source": [
    "student['first'].update({'Name':'Kashyap'})"
   ]
  },
  {
   "cell_type": "code",
   "execution_count": 7,
   "id": "4c698a20",
   "metadata": {},
   "outputs": [
    {
     "data": {
      "text/plain": [
       "{'first': {'Name': 'Kashyap', 'roll': '01'},\n",
       " 'second': {'Name': 'qwerty', 'roll': '02'},\n",
       " 'third': {'Name': 'trainee,', 'roll': '05'}}"
      ]
     },
     "execution_count": 7,
     "metadata": {},
     "output_type": "execute_result"
    }
   ],
   "source": [
    "student"
   ]
  },
  {
   "cell_type": "code",
   "execution_count": 8,
   "id": "b28b2b1a",
   "metadata": {},
   "outputs": [
    {
     "name": "stdout",
     "output_type": "stream",
     "text": [
      "{'Name': 'Kashyap', 'roll': '01'}\n"
     ]
    }
   ],
   "source": [
    "print(student.get('first'))"
   ]
  },
  {
   "cell_type": "code",
   "execution_count": 10,
   "id": "971b881f",
   "metadata": {},
   "outputs": [
    {
     "data": {
      "text/plain": [
       "'01'"
      ]
     },
     "execution_count": 10,
     "metadata": {},
     "output_type": "execute_result"
    }
   ],
   "source": [
    "student['std1']['roll']"
   ]
  },
  {
   "cell_type": "code",
   "execution_count": null,
   "id": "c85a8a91",
   "metadata": {},
   "outputs": [],
   "source": []
  },
  {
   "cell_type": "code",
   "execution_count": null,
   "id": "30f7c7b1",
   "metadata": {},
   "outputs": [],
   "source": []
  },
  {
   "cell_type": "code",
   "execution_count": null,
   "id": "fc856024",
   "metadata": {},
   "outputs": [],
   "source": []
  },
  {
   "cell_type": "code",
   "execution_count": null,
   "id": "ead8b04e",
   "metadata": {},
   "outputs": [],
   "source": []
  }
 ],
 "metadata": {
  "kernelspec": {
   "display_name": "Python 3 (ipykernel)",
   "language": "python",
   "name": "python3"
  },
  "language_info": {
   "codemirror_mode": {
    "name": "ipython",
    "version": 3
   },
   "file_extension": ".py",
   "mimetype": "text/x-python",
   "name": "python",
   "nbconvert_exporter": "python",
   "pygments_lexer": "ipython3",
   "version": "3.9.13"
  }
 },
 "nbformat": 4,
 "nbformat_minor": 5
}
