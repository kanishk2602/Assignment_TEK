{
 "cells": [
  {
   "cell_type": "code",
   "execution_count": 1,
   "id": "8aef255f",
   "metadata": {},
   "outputs": [],
   "source": [
    "import os"
   ]
  },
  {
   "cell_type": "code",
   "execution_count": 2,
   "id": "1f60f6b0",
   "metadata": {},
   "outputs": [
    {
     "data": {
      "text/plain": [
       "'C:\\\\Users\\\\kkashyap'"
      ]
     },
     "execution_count": 2,
     "metadata": {},
     "output_type": "execute_result"
    }
   ],
   "source": [
    "#returns current working directory\n",
    "os.getcwd()"
   ]
  },
  {
   "cell_type": "code",
   "execution_count": 3,
   "id": "e53b4bbf",
   "metadata": {},
   "outputs": [
    {
     "data": {
      "text/plain": [
       "['$C35D0C7E8F9049728F867FA4BA355CC1',\n",
       " 'All Users',\n",
       " 'Default',\n",
       " 'Default User',\n",
       " 'desktop.ini',\n",
       " 'dsaimaharshi',\n",
       " 'EUCDADMIN',\n",
       " 'kkashyap',\n",
       " 'Public']"
      ]
     },
     "execution_count": 3,
     "metadata": {},
     "output_type": "execute_result"
    }
   ],
   "source": [
    "#get list of files and directories\n",
    "path = \"C:/Users/\"\n",
    "os.listdir(path)"
   ]
  },
  {
   "cell_type": "code",
   "execution_count": 4,
   "id": "dc7485ba",
   "metadata": {},
   "outputs": [],
   "source": [
    "directory = 'qwerty'\n",
    "parent_path = \"C:/Users/kkashyap/\"\n",
    "path = os.path.join(parent_path,directory)\n",
    "os.makedirs(path)"
   ]
  },
  {
   "cell_type": "code",
   "execution_count": 5,
   "id": "cda6251d",
   "metadata": {},
   "outputs": [],
   "source": [
    "os.rmdir(path)"
   ]
  },
  {
   "cell_type": "code",
   "execution_count": 6,
   "id": "2f15e451",
   "metadata": {},
   "outputs": [
    {
     "name": "stderr",
     "output_type": "stream",
     "text": [
      "IOPub data rate exceeded.\n",
      "The notebook server will temporarily stop sending output\n",
      "to the client in order to avoid crashing it.\n",
      "To change this limit, set the config variable\n",
      "`--NotebookApp.iopub_data_rate_limit`.\n",
      "\n",
      "Current values:\n",
      "NotebookApp.iopub_data_rate_limit=1000000.0 (bytes/sec)\n",
      "NotebookApp.rate_limit_window=3.0 (secs)\n",
      "\n"
     ]
    }
   ],
   "source": [
    "import os\n",
    "\n",
    "directory=[]\n",
    "dirpath = \"C:/Users/kkashyap/\"\n",
    "#os.walk() reads all directory and subdirectory\n",
    "for (dir_path, dir_names, files_name) in os.walk(dirpath):\n",
    "    directory.extend(files_name)\n",
    "print(directory)"
   ]
  },
  {
   "cell_type": "code",
   "execution_count": 7,
   "id": "7b457cdb",
   "metadata": {},
   "outputs": [
    {
     "data": {
      "text/plain": [
       "False"
      ]
     },
     "execution_count": 7,
     "metadata": {},
     "output_type": "execute_result"
    }
   ],
   "source": [
    "# returns True for file else false\n",
    "os.path.isfile(\"C:/Users/kkashyap/\")"
   ]
  },
  {
   "cell_type": "code",
   "execution_count": 8,
   "id": "a0397dd4",
   "metadata": {},
   "outputs": [],
   "source": [
    "# open file from a location in read/text mode\n",
    "fileobj =open(\"C:/Users/kkashyap/test.txt.txt\")"
   ]
  },
  {
   "cell_type": "code",
   "execution_count": 9,
   "id": "6f4fadfb",
   "metadata": {},
   "outputs": [
    {
     "data": {
      "text/plain": [
       "'This is new file created using open() function.Python is easy programming language. We are learning about files and file handling'"
      ]
     },
     "execution_count": 9,
     "metadata": {},
     "output_type": "execute_result"
    }
   ],
   "source": [
    "fileobj.read()"
   ]
  },
  {
   "cell_type": "code",
   "execution_count": 10,
   "id": "441c68c7",
   "metadata": {},
   "outputs": [],
   "source": [
    "fileobj = open(\"C:/Users/kkashyap/test.txt.txt\",'r') # open file in read mode"
   ]
  },
  {
   "cell_type": "markdown",
   "id": "156f00c4",
   "metadata": {},
   "source": [
    "* create a new file and write over it"
   ]
  },
  {
   "cell_type": "code",
   "execution_count": 11,
   "id": "4f13c7ff",
   "metadata": {},
   "outputs": [],
   "source": [
    "fileobj = open(\"C:/Users/kkashyap/test.txt.txt\",'w') # open file in write mode"
   ]
  },
  {
   "cell_type": "code",
   "execution_count": 12,
   "id": "f65cf37c",
   "metadata": {},
   "outputs": [
    {
     "data": {
      "text/plain": [
       "47"
      ]
     },
     "execution_count": 12,
     "metadata": {},
     "output_type": "execute_result"
    }
   ],
   "source": [
    "# write over a new file amd open in write mode\n",
    "fileobj.write(\"This is new file created using open() function.\")"
   ]
  },
  {
   "cell_type": "code",
   "execution_count": 13,
   "id": "bd0945dc",
   "metadata": {},
   "outputs": [],
   "source": [
    "# close the file\n",
    "fileobj.close()"
   ]
  },
  {
   "cell_type": "code",
   "execution_count": 14,
   "id": "c47c2746",
   "metadata": {},
   "outputs": [
    {
     "data": {
      "text/plain": [
       "'This is new file created using open() function.'"
      ]
     },
     "execution_count": 14,
     "metadata": {},
     "output_type": "execute_result"
    }
   ],
   "source": [
    "fileobj1 = open(\"C:/Users/kkashyap/test.txt.txt\",'r')\n",
    "fileobj1.read()"
   ]
  },
  {
   "cell_type": "code",
   "execution_count": 15,
   "id": "607f8426",
   "metadata": {},
   "outputs": [],
   "source": [
    "fileobj1.close()"
   ]
  },
  {
   "cell_type": "markdown",
   "id": "b304e064",
   "metadata": {},
   "source": [
    "*  Append"
   ]
  },
  {
   "cell_type": "code",
   "execution_count": 16,
   "id": "2b9c9d99",
   "metadata": {},
   "outputs": [
    {
     "data": {
      "text/plain": [
       "82"
      ]
     },
     "execution_count": 16,
     "metadata": {},
     "output_type": "execute_result"
    }
   ],
   "source": [
    "fileobj2 = open(\"C:/Users/kkashyap/test.txt.txt\",'a')\n",
    "fileobj2.write(\"Python is easy programming language. We are learning about files and file handling\")"
   ]
  },
  {
   "cell_type": "code",
   "execution_count": 17,
   "id": "2c25de25",
   "metadata": {},
   "outputs": [],
   "source": [
    "fileobj2.close()"
   ]
  },
  {
   "cell_type": "code",
   "execution_count": 18,
   "id": "d5402e39",
   "metadata": {},
   "outputs": [
    {
     "data": {
      "text/plain": [
       "'This is new file created using open() function.Python is easy programming language. We are learning about files and file handling'"
      ]
     },
     "execution_count": 18,
     "metadata": {},
     "output_type": "execute_result"
    }
   ],
   "source": [
    "fileobj2 =  open(\"C:/Users/kkashyap/test.txt.txt\",'r')\n",
    "fileobj2.read()"
   ]
  },
  {
   "cell_type": "code",
   "execution_count": 19,
   "id": "1995dced",
   "metadata": {},
   "outputs": [
    {
     "data": {
      "text/plain": [
       "'This is new'"
      ]
     },
     "execution_count": 19,
     "metadata": {},
     "output_type": "execute_result"
    }
   ],
   "source": [
    "fileobj2 =  open(\"C:/Users/kkashyap/test.txt.txt\",'r')\n",
    "#read the first 11 character of a file\n",
    "fileobj2.read(11)"
   ]
  },
  {
   "cell_type": "code",
   "execution_count": 20,
   "id": "f93dc343",
   "metadata": {},
   "outputs": [
    {
     "data": {
      "text/plain": [
       "'This is new file created using open() function.Python is easy programming language. We are learning about files and file handling'"
      ]
     },
     "execution_count": 20,
     "metadata": {},
     "output_type": "execute_result"
    }
   ],
   "source": [
    "fileobj =  open(\"C:/Users/kkashyap/test.txt.txt\",'r')\n",
    "# read first line string\n",
    "fileobj.readline()"
   ]
  },
  {
   "cell_type": "code",
   "execution_count": 21,
   "id": "eaefb6e5",
   "metadata": {},
   "outputs": [
    {
     "data": {
      "text/plain": [
       "['This is new file created using open() function.Python is easy programming language. We are learning about files and file handling']"
      ]
     },
     "execution_count": 21,
     "metadata": {},
     "output_type": "execute_result"
    }
   ],
   "source": [
    "# read all lines as list\n",
    "fileobj =  open(\"C:/Users/kkashyap/test.txt.txt\",'r')\n",
    "fileobj.readlines()"
   ]
  },
  {
   "cell_type": "code",
   "execution_count": 22,
   "id": "8c3f4a0d",
   "metadata": {},
   "outputs": [
    {
     "data": {
      "text/plain": [
       "'This is new file created using open() function.Python is easy programming language. We are learning about files and file handling'"
      ]
     },
     "execution_count": 22,
     "metadata": {},
     "output_type": "execute_result"
    }
   ],
   "source": [
    "fileobj = open(\"C:/Users/kkashyap/test.txt.txt\",'r')\n",
    "# bring cursor at the start of file(initial position of cursor)\n",
    "fileobj.seek(0)\n",
    "fileobj.read()"
   ]
  },
  {
   "cell_type": "code",
   "execution_count": 23,
   "id": "c679d5f2",
   "metadata": {},
   "outputs": [
    {
     "data": {
      "text/plain": [
       "'ew file created using open() function.Python is easy programming language. We are learning about files and file handling'"
      ]
     },
     "execution_count": 23,
     "metadata": {},
     "output_type": "execute_result"
    }
   ],
   "source": [
    "# seek(9) -> new initial position\n",
    "fileobj.seek(9)\n",
    "fileobj.read()"
   ]
  },
  {
   "cell_type": "code",
   "execution_count": 24,
   "id": "e2f98c6e",
   "metadata": {},
   "outputs": [
    {
     "data": {
      "text/plain": [
       "129"
      ]
     },
     "execution_count": 24,
     "metadata": {},
     "output_type": "execute_result"
    }
   ],
   "source": [
    "# returns the cursor position \n",
    "fileobj.tell()"
   ]
  },
  {
   "cell_type": "code",
   "execution_count": 25,
   "id": "2794fd0c",
   "metadata": {},
   "outputs": [
    {
     "data": {
      "text/plain": [
       "'This is new file created using open() function.Python is easy programming language. We are learning about files and file handling'"
      ]
     },
     "execution_count": 25,
     "metadata": {},
     "output_type": "execute_result"
    }
   ],
   "source": [
    "fileobj.seek(0)\n",
    "fileobj.read()"
   ]
  },
  {
   "cell_type": "markdown",
   "id": "4e55fa0d",
   "metadata": {},
   "source": [
    "### Exercise: Read first 5 lines of file using readlines. "
   ]
  },
  {
   "cell_type": "code",
   "execution_count": 26,
   "id": "9bb08f7d",
   "metadata": {},
   "outputs": [
    {
     "name": "stdout",
     "output_type": "stream",
     "text": [
      "This is exception handling\n"
     ]
    },
    {
     "ename": "IndexError",
     "evalue": "list index out of range",
     "output_type": "error",
     "traceback": [
      "\u001b[1;31m---------------------------------------------------------------------------\u001b[0m",
      "\u001b[1;31mIndexError\u001b[0m                                Traceback (most recent call last)",
      "\u001b[1;32m~\\AppData\\Local\\Temp\\ipykernel_2160\\3059141237.py\u001b[0m in \u001b[0;36m<module>\u001b[1;34m\u001b[0m\n\u001b[0;32m      2\u001b[0m \u001b[0mk\u001b[0m\u001b[1;33m=\u001b[0m\u001b[0mnewobj2\u001b[0m\u001b[1;33m.\u001b[0m\u001b[0mreadlines\u001b[0m\u001b[1;33m(\u001b[0m\u001b[1;33m)\u001b[0m\u001b[1;33m\u001b[0m\u001b[1;33m\u001b[0m\u001b[0m\n\u001b[0;32m      3\u001b[0m \u001b[1;32mfor\u001b[0m \u001b[0mi\u001b[0m \u001b[1;32min\u001b[0m \u001b[0mrange\u001b[0m\u001b[1;33m(\u001b[0m\u001b[1;36m5\u001b[0m\u001b[1;33m)\u001b[0m\u001b[1;33m:\u001b[0m\u001b[1;33m\u001b[0m\u001b[1;33m\u001b[0m\u001b[0m\n\u001b[1;32m----> 4\u001b[1;33m     \u001b[0mprint\u001b[0m\u001b[1;33m(\u001b[0m\u001b[0mk\u001b[0m\u001b[1;33m[\u001b[0m\u001b[0mi\u001b[0m\u001b[1;33m]\u001b[0m\u001b[1;33m)\u001b[0m\u001b[1;33m\u001b[0m\u001b[1;33m\u001b[0m\u001b[0m\n\u001b[0m",
      "\u001b[1;31mIndexError\u001b[0m: list index out of range"
     ]
    }
   ],
   "source": [
    "newobj2 = open(\"C:/Users/kkashyap/text.txt\",'r')\n",
    "k=newobj2.readlines()\n",
    "for i in range(5):\n",
    "    print(k[i])"
   ]
  },
  {
   "cell_type": "code",
   "execution_count": null,
   "id": "5e10925a",
   "metadata": {},
   "outputs": [],
   "source": [
    "newobj.seek(0)\n",
    "count=0\n",
    "for i in newobj.readlines():\n",
    "    if count<5:\n",
    "        print(i)\n",
    "    else:\n",
    "        break\n",
    "    count+=1\n",
    "    "
   ]
  },
  {
   "cell_type": "markdown",
   "id": "8de43251",
   "metadata": {},
   "source": [
    "## Exceptions\n",
    "    * Python has many builtin exceptions (ZeroDivivsionError, EOFError, KeyError, Indentation Error, syntax error, fileNotFound error, EOLError etc.). These are raised when your program encounters an error."
   ]
  },
  {
   "cell_type": "code",
   "execution_count": null,
   "id": "f40e0a9f",
   "metadata": {},
   "outputs": [],
   "source": [
    "def calculate (a,b,symbol):\n",
    "    if symbol == '+':\n",
    "        print(a+b)\n",
    "    elif symbol == '-':\n",
    "        print(a-b)"
   ]
  },
  {
   "cell_type": "code",
   "execution_count": null,
   "id": "b26fce55",
   "metadata": {},
   "outputs": [],
   "source": [
    "# FileNotFoundError: will be raised if no file is found in location\n",
    "fileobj = open('F:/name')"
   ]
  },
  {
   "cell_type": "code",
   "execution_count": null,
   "id": "f5f0617b",
   "metadata": {},
   "outputs": [],
   "source": [
    "print(\"This is correct syntax \""
   ]
  },
  {
   "cell_type": "code",
   "execution_count": null,
   "id": "93318e0c",
   "metadata": {},
   "outputs": [],
   "source": [
    "print(\"This is correct syntax"
   ]
  },
  {
   "cell_type": "markdown",
   "id": "4d360845",
   "metadata": {},
   "source": [
    "### Exception Handling in Python\n",
    "    * When the exception occurs in Python program Interpreter stops the current process and it passes it to calling process until it is handled. If exception is handled the program will crash.\n",
    "    * Exception in python is handled by using 'try' statement. The 'try' lets yu test a block of code for errors"
   ]
  },
  {
   "cell_type": "code",
   "execution_count": null,
   "id": "d947d995",
   "metadata": {
    "scrolled": false
   },
   "outputs": [],
   "source": [
    "import sys\n",
    "num = int(input(\"enter denominator value\"))\n",
    "try:\n",
    "    print(100/num)\n",
    "except:\n",
    "    print(sys.exc_info()[1],'Exception Occured')\n",
    "print(\"Run this block of code always\")"
   ]
  },
  {
   "cell_type": "code",
   "execution_count": null,
   "id": "76936da9",
   "metadata": {},
   "outputs": [],
   "source": [
    "try:\n",
    "    file = open(\"C:/Users/kkashyap/text.txt\",'r')\n",
    "    file.write(\"This is exception handling\")\n",
    "except:\n",
    "    # write error message\n",
    "    print(sys.exc_info()[1],'Exception Occured')  \n",
    "else:\n",
    "    # success message\n",
    "    print(\"Write Successfully!!\")\n",
    "finally:\n",
    "    print(\"Run this block of code always.\")"
   ]
  },
  {
   "cell_type": "code",
   "execution_count": null,
   "id": "77b747e7",
   "metadata": {},
   "outputs": [],
   "source": [
    "try:\n",
    "    file = open(\"text.txt\",'w')\n",
    "    file.write(\"This is exception handling\")\n",
    "except:\n",
    "    # write error message\n",
    "    print(sys.exc_info()[1],'Exception Occured')\n",
    "else:\n",
    "    # success message\n",
    "    print(\"Write Successfully!!\")\n",
    "finally:\n",
    "    print(\"Run this block of code always.\")"
   ]
  },
  {
   "cell_type": "code",
   "execution_count": null,
   "id": "afd186fc",
   "metadata": {},
   "outputs": [],
   "source": [
    "import sys\n",
    "\n",
    "num = int(input(\"enter denominator value\"))\n",
    "try:\n",
    "    print(100/num)\n",
    "except ZeroDivisionError:\n",
    "    print(\"Can't divide by zero\")\n",
    "finally:\n",
    "    print(\"Run this block of code always!\")"
   ]
  },
  {
   "cell_type": "markdown",
   "id": "f5dd3ee5",
   "metadata": {},
   "source": [
    "### Exercise: Write a function that ask for an integer and prints the square of it. Use while loop with try, except and else block to take the accout for correct inputs."
   ]
  },
  {
   "cell_type": "code",
   "execution_count": null,
   "id": "f3cb6728",
   "metadata": {},
   "outputs": [],
   "source": [
    "import sys\n",
    "k=0\n",
    "try:\n",
    "    n = int(input(\"enter number\"))\n",
    "    while k<=n:\n",
    "        sq=n**2\n",
    "        k+=1\n",
    "except:\n",
    "     print(sys.exc_info()[1],'Exception Occured')\n",
    "else:\n",
    "     print(sq)\n",
    "finally:\n",
    "    print(\"Run this block of code always!\")"
   ]
  },
  {
   "cell_type": "code",
   "execution_count": null,
   "id": "b42b92ec",
   "metadata": {},
   "outputs": [],
   "source": [
    "def ask():\n",
    "    while True:\n",
    "        try:\n",
    "            num=int(input(\"Input an integer value\"))\n",
    "        except:\n",
    "            print(\"An error has occured\")\n",
    "            continue\n",
    "        else:\n",
    "            print(\"Success\")\n",
    "            break\n",
    "    print(\"Thank you! squared value is:\", num**2)"
   ]
  },
  {
   "cell_type": "code",
   "execution_count": null,
   "id": "b59acfe8",
   "metadata": {},
   "outputs": [],
   "source": [
    "ask()"
   ]
  },
  {
   "cell_type": "markdown",
   "id": "386712b2",
   "metadata": {},
   "source": [
    "### Exercise"
   ]
  },
  {
   "cell_type": "markdown",
   "id": "8b4c36eb",
   "metadata": {},
   "source": [
    "1. Create a python program to find duplicate files by content. User will input path and it will scan all directories,\n",
    "   subdirectories to find duplicate files.\n",
    "2. Delete the duplicate file\n",
    "* HINT: use hashlib "
   ]
  },
  {
   "cell_type": "code",
   "execution_count": null,
   "id": "55bbd0fd",
   "metadata": {},
   "outputs": [],
   "source": [
    "import hashlib\n",
    "import os\n",
    "import sys\n",
    "str =\"\"\n",
    "str = input(\"Enter directory path: \");\n",
    "\n"
   ]
  },
  {
   "cell_type": "markdown",
   "id": "4e5263fb",
   "metadata": {},
   "source": [
    "3. Generate random password with exact length = 6, with minimum 1 uppercase, 2 lowecase, 3 digits\n",
    "   * hint : [random,string]"
   ]
  },
  {
   "cell_type": "code",
   "execution_count": null,
   "id": "01a67a3d",
   "metadata": {},
   "outputs": [],
   "source": [
    "import random\n",
    "import string\n",
    "up_str= \"ABCDEFGHIJKLMNOPQRSTUVWXYZ\";\n",
    "low_str = \"abcdefghijklmnopqrstuvwxyz\"\n",
    "number = \"0123456789\"\n",
    "password = up_str+low_str+number\n",
    "length = 10\n",
    "\n",
    "for i in length:\n",
    "    random.\n",
    "    "
   ]
  },
  {
   "cell_type": "code",
   "execution_count": null,
   "id": "1698967e",
   "metadata": {},
   "outputs": [],
   "source": [
    "import random\n",
    "import string\n",
    "L=6\n",
    "res = ''.join(random.choices(string.ascii_uppercase + string.ascii_lowercase+\n",
    "                             string.digits, k=6))\n",
    "print(password)"
   ]
  },
  {
   "cell_type": "code",
   "execution_count": null,
   "id": "24fa6774",
   "metadata": {},
   "outputs": [],
   "source": [
    "import random\n",
    "import string\n",
    "n1 = random.randint(0, 9)\n",
    "n2 = random.randint(0, 9)\n",
    "n3 = random.randint(0, 9)\n",
    "l1 = random.choice(string.ascii_lowercase)\n",
    "l2 = random.choice(string.ascii_lowercase)\n",
    "u1 = random.choice(string.ascii_uppercase)\n",
    "\n",
    "print(\"Password {} :\".format((u1)+(l1)+(l2)+ str(n1) + str(n2) + str(n3)))"
   ]
  },
  {
   "cell_type": "code",
   "execution_count": null,
   "id": "a82013c3",
   "metadata": {},
   "outputs": [],
   "source": [
    "import random\n",
    "import string\n"
   ]
  }
 ],
 "metadata": {
  "kernelspec": {
   "display_name": "Python 3 (ipykernel)",
   "language": "python",
   "name": "python3"
  },
  "language_info": {
   "codemirror_mode": {
    "name": "ipython",
    "version": 3
   },
   "file_extension": ".py",
   "mimetype": "text/x-python",
   "name": "python",
   "nbconvert_exporter": "python",
   "pygments_lexer": "ipython3",
   "version": "3.9.13"
  }
 },
 "nbformat": 4,
 "nbformat_minor": 5
}
