{
 "cells": [
  {
   "cell_type": "markdown",
   "id": "5f1fe116-e7cf-45e1-86a5-473445d9952f",
   "metadata": {},
   "source": [
    "### 1. Using keys and indexing, grab the 'hello' afrom the following dictionary"
   ]
  },
  {
   "cell_type": "code",
   "execution_count": 12,
   "id": "061e2dba-e128-4942-be35-b45c680d013c",
   "metadata": {},
   "outputs": [],
   "source": [
    "d = {'k1':[1,2,{'k2':['this is tricky',{'tough':[1,2,['hello']]}]}]}"
   ]
  },
  {
   "cell_type": "code",
   "execution_count": 43,
   "id": "504c0bfc",
   "metadata": {},
   "outputs": [
    {
     "data": {
      "text/plain": [
       "'hello'"
      ]
     },
     "execution_count": 43,
     "metadata": {},
     "output_type": "execute_result"
    }
   ],
   "source": [
    "d['k1'][2]['k2'][1]['tough'][2][0]"
   ]
  },
  {
   "cell_type": "markdown",
   "id": "689c01fb-3911-40be-8e0b-00a8eab4dd18",
   "metadata": {},
   "source": [
    "### 2. Write a Python function that takes a list and returns a new list with unique elements of the first list.\n",
    "**!!!! DO NOT USE list(set())**  \\\n",
    "    Sample List : [1,1,1,1,2,2,3,3,3,3,4,5]   \\\n",
    "    Unique List : [1, 2, 3, 4, 5]"
   ]
  },
  {
   "cell_type": "code",
   "execution_count": 4,
   "id": "e63df422",
   "metadata": {},
   "outputs": [
    {
     "name": "stdout",
     "output_type": "stream",
     "text": [
      "[1, 2, 3, 4, 5]\n"
     ]
    }
   ],
   "source": [
    "def unique(u):\n",
    "  list1 = []\n",
    "  for i in u:\n",
    "    if i not in list1:\n",
    "      list1.append(i)\n",
    "  return list1\n",
    "\n",
    "print(unique([1,1,1,1,2,2,3,3,3,3,4,5])) "
   ]
  },
  {
   "cell_type": "markdown",
   "id": "cb41f026-decb-4b3c-9fb7-b27c2646fb04",
   "metadata": {},
   "source": [
    "### 3. Write a Python function that accepts a string and calculates the number of upper case letters and lower case letters.\n",
    "\n",
    "    Sample String : 'Hello Mr. Roshan, how are you this fine Tuesday?'\n",
    "    Expected Output : \n",
    "    No. of Upper case characters : 4\n",
    "    No. of Lower case Characters : 33"
   ]
  },
  {
   "cell_type": "code",
   "execution_count": 47,
   "id": "d30399c9",
   "metadata": {},
   "outputs": [
    {
     "name": "stdout",
     "output_type": "stream",
     "text": [
      "Original String :  Hello Mr. Roshan, how are you this fine Tuesday?\n",
      "No. of Upper case characters :  4\n",
      "No. of Lower case Characters :  33\n"
     ]
    }
   ],
   "source": [
    "def check(string):\n",
    "    d={\"upper\":0, \"lower\":0}\n",
    "    for i in string:\n",
    "        if i.isupper():\n",
    "           d[\"upper\"]+=1\n",
    "        elif i.islower():\n",
    "           d[\"lower\"]+=1\n",
    "        else:\n",
    "           pass\n",
    "    print (\"Original String : \", string)\n",
    "    print (\"No. of Upper case characters : \", d[\"upper\"])\n",
    "    print (\"No. of Lower case Characters : \", d[\"lower\"])\n",
    "\n",
    "check('Hello Mr. Roshan, how are you this fine Tuesday?')"
   ]
  },
  {
   "cell_type": "markdown",
   "id": "8a0e1caf-e446-40e5-9418-348d5a9394d2",
   "metadata": {},
   "source": [
    "### 4.Create & Read a file constitution.txt. Create a dictionary with an entry for each letter in the alphabet. The keys are letters and the values will be the counts of the number of times a letter has viewed. Go through each character in data, skipping characters that aren't letters. For every letter, increment the count stored in letter_counts for that letter. Create a bar chart for the letter frequencies."
   ]
  },
  {
   "cell_type": "code",
   "execution_count": 63,
   "id": "674bb0c5",
   "metadata": {},
   "outputs": [
    {
     "name": "stdout",
     "output_type": "stream",
     "text": [
      "6\n"
     ]
    }
   ],
   "source": [
    "newFile = open(\"constitution.txt\",\"w\")\n",
    "newFile.write('qazswxawqxzsq')\n",
    "newFile.close()\n",
    "newFile = open(\"constitution.txt\",\"r\")\n",
    "text = newFile.read()\n",
    "textList = list(set(text.lower()))\n",
    "freqDir = {}\n",
    "count=0\n",
    "for i in textList:\n",
    "    freqDir[i] = 0\n",
    "    count = count+1\n",
    "for i in text:\n",
    "    freqDir[i.lower()]+=1\n",
    "letter_count = count\n",
    "print(letter_count)\n",
    "newFile.close()"
   ]
  },
  {
   "cell_type": "markdown",
   "id": "d9efe72b-87cb-4430-8a82-05e5050f92bc",
   "metadata": {},
   "source": [
    "### 5. For this challenge,\n",
    "\n",
    "Create a bank account class that has two attributes:\n",
    "\n",
    "owner balance and two methods:\n",
    "\n",
    "deposit withdraw As an added requirement, withdrawals may not exceed the available balance.\n",
    "\n",
    "Instantiate your class, make several deposits and withdrawals, and test to make sure the account can't be overdrawn."
   ]
  },
  {
   "cell_type": "code",
   "execution_count": 37,
   "id": "3e38cb68",
   "metadata": {
    "scrolled": true
   },
   "outputs": [
    {
     "name": "stdout",
     "output_type": "stream",
     "text": [
      "Deposit Accepted\n",
      "Amount cannot be overdrawn\n"
     ]
    }
   ],
   "source": [
    "class Bank_Account:\n",
    "    def __init__(self,owner,balance=0):\n",
    "        self.owner = owner\n",
    "        self.balance = balance\n",
    "    def deposit(self,depo_amt):\n",
    "        self.balance += depo_amt\n",
    "        print('Deposit Accepted')\n",
    "    def withdraw(self,wdt_amt):\n",
    "        if self.balance >= wdt_amt:\n",
    "            self.balance -= wdt_amt\n",
    "            print('Withdrawal Accepted')\n",
    "        else:\n",
    "            print('Amount cannot be overdrawn')\n",
    "            \n",
    "obj = Bank_Account(\"Kanishk\")\n",
    "obj.deposit(500)\n",
    "obj.withdraw(800)"
   ]
  },
  {
   "cell_type": "markdown",
   "id": "9d59550f-c8a5-4149-ad3f-f275a39c8086",
   "metadata": {},
   "source": [
    "### 6. Playing Cards\n",
    "4 suits (Hearts, Diamonds, Spades and Clubs)\n",
    "13 ranks (2 through 10, then the face cards Jack, Queen, King and Ace)\n",
    "\n",
    "    -- Total 52 Cards\n",
    "\n",
    "### The Game\n",
    " Jacks, Queens and Kings all have a rank of 10. Aces have a rank of either 11 or 1 as needed to reach 21 without busting. As a starting point in your program, you may want to assign variables to store a list of suits, ranks, and then use a dictionary to map ranks to values.\n",
    " 1. Create a deck of 52 cards\n",
    " 2. Shuffle the deck.\n",
    " 3. Display the winner if somebody's getting an Ace."
   ]
  },
  {
   "cell_type": "code",
   "execution_count": null,
   "id": "57ebdf03",
   "metadata": {},
   "outputs": [],
   "source": [
    "import random\n",
    "suits = \n",
    "ranks = \n"
   ]
  },
  {
   "cell_type": "markdown",
   "id": "1d243239-dc35-4280-9e41-d75ea100b58d",
   "metadata": {},
   "source": [
    "### 7. Generate Password: 17 characters , minimum 1 Uppercase, 1 lowercase, 1 digits and 2 minimun special characters"
   ]
  },
  {
   "cell_type": "code",
   "execution_count": 60,
   "id": "89ec4c66",
   "metadata": {},
   "outputs": [
    {
     "name": "stdout",
     "output_type": "stream",
     "text": [
      "S:*Su?cj'Vngi<M4M\n"
     ]
    }
   ],
   "source": [
    "import random\n",
    "import string\n",
    "# n1 = random.randint(0, 9)\n",
    "# n2 = random.randint(0, 9)\n",
    "# n3 = random.randint(0, 9)\n",
    "# l1 = random.choice(string.ascii_lowercase)\n",
    "# l2 = random.choice(string.ascii_lowercase)\n",
    "# u1 = random.choice(string.ascii_uppercase)\n",
    "\n",
    "# # print(\"Password {} \".format((u1)+(l1)+(l2)+ str(n1) + str(n2) + str(n3)))/\n",
    "# password = [str(n1),str(2),str(n3),l1,l2,u1]\n",
    "# random.shuffle(password)\n",
    "# new_pass = \"\"\n",
    "# for i in password:\n",
    "#     new_pass+=i\n",
    "    \n",
    "# print(new_pass)\n",
    "\n",
    "import random\n",
    "import string\n",
    "password = ''.join(random.choices(string.ascii_uppercase + string.ascii_lowercase+\n",
    "                             string.digits+string.punctuation, k=17))\n",
    "print(password)"
   ]
  },
  {
   "cell_type": "markdown",
   "id": "5090a46a-a0f2-45e5-b058-f200ab845335",
   "metadata": {},
   "source": [
    "### 8. you are given a list which is [3, 5, 7, 3, 5, 7, 3, 545, 34, 235, 234, 6]. You have to sort it such that the seventh element is greatest of all, second element is greater than last element and second last element is not greater than sum of 8 and sixth element"
   ]
  },
  {
   "cell_type": "code",
   "execution_count": 70,
   "id": "5a6866b5-fbff-4206-be46-a51961090c8b",
   "metadata": {},
   "outputs": [
    {
     "name": "stdout",
     "output_type": "stream",
     "text": [
      "[3, 234, 7, 3, 5, 7, 545, 3, 34, 235, 5, 6]\n"
     ]
    }
   ],
   "source": [
    "list1 = [3, 5, 7, 3, 5, 7, 3, 545, 34, 235, 234, 6]\n",
    "mx = max(list1)\n",
    "if mx!=list1[6]:\n",
    "    list1[6],list1[7] = list1[7],list1[6]\n",
    "\n",
    "if list1[1] < list1[11]:\n",
    "    list1[1],list1[10]=list1[10],list1[1]\n",
    "    \n",
    "if list1[10] > list1[5] + list1[7]:\n",
    "    list1[5],list1[6] = list1[6],list1[5]\n",
    "print(list1)"
   ]
  },
  {
   "cell_type": "code",
   "execution_count": null,
   "id": "4e5ccb5a",
   "metadata": {},
   "outputs": [],
   "source": []
  }
 ],
 "metadata": {
  "kernelspec": {
   "display_name": "Python 3 (ipykernel)",
   "language": "python",
   "name": "python3"
  },
  "language_info": {
   "codemirror_mode": {
    "name": "ipython",
    "version": 3
   },
   "file_extension": ".py",
   "mimetype": "text/x-python",
   "name": "python",
   "nbconvert_exporter": "python",
   "pygments_lexer": "ipython3",
   "version": "3.9.13"
  }
 },
 "nbformat": 4,
 "nbformat_minor": 5
}
