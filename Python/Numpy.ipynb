{
 "cells": [
  {
   "cell_type": "raw",
   "id": "bbb0c564",
   "metadata": {},
   "source": [
    "Different file formats:\n",
    "\n",
    "Structured: data is arranged in a tabular form\n",
    "e.g.-> RDBMS, Excel, MS Access\n",
    "-----------\n",
    "delimiter => space,comma,semi colon,tab\n",
    "\n",
    "SemiStructured:\n",
    "---------------\n",
    "json => key value pair\n",
    "{'id':'Ex1001', 'name':'Kanishk'}\n",
    "\n",
    "XML .xml\n",
    "<rowid>\n",
    "<orderid>Ebay1001</orderid>\n",
    "<productid>100023234</productid>\n",
    "<price>$99</price>\n",
    "</rowid>\n",
    "\n",
    "Unstructured:\n",
    "-------------\n",
    "textfile, pdf, docs, images, video, audio, signal\n",
    "\n",
    "#Big Data File Formats\n",
    "----------------------\n",
    "These files store data in compressed format.\n",
    "parquet, avro -> \"Hive\""
   ]
  },
  {
   "cell_type": "code",
   "execution_count": 2,
   "id": "11409670",
   "metadata": {},
   "outputs": [],
   "source": [
    "# Numerical Python  (numpy alias as np)\n",
    "import numpy as np"
   ]
  },
  {
   "cell_type": "code",
   "execution_count": 3,
   "id": "a79e7e45",
   "metadata": {},
   "outputs": [
    {
     "name": "stdout",
     "output_type": "stream",
     "text": [
      "1.21.5\n"
     ]
    }
   ],
   "source": [
    "print(np.__version__)"
   ]
  },
  {
   "cell_type": "markdown",
   "id": "c5c8316c",
   "metadata": {},
   "source": [
    "### Numpy Array"
   ]
  },
  {
   "cell_type": "code",
   "execution_count": 4,
   "id": "d4222e3e",
   "metadata": {},
   "outputs": [
    {
     "data": {
      "text/plain": [
       "array([1, 2, 3, 4, 5, 6, 7, 8, 9])"
      ]
     },
     "execution_count": 4,
     "metadata": {},
     "output_type": "execute_result"
    }
   ],
   "source": [
    "list1 = [1,2,3,4,5,6,7,8,9]\n",
    "np.array(list1)"
   ]
  },
  {
   "cell_type": "code",
   "execution_count": 7,
   "id": "611d25e5",
   "metadata": {},
   "outputs": [
    {
     "data": {
      "text/plain": [
       "numpy.ndarray"
      ]
     },
     "execution_count": 7,
     "metadata": {},
     "output_type": "execute_result"
    }
   ],
   "source": [
    "# N-Dimensional Array\n",
    "type(np.array(list1))"
   ]
  },
  {
   "cell_type": "code",
   "execution_count": 8,
   "id": "f30a0cde",
   "metadata": {},
   "outputs": [],
   "source": [
    "arr1=np.array(list1)"
   ]
  },
  {
   "cell_type": "code",
   "execution_count": 9,
   "id": "a9281ee0",
   "metadata": {},
   "outputs": [
    {
     "data": {
      "text/plain": [
       "dtype('int32')"
      ]
     },
     "execution_count": 9,
     "metadata": {},
     "output_type": "execute_result"
    }
   ],
   "source": [
    "arr1.dtype"
   ]
  },
  {
   "cell_type": "code",
   "execution_count": 11,
   "id": "b7b7e048",
   "metadata": {},
   "outputs": [
    {
     "data": {
      "text/plain": [
       "(9,)"
      ]
     },
     "execution_count": 11,
     "metadata": {},
     "output_type": "execute_result"
    }
   ],
   "source": [
    "arr1.shape"
   ]
  },
  {
   "cell_type": "code",
   "execution_count": 12,
   "id": "0a178c92",
   "metadata": {},
   "outputs": [
    {
     "data": {
      "text/plain": [
       "1"
      ]
     },
     "execution_count": 12,
     "metadata": {},
     "output_type": "execute_result"
    }
   ],
   "source": [
    "arr1.ndim"
   ]
  },
  {
   "cell_type": "code",
   "execution_count": 14,
   "id": "337c6106",
   "metadata": {},
   "outputs": [
    {
     "name": "stdout",
     "output_type": "stream",
     "text": [
      "4\n"
     ]
    }
   ],
   "source": [
    "print(arr1.itemsize)"
   ]
  },
  {
   "cell_type": "code",
   "execution_count": 15,
   "id": "c5a0f513",
   "metadata": {},
   "outputs": [
    {
     "name": "stdout",
     "output_type": "stream",
     "text": [
      "36\n"
     ]
    }
   ],
   "source": [
    "print(arr1.nbytes)"
   ]
  },
  {
   "cell_type": "markdown",
   "id": "1625eba0",
   "metadata": {},
   "source": [
    "### Array Operations\n",
    "    * Simple Array Math Operations"
   ]
  },
  {
   "cell_type": "markdown",
   "id": "108cceda",
   "metadata": {},
   "source": [
    "* Why Numpy are better than lists"
   ]
  },
  {
   "cell_type": "code",
   "execution_count": 26,
   "id": "f46b0571",
   "metadata": {},
   "outputs": [
    {
     "name": "stdout",
     "output_type": "stream",
     "text": [
      "[5.0, 5.0, 10.0, 6.666666666666667, 10.0, 10.0, 10.0, 10.0, 10.0]\n"
     ]
    }
   ],
   "source": [
    "list1 = [10,20,30,40,50,60,70,80,90]\n",
    "list2 = [2,4,3,6,5,6,7,8,9]\n",
    "list3 =[]\n",
    "for i in range (len(list1)):\n",
    "    list3.append(list1[i]/list2[i])\n",
    "    \n",
    "print(list3)"
   ]
  },
  {
   "cell_type": "code",
   "execution_count": 30,
   "id": "7a680c17",
   "metadata": {},
   "outputs": [
    {
     "data": {
      "text/plain": [
       "array([ 5.        ,  5.        , 10.        ,  6.66666667, 10.        ,\n",
       "       10.        , 10.        , 10.        , 10.        ])"
      ]
     },
     "execution_count": 30,
     "metadata": {},
     "output_type": "execute_result"
    }
   ],
   "source": [
    "arr1 =np.array([10,20,30,40,50,60,70,80,90])\n",
    "arr2 =np.array([2,4,3,6,5,6,7,8,9])\n",
    "# element by element division\n",
    "arr1/arr2"
   ]
  },
  {
   "cell_type": "code",
   "execution_count": 32,
   "id": "0515b034",
   "metadata": {},
   "outputs": [
    {
     "data": {
      "text/plain": [
       "array([ 0,  1,  2,  3,  4,  5,  6,  7,  8,  9, 10])"
      ]
     },
     "execution_count": 32,
     "metadata": {},
     "output_type": "execute_result"
    }
   ],
   "source": [
    "# generates numpy array using arange(start,stop,step)\n",
    "np.arange(0,11)"
   ]
  },
  {
   "cell_type": "code",
   "execution_count": 33,
   "id": "81aefea7",
   "metadata": {},
   "outputs": [
    {
     "data": {
      "text/plain": [
       "array([ 2,  4,  6,  8, 10, 12, 14, 16, 18, 20])"
      ]
     },
     "execution_count": 33,
     "metadata": {},
     "output_type": "execute_result"
    }
   ],
   "source": [
    "np.arange(2,21,2)"
   ]
  },
  {
   "cell_type": "markdown",
   "id": "b8e80a7c",
   "metadata": {},
   "source": [
    "### Types of Numpy Array"
   ]
  },
  {
   "cell_type": "code",
   "execution_count": 48,
   "id": "77177ad7",
   "metadata": {},
   "outputs": [
    {
     "name": "stdout",
     "output_type": "stream",
     "text": [
      "[10 12 15 16 18 20 25  0]\n"
     ]
    }
   ],
   "source": [
    "# dtype = data type with size\n",
    "# int8, int16, int32, int64\n",
    "# -128 to +127\n",
    "arr1 = np.array([10,12,15,16,18,20,25,256], dtype = 'int8')\n",
    "print(arr1)"
   ]
  },
  {
   "cell_type": "code",
   "execution_count": 41,
   "id": "1da3adea",
   "metadata": {},
   "outputs": [
    {
     "name": "stdout",
     "output_type": "stream",
     "text": [
      "[10. 12. 15. 16. 18. 20. 25.]\n"
     ]
    }
   ],
   "source": [
    "arr2 = np.array([10.,12.,15.,16.,18.,20.,25.], dtype = 'float16')\n",
    "print(arr2)"
   ]
  },
  {
   "cell_type": "code",
   "execution_count": 43,
   "id": "b86114bd",
   "metadata": {},
   "outputs": [
    {
     "data": {
      "text/plain": [
       "136"
      ]
     },
     "execution_count": 43,
     "metadata": {},
     "output_type": "execute_result"
    }
   ],
   "source": [
    "list1.__sizeof__()"
   ]
  },
  {
   "cell_type": "code",
   "execution_count": 44,
   "id": "708da856",
   "metadata": {},
   "outputs": [
    {
     "data": {
      "text/plain": [
       "112"
      ]
     },
     "execution_count": 44,
     "metadata": {},
     "output_type": "execute_result"
    }
   ],
   "source": [
    "arr1.__sizeof__()"
   ]
  },
  {
   "cell_type": "code",
   "execution_count": 51,
   "id": "b815ef5a",
   "metadata": {},
   "outputs": [
    {
     "data": {
      "text/plain": [
       "36"
      ]
     },
     "execution_count": 51,
     "metadata": {},
     "output_type": "execute_result"
    }
   ],
   "source": [
    "arr3 = np.array([10,20,30,40,50,60,70,80,90])\n",
    "arr3.nbytes"
   ]
  },
  {
   "cell_type": "code",
   "execution_count": 111,
   "id": "b2226318",
   "metadata": {},
   "outputs": [
    {
     "name": "stdout",
     "output_type": "stream",
     "text": [
      "4999950000\n"
     ]
    }
   ],
   "source": [
    "# create a list with range 1,1000000\n",
    "#list version\n",
    "list_1=list(range(1,100000))\n",
    "def list_version(list_1):\n",
    "    add=0\n",
    "    for i in list_1:\n",
    "        add+=i   \n",
    "        \n",
    "    print(add)\n",
    "list_version(list_1)"
   ]
  },
  {
   "cell_type": "code",
   "execution_count": 110,
   "id": "d0ebe86e",
   "metadata": {},
   "outputs": [
    {
     "name": "stdout",
     "output_type": "stream",
     "text": [
      "704982704\n"
     ]
    }
   ],
   "source": [
    "#numpy version\n",
    "arr_1=np.arange(1,100000)\n",
    "def numpy_version(arr_1):\n",
    "    add= 0\n",
    "    add=arr_1.sum()\n",
    "    print(add)\n",
    "numpy_version(arr_1)        "
   ]
  },
  {
   "cell_type": "code",
   "execution_count": 106,
   "id": "92a4774b",
   "metadata": {},
   "outputs": [],
   "source": [
    "import time\n",
    "size = 100000\n",
    "def list_version():\n",
    "    start = time.time()\n",
    "    x=range(size)\n",
    "    y=range(size)\n",
    "    #element by element addtion\n",
    "    Z=[x[i]+y[i] for i in range(len(x))]\n",
    "    return time.time() - start\n",
    "\n",
    "def numpy_version():\n",
    "    start = time.time()\n",
    "    x=np.arange(size)\n",
    "    y=np.arange(size)\n",
    "    z=x+y\n",
    "    return time.time() - start"
   ]
  },
  {
   "cell_type": "code",
   "execution_count": 107,
   "id": "f4273e1c",
   "metadata": {},
   "outputs": [
    {
     "data": {
      "text/plain": [
       "0.056116580963134766"
      ]
     },
     "execution_count": 107,
     "metadata": {},
     "output_type": "execute_result"
    }
   ],
   "source": [
    "list_version()\n",
    "    "
   ]
  },
  {
   "cell_type": "code",
   "execution_count": 109,
   "id": "0ef6ab13",
   "metadata": {},
   "outputs": [
    {
     "data": {
      "text/plain": [
       "0.005239963531494141"
      ]
     },
     "execution_count": 109,
     "metadata": {},
     "output_type": "execute_result"
    }
   ],
   "source": [
    "numpy_version()"
   ]
  },
  {
   "cell_type": "markdown",
   "id": "94fe38d7",
   "metadata": {},
   "source": [
    "#### Two Dimensional Array\n"
   ]
  },
  {
   "cell_type": "code",
   "execution_count": 116,
   "id": "36ad29dc",
   "metadata": {},
   "outputs": [],
   "source": [
    "arr2 = np.array([[0,1,2,3,4,5,6,7],\n",
    "        [10,11,12,13,14,15,16,17]])"
   ]
  },
  {
   "cell_type": "code",
   "execution_count": 117,
   "id": "7affafbf",
   "metadata": {},
   "outputs": [
    {
     "data": {
      "text/plain": [
       "(2, 8)"
      ]
     },
     "execution_count": 117,
     "metadata": {},
     "output_type": "execute_result"
    }
   ],
   "source": [
    "arr2.shape"
   ]
  },
  {
   "cell_type": "code",
   "execution_count": 118,
   "id": "2cd6f2de",
   "metadata": {},
   "outputs": [
    {
     "data": {
      "text/plain": [
       "(2, 8)"
      ]
     },
     "execution_count": 118,
     "metadata": {},
     "output_type": "execute_result"
    }
   ],
   "source": [
    "# shape[0] = rows, shape[1]=columns\n",
    "arr2.shape[0],arr2.shape[1]"
   ]
  },
  {
   "cell_type": "code",
   "execution_count": 119,
   "id": "ff3021a3",
   "metadata": {},
   "outputs": [
    {
     "name": "stdout",
     "output_type": "stream",
     "text": [
      "2\n"
     ]
    }
   ],
   "source": [
    "#returns dimensions\n",
    "print(arr2.ndim)"
   ]
  },
  {
   "cell_type": "code",
   "execution_count": 121,
   "id": "b2128116",
   "metadata": {},
   "outputs": [
    {
     "data": {
      "text/plain": [
       "array([0, 1, 2, 3, 4, 5, 6, 7])"
      ]
     },
     "execution_count": 121,
     "metadata": {},
     "output_type": "execute_result"
    }
   ],
   "source": [
    "# slicing in numpy array\n",
    "\n",
    "#displays first row\n",
    "arr2[0]"
   ]
  },
  {
   "cell_type": "code",
   "execution_count": 127,
   "id": "0cc955aa",
   "metadata": {},
   "outputs": [
    {
     "name": "stdout",
     "output_type": "stream",
     "text": [
      "13\n",
      "13\n"
     ]
    }
   ],
   "source": [
    "#displays single row element\n",
    "print(arr2[1][3])\n",
    "print(arr2[1,3])"
   ]
  },
  {
   "cell_type": "code",
   "execution_count": 129,
   "id": "65bfcfc7",
   "metadata": {},
   "outputs": [
    {
     "data": {
      "text/plain": [
       "17"
      ]
     },
     "execution_count": 129,
     "metadata": {},
     "output_type": "execute_result"
    }
   ],
   "source": [
    "#indexing 2D array \n",
    "# first -1 is for row and the next -1 is for columns\n",
    "arr2[-1,-1] "
   ]
  },
  {
   "cell_type": "code",
   "execution_count": 131,
   "id": "832d564e",
   "metadata": {},
   "outputs": [
    {
     "data": {
      "text/plain": [
       "array([[ 0,  1,  2,  3,  4,  5,  6,  7],\n",
       "       [10, 11, 12, 13, 14, 15, 16, 15]])"
      ]
     },
     "execution_count": 131,
     "metadata": {},
     "output_type": "execute_result"
    }
   ],
   "source": [
    "#update an numpy array\n",
    "arr2[-1,-1]=15\n",
    "arr2"
   ]
  },
  {
   "cell_type": "code",
   "execution_count": 135,
   "id": "8b2f5ea3",
   "metadata": {},
   "outputs": [
    {
     "data": {
      "text/plain": [
       "array([[0, 1, 2, 3, 4, 5, 6]])"
      ]
     },
     "execution_count": 135,
     "metadata": {},
     "output_type": "execute_result"
    }
   ],
   "source": [
    "# slicing to 2D array\n",
    "#displays all rows and columns except last row and last column\n",
    "arr2[:-1,:-1]"
   ]
  },
  {
   "cell_type": "markdown",
   "id": "244b2db2",
   "metadata": {},
   "source": [
    "### Three Dimensional Array"
   ]
  },
  {
   "cell_type": "code",
   "execution_count": 140,
   "id": "7979cfdd",
   "metadata": {},
   "outputs": [],
   "source": [
    "# 3D Array -> Tensor\n",
    "arr3 = np.array([[[0,1,2,3,4,5,6,7],\n",
    "                  [10,11,12,13,14,15,16,17]],\n",
    "                 \n",
    "                 [[0,1,2,3,4,5,6,7],                 \n",
    "                  [10,11,12,13,14,15,16,17]],\n",
    "                 \n",
    "                  [[0,1,2,3,4,5,6,7],\n",
    "                  [10,11,12,13,14,15,16,17]]])"
   ]
  },
  {
   "cell_type": "code",
   "execution_count": 154,
   "id": "f6373eca",
   "metadata": {},
   "outputs": [
    {
     "data": {
      "text/plain": [
       "array([[[ 0,  1,  2,  3,  4,  5,  6,  7],\n",
       "        [10, 11, 12, 13, 14, 15, 16, 17]],\n",
       "\n",
       "       [[ 0,  1,  2,  3,  4,  5,  6,  7],\n",
       "        [10, 11, 12, 13, 14, 15, 16, 17]],\n",
       "\n",
       "       [[ 0,  1,  2,  3,  4,  5,  6,  7],\n",
       "        [10, 11, 12, 13, 14, 15, 16, 17]]])"
      ]
     },
     "execution_count": 154,
     "metadata": {},
     "output_type": "execute_result"
    }
   ],
   "source": [
    "arr3"
   ]
  },
  {
   "cell_type": "code",
   "execution_count": 142,
   "id": "0f94fcb4",
   "metadata": {},
   "outputs": [
    {
     "data": {
      "text/plain": [
       "(3, 2, 8)"
      ]
     },
     "execution_count": 142,
     "metadata": {},
     "output_type": "execute_result"
    }
   ],
   "source": [
    "# Rank, Rows, Columns\n",
    "arr3.shape"
   ]
  },
  {
   "cell_type": "code",
   "execution_count": 146,
   "id": "b713291b",
   "metadata": {},
   "outputs": [
    {
     "data": {
      "text/plain": [
       "14"
      ]
     },
     "execution_count": 146,
     "metadata": {},
     "output_type": "execute_result"
    }
   ],
   "source": [
    "arr3[1,1,4]"
   ]
  },
  {
   "cell_type": "code",
   "execution_count": 144,
   "id": "828059da",
   "metadata": {},
   "outputs": [
    {
     "data": {
      "text/plain": [
       "48"
      ]
     },
     "execution_count": 144,
     "metadata": {},
     "output_type": "execute_result"
    }
   ],
   "source": [
    "# shows length of all elements (3*2*8)\n",
    "# size = number of elements present in a array\n",
    "arr3.size"
   ]
  },
  {
   "cell_type": "markdown",
   "id": "39c138d4",
   "metadata": {},
   "source": [
    "#### Empty array & fill wth some constant value"
   ]
  },
  {
   "cell_type": "code",
   "execution_count": 148,
   "id": "9ce5399d",
   "metadata": {},
   "outputs": [
    {
     "data": {
      "text/plain": [
       "array([ 4.560e+02, -3.816e+00,  3.403e-05,  0.000e+00,  0.000e+00,\n",
       "        0.000e+00], dtype=float16)"
      ]
     },
     "execution_count": 148,
     "metadata": {},
     "output_type": "execute_result"
    }
   ],
   "source": [
    "arr4 = np.empty(6,dtype='float16')\n",
    "arr4"
   ]
  },
  {
   "cell_type": "code",
   "execution_count": 150,
   "id": "cd885924",
   "metadata": {},
   "outputs": [
    {
     "data": {
      "text/plain": [
       "array([[ 0,  1,  2,  3,  4,  5],\n",
       "       [ 6,  7,  8,  9, 10, 11],\n",
       "       [12, 13, 14, 15, 16, 17],\n",
       "       [18, 19, 20, 21, 22, 23],\n",
       "       [24, 25, 26, 27, 28, 29],\n",
       "       [30, 31, 32, 33, 34, 35]])"
      ]
     },
     "execution_count": 150,
     "metadata": {},
     "output_type": "execute_result"
    }
   ],
   "source": [
    "arr5 = np.arange(0,36).reshape(6,6)\n",
    "arr5"
   ]
  },
  {
   "cell_type": "code",
   "execution_count": 156,
   "id": "eec0d6ed",
   "metadata": {},
   "outputs": [
    {
     "data": {
      "text/plain": [
       "array([[[ 2,  3,  4],\n",
       "        [ 5,  6,  7],\n",
       "        [ 8,  9, 10]],\n",
       "\n",
       "       [[11, 12, 13],\n",
       "        [14, 15, 16],\n",
       "        [17, 18, 19]],\n",
       "\n",
       "       [[20, 21, 22],\n",
       "        [23, 24, 25],\n",
       "        [26, 27, 28]],\n",
       "\n",
       "       [[29, 30, 31],\n",
       "        [32, 33, 34],\n",
       "        [35, 36, 37]]])"
      ]
     },
     "execution_count": 156,
     "metadata": {},
     "output_type": "execute_result"
    }
   ],
   "source": [
    "arr5 = np.arange(2,38).reshape(4,3,3)\n",
    "arr5"
   ]
  },
  {
   "cell_type": "markdown",
   "id": "4fe5b777",
   "metadata": {},
   "source": [
    "#### Reverse of array"
   ]
  },
  {
   "cell_type": "code",
   "execution_count": 110,
   "id": "361ac7dd",
   "metadata": {},
   "outputs": [
    {
     "data": {
      "text/plain": [
       "array([ 0,  1,  2,  3,  4,  5,  6,  7,  8,  9, 10, 11, 12, 13, 14, 15, 16,\n",
       "       17, 18, 19, 20, 21, 22, 23, 24, 25, 26, 27, 28, 29, 30, 31, 32, 33,\n",
       "       34, 35, 36, 37, 38, 39, 40, 41, 42, 43, 44, 45, 46, 47, 48, 49])"
      ]
     },
     "execution_count": 110,
     "metadata": {},
     "output_type": "execute_result"
    }
   ],
   "source": [
    "arr6 = np.arange(50)\n",
    "arr6"
   ]
  },
  {
   "cell_type": "code",
   "execution_count": 111,
   "id": "588c72fe",
   "metadata": {},
   "outputs": [
    {
     "data": {
      "text/plain": [
       "array([49, 48, 47, 46, 45, 44, 43, 42, 41, 40, 39, 38, 37, 36, 35, 34, 33,\n",
       "       32, 31, 30, 29, 28, 27, 26, 25, 24, 23, 22, 21, 20, 19, 18, 17, 16,\n",
       "       15, 14, 13, 12, 11, 10,  9,  8,  7,  6,  5,  4,  3,  2,  1,  0])"
      ]
     },
     "execution_count": 111,
     "metadata": {},
     "output_type": "execute_result"
    }
   ],
   "source": [
    "arr6[::-1]"
   ]
  },
  {
   "cell_type": "code",
   "execution_count": 114,
   "id": "8e6ef85b",
   "metadata": {},
   "outputs": [
    {
     "data": {
      "text/plain": [
       "array([[ 0,  1,  2,  3,  4,  5],\n",
       "       [ 6,  7,  8,  9, 10, 11],\n",
       "       [12, 13, 14, 15, 16, 17],\n",
       "       [18, 19, 20, 21, 22, 23],\n",
       "       [24, 25, 26, 27, 28, 29],\n",
       "       [30, 31, 32, 33, 34, 35]])"
      ]
     },
     "execution_count": 114,
     "metadata": {},
     "output_type": "execute_result"
    }
   ],
   "source": [
    "arr6 = np.arange(0,36).reshape(6,6)\n",
    "arr6"
   ]
  },
  {
   "cell_type": "code",
   "execution_count": 115,
   "id": "d7e8a618",
   "metadata": {},
   "outputs": [
    {
     "data": {
      "text/plain": [
       "array([[30, 31, 32, 33, 34, 35],\n",
       "       [24, 25, 26, 27, 28, 29],\n",
       "       [18, 19, 20, 21, 22, 23],\n",
       "       [12, 13, 14, 15, 16, 17],\n",
       "       [ 6,  7,  8,  9, 10, 11],\n",
       "       [ 0,  1,  2,  3,  4,  5]])"
      ]
     },
     "execution_count": 115,
     "metadata": {},
     "output_type": "execute_result"
    }
   ],
   "source": [
    "# ud() -> up/down\n",
    "np.flipud(arr6)"
   ]
  },
  {
   "cell_type": "code",
   "execution_count": 116,
   "id": "22575404",
   "metadata": {},
   "outputs": [
    {
     "data": {
      "text/plain": [
       "array([[ 5,  4,  3,  2,  1,  0],\n",
       "       [11, 10,  9,  8,  7,  6],\n",
       "       [17, 16, 15, 14, 13, 12],\n",
       "       [23, 22, 21, 20, 19, 18],\n",
       "       [29, 28, 27, 26, 25, 24],\n",
       "       [35, 34, 33, 32, 31, 30]])"
      ]
     },
     "execution_count": 116,
     "metadata": {},
     "output_type": "execute_result"
    }
   ],
   "source": [
    "# lr() -> left/right\n",
    "np.fliplr(arr6)"
   ]
  },
  {
   "cell_type": "code",
   "execution_count": 117,
   "id": "b6449d94",
   "metadata": {},
   "outputs": [
    {
     "data": {
      "text/plain": [
       "array([[35, 34, 33, 32, 31, 30],\n",
       "       [29, 28, 27, 26, 25, 24],\n",
       "       [23, 22, 21, 20, 19, 18],\n",
       "       [17, 16, 15, 14, 13, 12],\n",
       "       [11, 10,  9,  8,  7,  6],\n",
       "       [ 5,  4,  3,  2,  1,  0]])"
      ]
     },
     "execution_count": 117,
     "metadata": {},
     "output_type": "execute_result"
    }
   ],
   "source": [
    "np.flip(arr6)"
   ]
  },
  {
   "cell_type": "code",
   "execution_count": null,
   "id": "9655c232",
   "metadata": {},
   "outputs": [],
   "source": []
  },
  {
   "cell_type": "markdown",
   "id": "288df65e",
   "metadata": {},
   "source": [
    "Create an array using methods\n",
    "    * np.ones()\n",
    "    * np.zeros()"
   ]
  },
  {
   "cell_type": "code",
   "execution_count": 159,
   "id": "0e40a5d4",
   "metadata": {},
   "outputs": [
    {
     "data": {
      "text/plain": [
       "array([[0., 0., 0., 0., 0., 0.],\n",
       "       [0., 0., 0., 0., 0., 0.],\n",
       "       [0., 0., 0., 0., 0., 0.]], dtype=float16)"
      ]
     },
     "execution_count": 159,
     "metadata": {},
     "output_type": "execute_result"
    }
   ],
   "source": [
    "#shape 3 rows,  6 columns\n",
    "np.zeros((3,6),dtype = 'float16')"
   ]
  },
  {
   "cell_type": "markdown",
   "id": "f91d7898",
   "metadata": {},
   "source": [
    "* identity Matrix\n",
    "    * Generate a N x N Identity matrix. The default matrix dtype is float64\n",
    "    *Diagonal values are 1, non diagonal values are 0\n",
    "    "
   ]
  },
  {
   "cell_type": "code",
   "execution_count": 160,
   "id": "f79acb64",
   "metadata": {},
   "outputs": [
    {
     "data": {
      "text/plain": [
       "array([[1., 0., 0., 0., 0., 0., 0.],\n",
       "       [0., 1., 0., 0., 0., 0., 0.],\n",
       "       [0., 0., 1., 0., 0., 0., 0.],\n",
       "       [0., 0., 0., 1., 0., 0., 0.],\n",
       "       [0., 0., 0., 0., 1., 0., 0.],\n",
       "       [0., 0., 0., 0., 0., 1., 0.],\n",
       "       [0., 0., 0., 0., 0., 0., 1.]])"
      ]
     },
     "execution_count": 160,
     "metadata": {},
     "output_type": "execute_result"
    }
   ],
   "source": [
    "np.identity(7)"
   ]
  },
  {
   "cell_type": "code",
   "execution_count": 162,
   "id": "60ab9826",
   "metadata": {},
   "outputs": [
    {
     "data": {
      "text/plain": [
       "array([[1, 0, 0, 0, 0, 0, 0],\n",
       "       [0, 1, 0, 0, 0, 0, 0],\n",
       "       [0, 0, 1, 0, 0, 0, 0],\n",
       "       [0, 0, 0, 1, 0, 0, 0],\n",
       "       [0, 0, 0, 0, 1, 0, 0],\n",
       "       [0, 0, 0, 0, 0, 1, 0],\n",
       "       [0, 0, 0, 0, 0, 0, 1]], dtype=int8)"
      ]
     },
     "execution_count": 162,
     "metadata": {},
     "output_type": "execute_result"
    }
   ],
   "source": [
    "np.identity(7,dtype='int8')"
   ]
  },
  {
   "cell_type": "code",
   "execution_count": 164,
   "id": "4568c4e8",
   "metadata": {},
   "outputs": [
    {
     "data": {
      "text/plain": [
       "array([0. , 0.1, 0.2, 0.3, 0.4, 0.5, 0.6, 0.7, 0.8, 0.9, 1. ])"
      ]
     },
     "execution_count": 164,
     "metadata": {},
     "output_type": "execute_result"
    }
   ],
   "source": [
    "# (start, stop, elements)\n",
    "# equally spaced\n",
    "np.linspace(0,1,11)"
   ]
  },
  {
   "cell_type": "raw",
   "id": "2a359031",
   "metadata": {},
   "source": [
    "11111\n",
    "10001\n",
    "10001\n",
    "10001\n",
    "11111"
   ]
  },
  {
   "cell_type": "code",
   "execution_count": 46,
   "id": "bee3bc5e",
   "metadata": {},
   "outputs": [
    {
     "name": "stdout",
     "output_type": "stream",
     "text": [
      "enter size5\n",
      "[[1 1 1 1 1]\n",
      " [1 0 0 0 1]\n",
      " [1 0 0 0 1]\n",
      " [1 0 0 0 1]\n",
      " [1 1 1 1 1]]\n"
     ]
    }
   ],
   "source": [
    "import numpy as np\n",
    "n = int(input(\"enter size\"))\n",
    "pat = np.ones((n,n),dtype=int)\n",
    "pat[1:-1,1:-1] =0\n",
    "# pat[0]=1\n",
    "# pat[-1]=1\n",
    "# pat[:,0]=1\n",
    "# pat[:,-1]=1\n",
    "print(pat)\n"
   ]
  },
  {
   "cell_type": "raw",
   "id": "3e859926",
   "metadata": {},
   "source": [
    "101010\n",
    "010101\n",
    "101010\n",
    "010101"
   ]
  },
  {
   "cell_type": "code",
   "execution_count": 48,
   "id": "dbb69c8b",
   "metadata": {},
   "outputs": [
    {
     "name": "stdout",
     "output_type": "stream",
     "text": [
      "enter size7\n",
      "[[1 0 1 0 1 0 1]\n",
      " [0 1 0 1 0 1 0]\n",
      " [1 0 1 0 1 0 1]\n",
      " [0 1 0 1 0 1 0]\n",
      " [1 0 1 0 1 0 1]\n",
      " [0 1 0 1 0 1 0]\n",
      " [1 0 1 0 1 0 1]]\n"
     ]
    }
   ],
   "source": [
    "import numpy as np\n",
    "n = int(input(\"enter size\"))\n",
    "mat = np.ones((n,n),dtype=int)\n",
    "mat[1::2,0::2] = 0\n",
    "mat[0::2,1::2] = 0\n",
    "\n",
    "print(mat)"
   ]
  },
  {
   "cell_type": "markdown",
   "id": "5bf2236d",
   "metadata": {},
   "source": [
    "#### Null Values"
   ]
  },
  {
   "cell_type": "code",
   "execution_count": 49,
   "id": "a36e0b30",
   "metadata": {},
   "outputs": [
    {
     "data": {
      "text/plain": [
       "nan"
      ]
     },
     "execution_count": 49,
     "metadata": {},
     "output_type": "execute_result"
    }
   ],
   "source": [
    "# not a nan\n",
    "np.nan"
   ]
  },
  {
   "cell_type": "code",
   "execution_count": 52,
   "id": "d88c5951",
   "metadata": {},
   "outputs": [
    {
     "name": "stdout",
     "output_type": "stream",
     "text": [
      "[[ 1. nan  1. nan  1.]\n",
      " [nan  1. nan  1. nan]\n",
      " [ 1. nan  1. nan  1.]\n",
      " [nan  1. nan  1. nan]\n",
      " [ 1. nan  1. nan  1.]]\n"
     ]
    }
   ],
   "source": [
    "arr9 = np.ones((5,5))\n",
    "arr9[1::2,0::2] = np.nan\n",
    "arr9[0::2,1::2] = np.nan\n",
    "\n",
    "print(arr9)"
   ]
  },
  {
   "cell_type": "code",
   "execution_count": 54,
   "id": "4f3ac83b",
   "metadata": {},
   "outputs": [
    {
     "data": {
      "text/plain": [
       "array([[False,  True, False,  True, False],\n",
       "       [ True, False,  True, False,  True],\n",
       "       [False,  True, False,  True, False],\n",
       "       [ True, False,  True, False,  True],\n",
       "       [False,  True, False,  True, False]])"
      ]
     },
     "execution_count": 54,
     "metadata": {},
     "output_type": "execute_result"
    }
   ],
   "source": [
    "# isnan() - returns boolen value, True for missing data, False for not-missing data\n",
    "np.isnan(arr9)"
   ]
  },
  {
   "cell_type": "code",
   "execution_count": 55,
   "id": "9a0610d8",
   "metadata": {},
   "outputs": [
    {
     "data": {
      "text/plain": [
       "13"
      ]
     },
     "execution_count": 55,
     "metadata": {},
     "output_type": "execute_result"
    }
   ],
   "source": [
    "# np.count_nonzero() cpunt false/0 values\n",
    "np.count_nonzero(~np.isnan(arr9))"
   ]
  },
  {
   "cell_type": "raw",
   "id": "b741e66c",
   "metadata": {},
   "source": [
    "Create a matrix using alphabets.\n",
    "A,B,C,D\n",
    "E,F,G,H\n",
    "I,J,K,L\n",
    "M,N,O,P\n",
    "Q,R,S,T\n",
    "U,V,W,X\n",
    "\n",
    "Fill all vowels by np.nan\n",
    "A,E,I,O,U =>np.nan\n",
    "\n",
    "Display missing value count"
   ]
  },
  {
   "cell_type": "code",
   "execution_count": 4,
   "id": "1a2ca49c",
   "metadata": {},
   "outputs": [],
   "source": [
    "import numpy as np\n",
    "arr = np.array([['A','B','C','D'],\n",
    "                ['E','F','G','H'],\n",
    "                ['I','J','K','L'],\n",
    "                ['M','N','O','P'],\n",
    "                ['Q','R','S','T'],\n",
    "                ['U','V','W','X']]\n",
    ")\n"
   ]
  },
  {
   "cell_type": "code",
   "execution_count": 5,
   "id": "a20463f7",
   "metadata": {},
   "outputs": [
    {
     "data": {
      "text/plain": [
       "[['A', 'B', 'C', 'D'],\n",
       " ['E', 'F', 'G', 'H'],\n",
       " ['I', 'J', 'K', 'L'],\n",
       " ['M', 'N', 'O', 'P'],\n",
       " ['Q', 'R', 'S', 'T'],\n",
       " ['U', 'V', 'W', 'X']]"
      ]
     },
     "execution_count": 5,
     "metadata": {},
     "output_type": "execute_result"
    }
   ],
   "source": [
    "lis = arr.tolist()\n",
    "lis"
   ]
  },
  {
   "cell_type": "code",
   "execution_count": 9,
   "id": "275ca7db",
   "metadata": {},
   "outputs": [
    {
     "name": "stdout",
     "output_type": "stream",
     "text": [
      "[['nan' 'B' 'C' 'D']\n",
      " ['nan' 'F' 'G' 'H']\n",
      " ['nan' 'J' 'K' 'L']\n",
      " ['M' 'N' 'nan' 'P']\n",
      " ['Q' 'R' 'S' 'T']\n",
      " ['nan' 'V' 'W' 'X']]\n"
     ]
    }
   ],
   "source": [
    "for i in range(len(lis)):\n",
    "    for j in range(len(lis[i])):\n",
    "        if lis[i][j]=='A' or lis[i][j]=='E' or lis[i][j]=='I' or lis[i][j]=='O' or lis[i][j]=='U':\n",
    "             lis[i][j] = np.nan\n",
    "                \n",
    "print(np.array(lis)) "
   ]
  },
  {
   "cell_type": "markdown",
   "id": "1f73d87f",
   "metadata": {},
   "source": [
    "### Numpy\n",
    "    * Array calculation method"
   ]
  },
  {
   "cell_type": "code",
   "execution_count": 121,
   "id": "7480416f",
   "metadata": {},
   "outputs": [
    {
     "data": {
      "text/plain": [
       "array([[1, 2, 3],\n",
       "       [4, 5, 6]])"
      ]
     },
     "execution_count": 121,
     "metadata": {},
     "output_type": "execute_result"
    }
   ],
   "source": [
    "arr3= np.array([[1,2,3],\n",
    "                [4,5,6]]\n",
    "              )\n",
    "arr3"
   ]
  },
  {
   "cell_type": "code",
   "execution_count": 123,
   "id": "84f8629e",
   "metadata": {},
   "outputs": [
    {
     "data": {
      "text/plain": [
       "21"
      ]
     },
     "execution_count": 123,
     "metadata": {},
     "output_type": "execute_result"
    }
   ],
   "source": [
    "arr3.sum()"
   ]
  },
  {
   "cell_type": "code",
   "execution_count": 124,
   "id": "6dd3c7ef",
   "metadata": {},
   "outputs": [
    {
     "data": {
      "text/plain": [
       "array([5, 7, 9])"
      ]
     },
     "execution_count": 124,
     "metadata": {},
     "output_type": "execute_result"
    }
   ],
   "source": [
    "# row1+row2\n",
    "# apply sum along 0th axis\n",
    "arr3.sum(axis=0)"
   ]
  },
  {
   "cell_type": "code",
   "execution_count": 126,
   "id": "ff5e12de",
   "metadata": {},
   "outputs": [
    {
     "data": {
      "text/plain": [
       "array([ 6, 15])"
      ]
     },
     "execution_count": 126,
     "metadata": {},
     "output_type": "execute_result"
    }
   ],
   "source": [
    "# axis =1 (sum of all columns)\n",
    "# apply sum along 1st axis\n",
    "arr3.sum(axis=1)"
   ]
  },
  {
   "cell_type": "code",
   "execution_count": 129,
   "id": "ae1439c8",
   "metadata": {},
   "outputs": [
    {
     "data": {
      "text/plain": [
       "3"
      ]
     },
     "execution_count": 129,
     "metadata": {},
     "output_type": "execute_result"
    }
   ],
   "source": [
    "#[0.,0.,0.,1.,0.,0.,0.]\n",
    "arr4 = [0.,0.,0.,1.,0.,0.,0.]\n",
    "# returns index of the maximum value along axis\n",
    "np.argmax(arr4)"
   ]
  },
  {
   "cell_type": "code",
   "execution_count": 138,
   "id": "50b9b4ba",
   "metadata": {},
   "outputs": [
    {
     "data": {
      "text/plain": [
       "array([[ 1,  2,  3,  4,  5,  6],\n",
       "       [ 7,  8,  9, 10, 11, 12],\n",
       "       [13, 14, 15, 16, 17, 18],\n",
       "       [19, 20, 21, 22, 23, 24],\n",
       "       [25, 26, 27, 28, 29, 30],\n",
       "       [31, 32, 33, 34, 35, 36]])"
      ]
     },
     "execution_count": 138,
     "metadata": {},
     "output_type": "execute_result"
    }
   ],
   "source": [
    "arr5 = np.arange(1,37).reshape(6,6)\n",
    "arr5"
   ]
  },
  {
   "cell_type": "code",
   "execution_count": 139,
   "id": "4777ebff",
   "metadata": {},
   "outputs": [
    {
     "data": {
      "text/plain": [
       "array([5, 5, 5, 5, 5, 5], dtype=int64)"
      ]
     },
     "execution_count": 139,
     "metadata": {},
     "output_type": "execute_result"
    }
   ],
   "source": [
    "np.argmax(arr5,axis=0)"
   ]
  },
  {
   "cell_type": "code",
   "execution_count": 140,
   "id": "83114eaf",
   "metadata": {},
   "outputs": [
    {
     "data": {
      "text/plain": [
       "array([5, 5, 5, 5, 5, 5], dtype=int64)"
      ]
     },
     "execution_count": 140,
     "metadata": {},
     "output_type": "execute_result"
    }
   ],
   "source": [
    "np.argmax(arr5,axis=1)"
   ]
  },
  {
   "cell_type": "code",
   "execution_count": 141,
   "id": "a2fdb93f",
   "metadata": {},
   "outputs": [
    {
     "data": {
      "text/plain": [
       "35"
      ]
     },
     "execution_count": 141,
     "metadata": {},
     "output_type": "execute_result"
    }
   ],
   "source": [
    "np.argmax(arr5)"
   ]
  },
  {
   "cell_type": "markdown",
   "id": "19797a03",
   "metadata": {},
   "source": [
    "### Statistical Analysis on Array"
   ]
  },
  {
   "cell_type": "code",
   "execution_count": 143,
   "id": "dc6fb5a7",
   "metadata": {},
   "outputs": [
    {
     "data": {
      "text/plain": [
       "4.5"
      ]
     },
     "execution_count": 143,
     "metadata": {},
     "output_type": "execute_result"
    }
   ],
   "source": [
    "arr_6 = np.array([[1,2,4],\n",
    "                  [5,7,8]])\n",
    "# average = (sum of values)/(number of elements)\n",
    "arr_6.mean()"
   ]
  },
  {
   "cell_type": "code",
   "execution_count": 145,
   "id": "bdc34316",
   "metadata": {},
   "outputs": [
    {
     "data": {
      "text/plain": [
       "7.0"
      ]
     },
     "execution_count": 145,
     "metadata": {},
     "output_type": "execute_result"
    }
   ],
   "source": [
    "arr_6 = np.array([1,2,4,7,8,11,13])\n",
    "np.median(arr_6)"
   ]
  },
  {
   "cell_type": "code",
   "execution_count": 147,
   "id": "78fecb98",
   "metadata": {},
   "outputs": [
    {
     "data": {
      "text/plain": [
       "6.0"
      ]
     },
     "execution_count": 147,
     "metadata": {},
     "output_type": "execute_result"
    }
   ],
   "source": [
    "arr_6 = np.array([1,2,4,8,11,13])\n",
    "# median of two central values\n",
    "np.median(arr_6)"
   ]
  },
  {
   "cell_type": "code",
   "execution_count": 148,
   "id": "fc0eb7ee",
   "metadata": {},
   "outputs": [
    {
     "data": {
      "text/plain": [
       "4.5"
      ]
     },
     "execution_count": 148,
     "metadata": {},
     "output_type": "execute_result"
    }
   ],
   "source": [
    "#standard deviation of array\n",
    "np.std(arr_6)"
   ]
  },
  {
   "cell_type": "code",
   "execution_count": 150,
   "id": "56682f54",
   "metadata": {},
   "outputs": [
    {
     "data": {
      "text/plain": [
       "20.25"
      ]
     },
     "execution_count": 150,
     "metadata": {},
     "output_type": "execute_result"
    }
   ],
   "source": [
    "#variance of an array\n",
    "np.var(arr_6)"
   ]
  },
  {
   "cell_type": "code",
   "execution_count": null,
   "id": "34ffefed",
   "metadata": {},
   "outputs": [],
   "source": []
  }
 ],
 "metadata": {
  "kernelspec": {
   "display_name": "Python 3 (ipykernel)",
   "language": "python",
   "name": "python3"
  },
  "language_info": {
   "codemirror_mode": {
    "name": "ipython",
    "version": 3
   },
   "file_extension": ".py",
   "mimetype": "text/x-python",
   "name": "python",
   "nbconvert_exporter": "python",
   "pygments_lexer": "ipython3",
   "version": "3.9.13"
  }
 },
 "nbformat": 4,
 "nbformat_minor": 5
}
