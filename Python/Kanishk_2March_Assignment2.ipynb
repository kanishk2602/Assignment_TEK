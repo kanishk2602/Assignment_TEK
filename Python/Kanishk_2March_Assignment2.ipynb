{
 "cells": [
  {
   "cell_type": "markdown",
   "id": "f116db39",
   "metadata": {},
   "source": [
    "1.\tCreate a python program to find duplicate files by content. User will input path and it will scan all directories, sub-         directories to find all duplicates files.\n",
    "    Delete the found duplicate file.\n",
    "    [Hint: use hashlib]\n"
   ]
  },
  {
   "cell_type": "code",
   "execution_count": 47,
   "id": "9b877e1c",
   "metadata": {},
   "outputs": [
    {
     "data": {
      "text/plain": [
       "['text1.txt', 'text2.txt']"
      ]
     },
     "execution_count": 47,
     "metadata": {},
     "output_type": "execute_result"
    }
   ],
   "source": [
    "import os\n",
    "import hashlib\n",
    "d_path = 'D:/file/'\n",
    "files_list = os.listdir(path = d_path)\n",
    "files_list"
   ]
  },
  {
   "cell_type": "code",
   "execution_count": 48,
   "id": "5c36ff59",
   "metadata": {},
   "outputs": [],
   "source": [
    "list1=[]\n",
    "for i in files_list:\n",
    "    obj_f=open(d_path+i,'r')\n",
    "    content = obj_f.read()\n",
    "    obj_f.close()\n",
    "    encode_content = content.encode()\n",
    "    list1.append(hashlib.sha256(encode_content).hexdigest())"
   ]
  },
  {
   "cell_type": "code",
   "execution_count": 49,
   "id": "debc73d3",
   "metadata": {},
   "outputs": [
    {
     "data": {
      "text/plain": [
       "{'text1.txt': 'adf6ee86a5d6b7ad892bcbad505c6a598bb20bf6e1f3ee5637e6d278c6c0f937',\n",
       " 'text2.txt': 'adf6ee86a5d6b7ad892bcbad505c6a598bb20bf6e1f3ee5637e6d278c6c0f937'}"
      ]
     },
     "execution_count": 49,
     "metadata": {},
     "output_type": "execute_result"
    }
   ],
   "source": [
    "new_dict = dict(zip(files_list,list1))\n",
    "new_dict"
   ]
  },
  {
   "cell_type": "code",
   "execution_count": 50,
   "id": "fd460bfb",
   "metadata": {},
   "outputs": [
    {
     "data": {
      "text/plain": [
       "dict_values"
      ]
     },
     "execution_count": 50,
     "metadata": {},
     "output_type": "execute_result"
    }
   ],
   "source": [
    "type(new_dict.values())"
   ]
  },
  {
   "cell_type": "code",
   "execution_count": 51,
   "id": "cb7e680b",
   "metadata": {},
   "outputs": [
    {
     "data": {
      "text/plain": [
       "['adf6ee86a5d6b7ad892bcbad505c6a598bb20bf6e1f3ee5637e6d278c6c0f937',\n",
       " 'adf6ee86a5d6b7ad892bcbad505c6a598bb20bf6e1f3ee5637e6d278c6c0f937']"
      ]
     },
     "execution_count": 51,
     "metadata": {},
     "output_type": "execute_result"
    }
   ],
   "source": [
    "list1"
   ]
  },
  {
   "cell_type": "code",
   "execution_count": 52,
   "id": "551222dc",
   "metadata": {},
   "outputs": [
    {
     "name": "stdout",
     "output_type": "stream",
     "text": [
      "True\n"
     ]
    },
    {
     "ename": "IndexError",
     "evalue": "list index out of range",
     "output_type": "error",
     "traceback": [
      "\u001b[1;31m---------------------------------------------------------------------------\u001b[0m",
      "\u001b[1;31mIndexError\u001b[0m                                Traceback (most recent call last)",
      "\u001b[1;32m~\\AppData\\Local\\Temp\\ipykernel_9804\\2879976443.py\u001b[0m in \u001b[0;36m<module>\u001b[1;34m\u001b[0m\n\u001b[0;32m      1\u001b[0m \u001b[1;32mfor\u001b[0m \u001b[0mi\u001b[0m \u001b[1;32min\u001b[0m \u001b[0mrange\u001b[0m\u001b[1;33m(\u001b[0m\u001b[0mlen\u001b[0m\u001b[1;33m(\u001b[0m\u001b[0mlist1\u001b[0m\u001b[1;33m)\u001b[0m\u001b[1;33m)\u001b[0m\u001b[1;33m:\u001b[0m\u001b[1;33m\u001b[0m\u001b[1;33m\u001b[0m\u001b[0m\n\u001b[1;32m----> 2\u001b[1;33m     \u001b[1;32mif\u001b[0m \u001b[0mlist1\u001b[0m\u001b[1;33m[\u001b[0m\u001b[0mi\u001b[0m\u001b[1;33m]\u001b[0m\u001b[1;33m==\u001b[0m\u001b[0mlist1\u001b[0m\u001b[1;33m[\u001b[0m\u001b[0mi\u001b[0m\u001b[1;33m+\u001b[0m\u001b[1;36m1\u001b[0m\u001b[1;33m]\u001b[0m\u001b[1;33m:\u001b[0m\u001b[1;33m\u001b[0m\u001b[1;33m\u001b[0m\u001b[0m\n\u001b[0m\u001b[0;32m      3\u001b[0m         \u001b[0mprint\u001b[0m\u001b[1;33m(\u001b[0m\u001b[1;32mTrue\u001b[0m\u001b[1;33m)\u001b[0m\u001b[1;33m\u001b[0m\u001b[1;33m\u001b[0m\u001b[0m\n\u001b[0;32m      4\u001b[0m     \u001b[1;32melse\u001b[0m\u001b[1;33m:\u001b[0m\u001b[1;33m\u001b[0m\u001b[1;33m\u001b[0m\u001b[0m\n\u001b[0;32m      5\u001b[0m         \u001b[0mprint\u001b[0m\u001b[1;33m(\u001b[0m\u001b[1;32mFalse\u001b[0m\u001b[1;33m)\u001b[0m\u001b[1;33m\u001b[0m\u001b[1;33m\u001b[0m\u001b[0m\n",
      "\u001b[1;31mIndexError\u001b[0m: list index out of range"
     ]
    }
   ],
   "source": [
    "for i in range(len(list1)):\n",
    "    if list1[i]==list1[i+1]:\n",
    "        print(True)\n",
    "    else:\n",
    "        print(False)"
   ]
  },
  {
   "cell_type": "code",
   "execution_count": 53,
   "id": "2e6527a3",
   "metadata": {},
   "outputs": [
    {
     "name": "stdout",
     "output_type": "stream",
     "text": [
      "D:/file/text1.txt\n",
      "D:/file/text2.txt\n"
     ]
    }
   ],
   "source": [
    "for i in new_dict:\n",
    "    file2 = i\n",
    "    new_path = os.path.join(d_path,file2)\n",
    "#     print(new_path)\n",
    "    os.remove(new_path)"
   ]
  },
  {
   "cell_type": "markdown",
   "id": "391b3cc8",
   "metadata": {},
   "source": [
    "2.\tGenerate random Password with exact length = 6, with minimum 1 uppercase, 2 lowercase, 2 digits, and remaining special         characters.\n",
    "    Using these packages [random, strings]\n"
   ]
  },
  {
   "cell_type": "code",
   "execution_count": null,
   "id": "9dd389a8",
   "metadata": {},
   "outputs": [],
   "source": [
    "import random\n",
    "import string\n",
    "n1 = random.randint(0, 9)\n",
    "n2 = random.randint(0, 9)\n",
    "n3 = random.randint(0, 9)\n",
    "l1 = random.choice(string.ascii_lowercase)\n",
    "l2 = random.choice(string.ascii_lowercase)\n",
    "u1 = random.choice(string.ascii_uppercase)\n",
    "# print(\"Password {} \".format((u1)+(l1)+(l2)+ str(n1) + str(n2) + str(n3)))/\n",
    "password = [str(n1),str(2),str(n3),l1,l2,u1]\n",
    "random.shuffle(password)\n",
    "new_pass = \"\"\n",
    "for i in password:\n",
    "    new_pass+=i\n",
    "print(new_pass)"
   ]
  },
  {
   "cell_type": "markdown",
   "id": "9eacb607",
   "metadata": {},
   "source": [
    "3.\tCreate 2D array and update the same 2D array provided that every prime number position should be replaced by cube of the       positioned number"
   ]
  },
  {
   "cell_type": "code",
   "execution_count": 72,
   "id": "d7615cdd",
   "metadata": {},
   "outputs": [
    {
     "name": "stdout",
     "output_type": "stream",
     "text": [
      "[0 1 2 3 4 5 6 7 8]\n",
      "[[  0   1   8]\n",
      " [ 27   4 125]\n",
      " [  6 343   8]]\n"
     ]
    }
   ],
   "source": [
    "import numpy as np\n",
    "import sympy\n",
    "arr1=np.arange(0,9).reshape(3,3)\n",
    "shape = arr1.reshape(9)\n",
    "print(shape)\n",
    "for i in range(len(shape)):\n",
    "    if sympy.isprime(shape[i]):\n",
    "        shape[i]=shape[i]**3\n",
    "        \n",
    "new=shape.reshape(3,3)\n",
    "print(new)"
   ]
  },
  {
   "cell_type": "markdown",
   "id": "5a90756d",
   "metadata": {},
   "source": [
    "4.\tPython program to get the sum of every cubed value and its previous integer. "
   ]
  },
  {
   "cell_type": "code",
   "execution_count": 70,
   "id": "90e2a08c",
   "metadata": {},
   "outputs": [
    {
     "name": "stdout",
     "output_type": "stream",
     "text": [
      "[8, 27, 125, 343]\n",
      "[7, 26, 124, 342]\n",
      "1002\n"
     ]
    }
   ],
   "source": [
    "# import numpy as np\n",
    "# import sympy\n",
    "# prime = []\n",
    "# arr1=np.arange(0,9).reshape(3,3)\n",
    "# shape = arr1.reshape(9)\n",
    "# for i in range(len(shape)):\n",
    "#     if sympy.isprime(shape[i]):\n",
    "#         shape[i]=shape[i]**3\n",
    "#         prime.append(shape[i])\n",
    "\n",
    "# print(prime)\n",
    "# new_prime=[]\n",
    "# for i in range(len(prime)):\n",
    "#     new_prime.append(prime[i]-1)\n",
    "    \n",
    "# print(new_prime)\n",
    "# sum1 = sum(prime)\n",
    "# sum2 = sum(new_prime)\n",
    "# print(sum1+sum2)"
   ]
  },
  {
   "cell_type": "code",
   "execution_count": 74,
   "id": "c0c8c8ac",
   "metadata": {},
   "outputs": [
    {
     "name": "stdout",
     "output_type": "stream",
     "text": [
      "[[  0   1   9]\n",
      " [ 36   4 129]\n",
      " [  6 349   8]]\n"
     ]
    }
   ],
   "source": [
    "import numpy as np\n",
    "import sympy\n",
    "prime = []\n",
    "arr1=np.arange(0,9).reshape(3,3)\n",
    "shape = arr1.reshape(9)\n",
    "for i in range(len(shape)):\n",
    "    if sympy.isprime(shape[i]):\n",
    "        shape[i]=shape[i]**3\n",
    "        shape[i]=shape[i] + shape[i-1]\n",
    "        \n",
    "new_shape=shape.reshape(3,3)\n",
    "print(new_shape)"
   ]
  },
  {
   "cell_type": "markdown",
   "id": "60fe23aa",
   "metadata": {},
   "source": [
    "5.\tGiven two arrays, find their intersection. Examples:\n",
    "    Input:  arr1[] = [1, 3, 4, 5, 7]\n",
    "            arr2[] = [2, 3, 5, 6]"
   ]
  },
  {
   "cell_type": "code",
   "execution_count": 72,
   "id": "5643dbcd",
   "metadata": {},
   "outputs": [
    {
     "name": "stdout",
     "output_type": "stream",
     "text": [
      "[3 5]\n"
     ]
    }
   ],
   "source": [
    "import numpy as np\n",
    "arr1 = [1,3,4,5,7]\n",
    "arr2 = [2,3,5,6]\n",
    "A1=np.array(arr1)\n",
    "A2=np.array(arr2)\n",
    "print(np.intersect1d(A1,A2))"
   ]
  },
  {
   "cell_type": "markdown",
   "id": "7f97e96f",
   "metadata": {},
   "source": [
    "6.\tCreate a 7 x 7  2D array having only multiples of 7. And return the last element of the same."
   ]
  },
  {
   "cell_type": "code",
   "execution_count": 71,
   "id": "e275f7f2",
   "metadata": {},
   "outputs": [
    {
     "data": {
      "text/plain": [
       "343"
      ]
     },
     "execution_count": 71,
     "metadata": {},
     "output_type": "execute_result"
    }
   ],
   "source": [
    "x=np.array([i*7 for i in range(1,7*7+1)]).reshape(7,7)\n",
    "x[-1,-1]"
   ]
  },
  {
   "cell_type": "markdown",
   "id": "53a3d82b",
   "metadata": {},
   "source": [
    "7.\tChecker Board Patten using Numpy:\n",
    " [1 0 1 0 1 0 1]\n",
    " [0 1 0 1 0 1 0]\n",
    " [1 0 1 0 1 0 1]\n",
    " [0 1 0 1 0 1 0]\n",
    " [1 0 1 0 1 0 1]\n",
    " [0 1 0 1 0 1 0]\n",
    " [1 0 1 0 1 0 1]"
   ]
  },
  {
   "cell_type": "code",
   "execution_count": null,
   "id": "0426ee90",
   "metadata": {},
   "outputs": [],
   "source": [
    "import numpy as np\n",
    "n = int(input(\"enter size\"))\n",
    "mat = np.ones((n,n),dtype=int)\n",
    "mat[1::2,0::2] = 0\n",
    "mat[0::2,1::2] = 0\n",
    "\n",
    "print(mat)"
   ]
  },
  {
   "cell_type": "markdown",
   "id": "80a2199a",
   "metadata": {},
   "source": [
    "8.\tCreate a given Matrix:\n",
    "    ['A', 'B', 'C', 'D'],\n",
    "    ['E', 'F', 'G', 'H'],\n",
    "    ['I', 'J', 'K', 'L'],\n",
    "    ['M', 'N', 'O', 'P'],\n",
    "    ['Q', 'R', 'S', 'T'],\n",
    "    ['U', 'V', 'W', 'X']\n",
    "\n",
    "   Replace all the vowels by np.nan\n",
    "   A, E, I, O U  -- >  np.nan\n",
    "   Return the count of the missing values\n"
   ]
  },
  {
   "cell_type": "code",
   "execution_count": 55,
   "id": "f6929c0e",
   "metadata": {},
   "outputs": [],
   "source": [
    "import numpy as np\n",
    "arr = np.array([['A','B','C','D'],\n",
    "                ['E','F','G','H'],\n",
    "                ['I','J','K','L'],\n",
    "                ['M','N','O','P'],\n",
    "                ['Q','R','S','T'],\n",
    "                ['U','V','W','X']]\n",
    ")"
   ]
  },
  {
   "cell_type": "code",
   "execution_count": 56,
   "id": "9711044c",
   "metadata": {},
   "outputs": [
    {
     "name": "stdout",
     "output_type": "stream",
     "text": [
      "[['nan' 'B' 'C' 'D']\n",
      " ['nan' 'F' 'G' 'H']\n",
      " ['nan' 'J' 'K' 'L']\n",
      " ['M' 'N' 'nan' 'P']\n",
      " ['Q' 'R' 'S' 'T']\n",
      " ['nan' 'V' 'W' 'X']]\n"
     ]
    }
   ],
   "source": [
    "lis = arr.tolist()\n",
    "for i in range(len(lis)):\n",
    "    for j in range(len(lis[i])):\n",
    "        if lis[i][j]=='A' or lis[i][j]=='E' or lis[i][j]=='I' or lis[i][j]=='O' or lis[i][j]=='U':\n",
    "             lis[i][j] = np.nan\n",
    "                \n",
    "print(np.array(lis)) "
   ]
  },
  {
   "cell_type": "code",
   "execution_count": null,
   "id": "2691cda4",
   "metadata": {},
   "outputs": [],
   "source": []
  }
 ],
 "metadata": {
  "kernelspec": {
   "display_name": "Python 3 (ipykernel)",
   "language": "python",
   "name": "python3"
  },
  "language_info": {
   "codemirror_mode": {
    "name": "ipython",
    "version": 3
   },
   "file_extension": ".py",
   "mimetype": "text/x-python",
   "name": "python",
   "nbconvert_exporter": "python",
   "pygments_lexer": "ipython3",
   "version": "3.9.13"
  }
 },
 "nbformat": 4,
 "nbformat_minor": 5
}
