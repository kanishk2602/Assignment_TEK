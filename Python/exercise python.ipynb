{
 "cells": [
  {
   "cell_type": "code",
   "execution_count": 7,
   "id": "4389ab3b",
   "metadata": {},
   "outputs": [
    {
     "name": "stdout",
     "output_type": "stream",
     "text": [
      "d23eV2\n"
     ]
    }
   ],
   "source": [
    "#3. Generate random password with exact length = 6, with minimum 1 uppercase, 2 lowecase, 3 digits\n",
    "   * hint : [random,string]\n",
    "\n",
    "import random\n",
    "import string\n",
    "n1 = random.randint(0, 9)\n",
    "n2 = random.randint(0, 9)\n",
    "n3 = random.randint(0, 9)\n",
    "l1 = random.choice(string.ascii_lowercase)\n",
    "l2 = random.choice(string.ascii_lowercase)\n",
    "u1 = random.choice(string.ascii_uppercase)\n",
    "\n",
    "# print(\"Password {} \".format((u1)+(l1)+(l2)+ str(n1) + str(n2) + str(n3)))/\n",
    "password = [str(n1),str(2),str(n3),l1,l2,u1]\n",
    "random.shuffle(password)\n",
    "new_pass = \"\"\n",
    "for i in password:\n",
    "    new_pass+=i\n",
    "    \n",
    "print(new_pass)"
   ]
  },
  {
   "cell_type": "markdown",
   "id": "b7b739ae",
   "metadata": {},
   "source": [
    "1. Create a python program to find duplicate files by content. User will input path and it will scan all directories,\n",
    "   subdirectories to find duplicate files.\n",
    "2. Delete the duplicate file\n",
    "* HINT: use hashlib "
   ]
  },
  {
   "cell_type": "code",
   "execution_count": 8,
   "id": "26c3b0d8",
   "metadata": {},
   "outputs": [],
   "source": [
    "import hashlib\n",
    "import os\n",
    "path = (\"Enter path\")\n",
    "obj = os.scandir(path)\n"
   ]
  },
  {
   "cell_type": "code",
   "execution_count": null,
   "id": "235b592b",
   "metadata": {},
   "outputs": [],
   "source": []
  }
 ],
 "metadata": {
  "kernelspec": {
   "display_name": "Python 3 (ipykernel)",
   "language": "python",
   "name": "python3"
  },
  "language_info": {
   "codemirror_mode": {
    "name": "ipython",
    "version": 3
   },
   "file_extension": ".py",
   "mimetype": "text/x-python",
   "name": "python",
   "nbconvert_exporter": "python",
   "pygments_lexer": "ipython3",
   "version": "3.9.13"
  }
 },
 "nbformat": 4,
 "nbformat_minor": 5
}
