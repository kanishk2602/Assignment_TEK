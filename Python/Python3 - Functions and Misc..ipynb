{
 "cells": [
  {
   "cell_type": "code",
   "execution_count": 1,
   "id": "3cf4804d",
   "metadata": {},
   "outputs": [
    {
     "name": "stdout",
     "output_type": "stream",
     "text": [
      "40\n",
      "40\n"
     ]
    }
   ],
   "source": [
    "# Scope of variable\n",
    "var1=40  # variable with global scope\n",
    "def myfunc():\n",
    "    print(var1)  # value 40 will be assigned due to global scope of variable var1\n",
    "    \n",
    "myfunc()\n",
    "print(var1)"
   ]
  },
  {
   "cell_type": "code",
   "execution_count": 2,
   "id": "586f25d7",
   "metadata": {},
   "outputs": [
    {
     "name": "stdout",
     "output_type": "stream",
     "text": [
      "100\n"
     ]
    }
   ],
   "source": [
    "def func1():\n",
    "    var2=100 # variable with local scope\n",
    "    print (var2)\n",
    "    \n",
    "def func2():\n",
    "    var2+=100  \n",
    "    print(var2)  # This will throw error due to local scope of var2\n",
    "    \n",
    "func1()\n",
    "# func2()"
   ]
  },
  {
   "cell_type": "code",
   "execution_count": 3,
   "id": "b2dfbccf",
   "metadata": {},
   "outputs": [
    {
     "name": "stdout",
     "output_type": "stream",
     "text": [
      "Audi Q7\n"
     ]
    }
   ],
   "source": [
    "# Defaut value in python function\n",
    "def car(name, model = 'Q7'):\n",
    "    print(name,model)\n",
    "   \n",
    "# model name is default\n",
    "car(\"Audi\")"
   ]
  },
  {
   "cell_type": "code",
   "execution_count": 4,
   "id": "473d863e",
   "metadata": {},
   "outputs": [
    {
     "name": "stdout",
     "output_type": "stream",
     "text": [
      "Audi Q3\n"
     ]
    }
   ],
   "source": [
    "# model name is updated \n",
    "car(\"Audi\", \"Q3\")"
   ]
  },
  {
   "cell_type": "markdown",
   "id": "8526c8dc",
   "metadata": {},
   "source": [
    "### Exercise: WAP to create a function show_employee() using following conditions:\n",
    "                * it should accept the employees name and salary and display both\n",
    "                * if salary is missing in function call,  then assign default value to salary"
   ]
  },
  {
   "cell_type": "code",
   "execution_count": 5,
   "id": "292c3be2",
   "metadata": {},
   "outputs": [
    {
     "name": "stdout",
     "output_type": "stream",
     "text": [
      "Kanishk 10000\n",
      "Kanishk 15000\n"
     ]
    }
   ],
   "source": [
    "def  show_employee(name, salary=10000):\n",
    "    print(name, salary)\n",
    " \n",
    "show_employee(\"Kanishk\")\n",
    "show_employee(\"Kanishk\",15000)"
   ]
  },
  {
   "cell_type": "markdown",
   "id": "7654a093",
   "metadata": {},
   "source": [
    "## Recursive Function"
   ]
  },
  {
   "cell_type": "markdown",
   "id": "f736c3c9",
   "metadata": {},
   "source": [
    "### Create a python recursive function: \n",
    "In python, we know that a function can call other functions. It is even possible for function to call itself"
   ]
  },
  {
   "cell_type": "code",
   "execution_count": 6,
   "id": "a9df4b05",
   "metadata": {},
   "outputs": [
    {
     "name": "stdout",
     "output_type": "stream",
     "text": [
      "Enter the number of factorial: 10\n",
      "The factorial of 10 is 3628800\n"
     ]
    }
   ],
   "source": [
    "# factorial of input number\n",
    "def factorial(x):\n",
    "    '''\n",
    "    this is a recursive function to find \n",
    "    factorial of a positive integer.\n",
    "    '''\n",
    "    if x==1:\n",
    "        return 1\n",
    "    else:\n",
    "        return (x*(factorial(x-1)))\n",
    "\n",
    "num = int(input(\"Enter the number of factorial: \"))\n",
    "print(\"The factorial of\", num , \"is\", factorial(num))"
   ]
  },
  {
   "cell_type": "code",
   "execution_count": 7,
   "id": "f7e46203",
   "metadata": {},
   "outputs": [
    {
     "name": "stdout",
     "output_type": "stream",
     "text": [
      "Enter the positive integer : 10\n",
      "Thank you, wait for the result!!\n",
      "The factorial of is 3628800\n"
     ]
    }
   ],
   "source": [
    "# Alternative method\n",
    "userInput = int(input(\"Enter the positive integer : \"))\n",
    "if userInput <=0:\n",
    "    print(\"Invalid number, please re-enter\")\n",
    "    userInput= input(\"Enter a positive non zero number:\")\n",
    "    \n",
    "else:\n",
    "    print(\"Thank you, wait for the result!!\")\n",
    "    \n",
    "fact=1\n",
    "if userInput > 0:\n",
    "    while userInput > 0:\n",
    "        fact *= userInput\n",
    "        userInput-=1\n",
    "    print(\"The factorial of is\", fact)\n",
    "        "
   ]
  },
  {
   "cell_type": "markdown",
   "id": "1e5ffa89",
   "metadata": {},
   "source": [
    "* args\n",
    "    * When you are not sure about the number of arguments being passed to a function then we use *args as funtion parameter.\n",
    "    * Arguments must be passed as list or tuple"
   ]
  },
  {
   "cell_type": "code",
   "execution_count": 8,
   "id": "da6fd517",
   "metadata": {},
   "outputs": [
    {
     "name": "stdout",
     "output_type": "stream",
     "text": [
      "('TEK1001', 'Kanishk', 100000, 21, 'India', 'English')\n",
      "('TEK1001', 'Qwerty', 100000, 21, 'India')\n"
     ]
    }
   ],
   "source": [
    "def userDetails(*args):\n",
    "    print(args)\n",
    "    \n",
    "userDetails('TEK1001','Kanishk', 100000, 21, 'India', 'English')\n",
    "userDetails('TEK1001','Qwerty', 100000, 21, 'India',)"
   ]
  },
  {
   "cell_type": "code",
   "execution_count": 9,
   "id": "7ca0cb05",
   "metadata": {},
   "outputs": [],
   "source": [
    "def addition(*args):\n",
    "    return sum(args)"
   ]
  },
  {
   "cell_type": "code",
   "execution_count": 10,
   "id": "bd39473d",
   "metadata": {},
   "outputs": [
    {
     "name": "stdout",
     "output_type": "stream",
     "text": [
      "45\n",
      "55\n"
     ]
    }
   ],
   "source": [
    "list_1 = [1,2,3,4,5,6,7,8,9]\n",
    "tuple_1 = (1,2,3,4,5,6,7,8,9,10)\n",
    "print(addition(*list_1))\n",
    "print(addition(*tuple_1))"
   ]
  },
  {
   "cell_type": "markdown",
   "id": "064f44f3",
   "metadata": {},
   "source": [
    "### Keyword arguments:\n",
    "    ** kwargs\n",
    "        ** kwargs allow us to pass variable name of keyword argument to the function."
   ]
  },
  {
   "cell_type": "code",
   "execution_count": 11,
   "id": "95226148",
   "metadata": {},
   "outputs": [
    {
     "name": "stdout",
     "output_type": "stream",
     "text": [
      "{'EmpID': 'TEK1001', 'Name': 'Kanishk', 'Salary': 100000, 'Age': 21, 'Country': 'India', 'Language': 'English'}\n"
     ]
    }
   ],
   "source": [
    "def userDetails(**kwargs):\n",
    "    print(kwargs)\n",
    "    \n",
    "userDetails(EmpID = 'TEK1001', Name = 'Kanishk', Salary = 100000, Age = 21, Country = 'India', Language = 'English')\n",
    "# userDetails('TEK1001','Qwerty', 100000, 21, 'India',)"
   ]
  },
  {
   "cell_type": "code",
   "execution_count": 12,
   "id": "4cd54a6b",
   "metadata": {},
   "outputs": [
    {
     "name": "stdout",
     "output_type": "stream",
     "text": [
      "TEK1001\n"
     ]
    }
   ],
   "source": [
    "dict1 = {'EmpID': 'TEK1001', 'Name': 'Kanishk', 'Salary': 100000, 'Age': 21, 'Country': 'India', 'Language': 'English'}\n",
    "print(dict1[\"EmpID\"])"
   ]
  },
  {
   "cell_type": "code",
   "execution_count": 13,
   "id": "78d60a59",
   "metadata": {},
   "outputs": [
    {
     "name": "stdout",
     "output_type": "stream",
     "text": [
      "TEK1001\n"
     ]
    }
   ],
   "source": [
    "def userDetails(**kwargs):\n",
    "    return kwargs\n",
    "    \n",
    "empdetails =userDetails(EmpID = 'TEK1001', Name = 'Kanishk', Salary = 100000, Age = 21, Country = 'India', Language = 'English')\n",
    "# userDetails('TEK1001','Qwerty', 100000, 21, 'India',)\n",
    "print(empdetails[\"EmpID\"])"
   ]
  },
  {
   "cell_type": "code",
   "execution_count": 14,
   "id": "3d2979e7",
   "metadata": {},
   "outputs": [
    {
     "name": "stdout",
     "output_type": "stream",
     "text": [
      "EmpID : TEK1001\n",
      "Name : Kanishk\n",
      "Salary : 100000\n",
      "Age : 21\n",
      "Country : India\n",
      "Language : English\n"
     ]
    }
   ],
   "source": [
    "## Alternative method\n",
    "def userDetails(**kwargs):\n",
    "    for key,val in kwargs.items():\n",
    "        print(\"{} : {}\".format(key,val))\n",
    "    \n",
    "userDetails(EmpID = 'TEK1001', Name = 'Kanishk', Salary = 100000, Age = 21, Country = 'India', Language = 'English')\n",
    "# userDetails('TEK1001','Qwerty', 100000, 21, 'India',)"
   ]
  },
  {
   "cell_type": "markdown",
   "id": "55d35796",
   "metadata": {},
   "source": [
    "### Lambda:\n",
    "    * A lambda function is an anonymous function.\n",
    "    * Lambda function can have any number of parameters but a single expression. The expression is evaluated and returned.\n",
    "    "
   ]
  },
  {
   "cell_type": "markdown",
   "id": "7b242cb9",
   "metadata": {},
   "source": [
    "#### syntax -> lambda argument(s) : expression\n",
    "    * e.g., lambda arg1,arg2 : arg1+arg2"
   ]
  },
  {
   "cell_type": "code",
   "execution_count": 15,
   "id": "02a56d26",
   "metadata": {},
   "outputs": [
    {
     "name": "stdout",
     "output_type": "stream",
     "text": [
      "20\n"
     ]
    }
   ],
   "source": [
    "addition = lambda a: a+10   # this lambda function adds value 10 to an argument\n",
    "print(addition(10))"
   ]
  },
  {
   "cell_type": "code",
   "execution_count": 16,
   "id": "040ce514",
   "metadata": {},
   "outputs": [
    {
     "name": "stdout",
     "output_type": "stream",
     "text": [
      "200\n"
     ]
    }
   ],
   "source": [
    "product = lambda a,b : a*b\n",
    "print(product(10,20))"
   ]
  },
  {
   "cell_type": "code",
   "execution_count": 17,
   "id": "553f1cb6",
   "metadata": {},
   "outputs": [
    {
     "data": {
      "text/plain": [
       "(20, 344)"
      ]
     },
     "execution_count": 17,
     "metadata": {},
     "output_type": "execute_result"
    }
   ],
   "source": [
    "result = lambda *args : max(args)  #  this lambda function can take any number of variables\n",
    "result(10,20), result(10,32,344,23,34)"
   ]
  },
  {
   "cell_type": "markdown",
   "id": "9d7962a2",
   "metadata": {},
   "source": [
    "### Filter\n",
    "    * It is used to filter iterables/sequence as per conditions.\n",
    "    * Filter function filters the original iterable ans passes the items that returns True for the function provided to filter().\n",
    "    * Filter is generally used with lambda function."
   ]
  },
  {
   "cell_type": "code",
   "execution_count": 18,
   "id": "0102fd33",
   "metadata": {},
   "outputs": [],
   "source": [
    "?filter"
   ]
  },
  {
   "cell_type": "code",
   "execution_count": 19,
   "id": "b1732304",
   "metadata": {},
   "outputs": [],
   "source": [
    "list_1 = [1,2,3,4,5,6,7,8,9]\n",
    "def odd(num):\n",
    "    if num%2 != 0:\n",
    "        return True\n",
    "    else:\n",
    "        return False"
   ]
  },
  {
   "cell_type": "code",
   "execution_count": 20,
   "id": "2bebb893",
   "metadata": {},
   "outputs": [
    {
     "data": {
      "text/plain": [
       "[1, 3, 5, 7, 9]"
      ]
     },
     "execution_count": 20,
     "metadata": {},
     "output_type": "execute_result"
    }
   ],
   "source": [
    "list(filter(odd,list_1))"
   ]
  },
  {
   "cell_type": "code",
   "execution_count": 21,
   "id": "90cd4d26",
   "metadata": {},
   "outputs": [
    {
     "data": {
      "text/plain": [
       "[1, 3, 5, 7, 9]"
      ]
     },
     "execution_count": 21,
     "metadata": {},
     "output_type": "execute_result"
    }
   ],
   "source": [
    "list(filter(lambda x: x%2!=0,list_1))"
   ]
  },
  {
   "cell_type": "markdown",
   "id": "e57671c2",
   "metadata": {},
   "source": [
    "### Map\n",
    "    * map() function applies a given function of each item of an iterable (list,tuple, ) and returns list of results."
   ]
  },
  {
   "cell_type": "code",
   "execution_count": 22,
   "id": "22adb304",
   "metadata": {},
   "outputs": [
    {
     "data": {
      "text/plain": [
       "[2, 6, 10, 14, 18]"
      ]
     },
     "execution_count": 22,
     "metadata": {},
     "output_type": "execute_result"
    }
   ],
   "source": [
    "def twice(num):\n",
    "    return num*2\n",
    "\n",
    "# lambda function returns true or false in filter\n",
    "oddnum= list(filter(lambda x: x%2!=0,list_1))\n",
    "list(map(twice,oddnum))"
   ]
  },
  {
   "cell_type": "code",
   "execution_count": 23,
   "id": "055b403f",
   "metadata": {},
   "outputs": [
    {
     "data": {
      "text/plain": [
       "['2 Even', '6 Even', '10 Even', '14 Even', '18 Even']"
      ]
     },
     "execution_count": 23,
     "metadata": {},
     "output_type": "execute_result"
    }
   ],
   "source": [
    "# lambda function will return value \n",
    "list(map(lambda num : str(num*2) + \" Even\",oddnum))"
   ]
  },
  {
   "cell_type": "code",
   "execution_count": 24,
   "id": "c61c4559",
   "metadata": {},
   "outputs": [
    {
     "data": {
      "text/plain": [
       "['2 Even', '6 Even', '10 Even', '14 Even', '18 Even']"
      ]
     },
     "execution_count": 24,
     "metadata": {},
     "output_type": "execute_result"
    }
   ],
   "source": [
    "list(map(lambda num : str(num*2) + \" Even\", list(filter(lambda x: x%2!=0,list_1))))"
   ]
  },
  {
   "cell_type": "code",
   "execution_count": 25,
   "id": "0e738406",
   "metadata": {},
   "outputs": [],
   "source": [
    "## map(lambda(filter))"
   ]
  },
  {
   "cell_type": "code",
   "execution_count": 26,
   "id": "7d1f25e6",
   "metadata": {},
   "outputs": [
    {
     "data": {
      "text/plain": [
       "[True, True, True, True, True]"
      ]
     },
     "execution_count": 26,
     "metadata": {},
     "output_type": "execute_result"
    }
   ],
   "source": [
    "list(map(lambda x: x%2!=0,oddnum))"
   ]
  },
  {
   "cell_type": "markdown",
   "id": "853e906e",
   "metadata": {},
   "source": [
    "### Reduce\n",
    "    * Reduce(function, sequence) is used to apply a particular function passed in its argument to all list elements.\n",
    "    * Reduce() is defined in \"function\" module"
   ]
  },
  {
   "cell_type": "code",
   "execution_count": 27,
   "id": "33af6160",
   "metadata": {},
   "outputs": [],
   "source": [
    "from functools import reduce\n",
    "# reduce = used this for aggregate function\n",
    "def summation(a,b):\n",
    "    return a+b"
   ]
  },
  {
   "cell_type": "code",
   "execution_count": 28,
   "id": "60d3d957",
   "metadata": {},
   "outputs": [
    {
     "name": "stdout",
     "output_type": "stream",
     "text": [
      "36\n"
     ]
    }
   ],
   "source": [
    "doubles = [1,2,3,4,5,6,7,8]\n",
    "sum_all = reduce(summation,doubles)\n",
    "print(sum_all)"
   ]
  },
  {
   "cell_type": "code",
   "execution_count": 29,
   "id": "41c027a0",
   "metadata": {},
   "outputs": [
    {
     "name": "stdout",
     "output_type": "stream",
     "text": [
      "36\n"
     ]
    }
   ],
   "source": [
    "# Alternative\n",
    "doubles = [1,2,3,4,5,6,7,8]\n",
    "sum_all = reduce(lambda a,b : a+b,doubles)\n",
    "print(sum_all)"
   ]
  },
  {
   "cell_type": "code",
   "execution_count": 30,
   "id": "8cf5fa30",
   "metadata": {},
   "outputs": [
    {
     "name": "stdout",
     "output_type": "stream",
     "text": [
      "1\n"
     ]
    }
   ],
   "source": [
    "# find minimum number from a list using lambda\n",
    "list_2 = [10,34,23,1,56,8,4]\n",
    "min_value = reduce(lambda a,b: min(a,b), list_2)\n",
    "print(min_value)"
   ]
  },
  {
   "cell_type": "code",
   "execution_count": 31,
   "id": "cecdb596",
   "metadata": {},
   "outputs": [
    {
     "name": "stdout",
     "output_type": "stream",
     "text": [
      "1\n"
     ]
    }
   ],
   "source": [
    "# Alternative\n",
    "min_value = reduce(lambda a,b:a if a<b else b, list_2)\n",
    "print(min_value)"
   ]
  },
  {
   "cell_type": "markdown",
   "id": "cb5339e6",
   "metadata": {},
   "source": [
    "### frozenset() method\n",
    "    * it creates an immuatable set object from an iterable. It is a built in python function. As it set() hence it will store only unique value."
   ]
  },
  {
   "cell_type": "code",
   "execution_count": 32,
   "id": "de8408cf",
   "metadata": {},
   "outputs": [
    {
     "data": {
      "text/plain": [
       "{'Apple', 'Banana', 'Cupcakes', 'Donuts'}"
      ]
     },
     "execution_count": 32,
     "metadata": {},
     "output_type": "execute_result"
    }
   ],
   "source": [
    "list_3 = ['Apple', 'Banana', 'Cupcakes','Donuts','Cupcakes','Donuts']\n",
    "sets=set(list_3)\n",
    "sets"
   ]
  },
  {
   "cell_type": "code",
   "execution_count": 33,
   "id": "ec8146e3",
   "metadata": {},
   "outputs": [
    {
     "data": {
      "text/plain": [
       "frozenset"
      ]
     },
     "execution_count": 33,
     "metadata": {},
     "output_type": "execute_result"
    }
   ],
   "source": [
    "fsets=frozenset(list_3)\n",
    "type(fsets)"
   ]
  },
  {
   "cell_type": "code",
   "execution_count": 34,
   "id": "b681c03b",
   "metadata": {},
   "outputs": [],
   "source": [
    "# frozensets are immutable,  hence add(), update(), has no attribute\n",
    "#fsets.add('eclairs')"
   ]
  },
  {
   "cell_type": "code",
   "execution_count": 35,
   "id": "2cc52a04",
   "metadata": {},
   "outputs": [
    {
     "name": "stdout",
     "output_type": "stream",
     "text": [
      "frozenset({40, 10, 50, 20, 60, 30})\n"
     ]
    }
   ],
   "source": [
    "A = frozenset([10,20,30,40,50,60])\n",
    "B = frozenset([30,40,50,60,70,80])\n",
    "\n",
    "# copying a frozen set\n",
    "C = A.copy()\n",
    "print (C)"
   ]
  },
  {
   "cell_type": "code",
   "execution_count": 36,
   "id": "9be32017",
   "metadata": {},
   "outputs": [
    {
     "data": {
      "text/plain": [
       "frozenset({30, 40, 50, 60})"
      ]
     },
     "execution_count": 36,
     "metadata": {},
     "output_type": "execute_result"
    }
   ],
   "source": [
    "A.intersection(B)"
   ]
  },
  {
   "cell_type": "code",
   "execution_count": 37,
   "id": "1395d77b",
   "metadata": {},
   "outputs": [
    {
     "data": {
      "text/plain": [
       "frozenset({10, 20, 30, 40, 50, 60, 70, 80})"
      ]
     },
     "execution_count": 37,
     "metadata": {},
     "output_type": "execute_result"
    }
   ],
   "source": [
    "A.union(B)"
   ]
  },
  {
   "cell_type": "code",
   "execution_count": 38,
   "id": "9c999c13",
   "metadata": {},
   "outputs": [
    {
     "data": {
      "text/plain": [
       "frozenset({10, 20})"
      ]
     },
     "execution_count": 38,
     "metadata": {},
     "output_type": "execute_result"
    }
   ],
   "source": [
    "A.difference(B)"
   ]
  },
  {
   "cell_type": "markdown",
   "id": "5b542e00",
   "metadata": {},
   "source": [
    "* Exercise : WAP to check if word is palindrome."
   ]
  },
  {
   "cell_type": "code",
   "execution_count": 41,
   "id": "315a635b",
   "metadata": {},
   "outputs": [
    {
     "name": "stdout",
     "output_type": "stream",
     "text": [
      "enter word: p\n",
      "Palindrome\n"
     ]
    }
   ],
   "source": [
    "word = input(\"enter word: \")\n",
    "rev = word[::-1]\n",
    "if word == rev:\n",
    "    print(\"Palindrome\")\n",
    "else:\n",
    "    print(\"NOT\")"
   ]
  },
  {
   "cell_type": "code",
   "execution_count": 42,
   "id": "3c242f4c",
   "metadata": {},
   "outputs": [
    {
     "data": {
      "text/plain": [
       "['PHP', 'Madam', 'tenet']"
      ]
     },
     "execution_count": 42,
     "metadata": {},
     "output_type": "execute_result"
    }
   ],
   "source": [
    "mylist = ['PHP', 'Madam', 'numpy', 'tenet']\n",
    "palindrome = list(filter(lambda word : str.lower(word) == str.lower(word[::-1]), mylist ))\n",
    "palindrome"
   ]
  },
  {
   "cell_type": "code",
   "execution_count": 45,
   "id": "418d4fc1",
   "metadata": {},
   "outputs": [
    {
     "name": "stdout",
     "output_type": "stream",
     "text": [
      "enter word: php\n"
     ]
    },
    {
     "data": {
      "text/plain": [
       "True"
      ]
     },
     "execution_count": 45,
     "metadata": {},
     "output_type": "execute_result"
    }
   ],
   "source": [
    "palin = input(\"enter word: \")\n",
    "palindrome = lambda palin : str.lower(palin) == str.lower(palin[::-1])\n",
    "palindrome(palin)"
   ]
  },
  {
   "cell_type": "markdown",
   "id": "9ac6a84b",
   "metadata": {},
   "source": [
    " ### Math Library\n",
    "     "
   ]
  },
  {
   "cell_type": "code",
   "execution_count": 46,
   "id": "dda83f98",
   "metadata": {},
   "outputs": [],
   "source": [
    "import math"
   ]
  },
  {
   "cell_type": "code",
   "execution_count": 47,
   "id": "7919a78a",
   "metadata": {},
   "outputs": [
    {
     "data": {
      "text/plain": [
       "2.718281828459045"
      ]
     },
     "execution_count": 47,
     "metadata": {},
     "output_type": "execute_result"
    }
   ],
   "source": [
    "math.e\n",
    "# print the value of Euler 'e'"
   ]
  },
  {
   "cell_type": "code",
   "execution_count": 49,
   "id": "c1ee5bae",
   "metadata": {},
   "outputs": [
    {
     "name": "stdout",
     "output_type": "stream",
     "text": [
      "3.141592653589793\n"
     ]
    }
   ],
   "source": [
    "print(math.pi)"
   ]
  },
  {
   "cell_type": "code",
   "execution_count": 54,
   "id": "ccdd854e",
   "metadata": {},
   "outputs": [
    {
     "name": "stdout",
     "output_type": "stream",
     "text": [
      "3\n",
      "2\n"
     ]
    }
   ],
   "source": [
    "num=2.3\n",
    "#returning ceil value of 2.3 (upper value)\n",
    "print(math.ceil(num))\n",
    "#returning floor value of 2.3 (lower value)\n",
    "print(math.floor(num))"
   ]
  },
  {
   "cell_type": "code",
   "execution_count": 56,
   "id": "08a272ef",
   "metadata": {},
   "outputs": [
    {
     "data": {
      "text/plain": [
       "479001600"
      ]
     },
     "execution_count": 56,
     "metadata": {},
     "output_type": "execute_result"
    }
   ],
   "source": [
    "math.factorial(12)"
   ]
  },
  {
   "cell_type": "code",
   "execution_count": 66,
   "id": "f5ef7dbe",
   "metadata": {},
   "outputs": [
    {
     "name": "stdout",
     "output_type": "stream",
     "text": [
      "value of log with base e: 2.302585092994046\n",
      "1.0\n",
      "value of log with base 2: 3.321928094887362\n",
      "value of log with base 10: 1.0\n"
     ]
    }
   ],
   "source": [
    "print(\"value of log with base e:\",math.log(10))\n",
    "print(math.log(2,2))\n",
    "print(\"value of log with base 2:\",math.log2(10)) \n",
    "print(\"value of log with base 10:\",math.log10(10))"
   ]
  },
  {
   "cell_type": "code",
   "execution_count": 67,
   "id": "139bdc8a",
   "metadata": {},
   "outputs": [
    {
     "name": "stdout",
     "output_type": "stream",
     "text": [
      "2.0\n"
     ]
    }
   ],
   "source": [
    "print(math.sqrt(4))"
   ]
  },
  {
   "cell_type": "code",
   "execution_count": 70,
   "id": "e6188f80",
   "metadata": {},
   "outputs": [
    {
     "name": "stdout",
     "output_type": "stream",
     "text": [
      "0.6981317007977318\n",
      "29.999999999999996\n"
     ]
    }
   ],
   "source": [
    "# convert degree to radians\n",
    "print(math.radians(40))\n",
    "a=math.pi/6\n",
    "print(math.degrees(a))"
   ]
  },
  {
   "cell_type": "markdown",
   "id": "bb25be23",
   "metadata": {},
   "source": [
    "### Hashlib library"
   ]
  },
  {
   "cell_type": "code",
   "execution_count": 81,
   "id": "7a580207",
   "metadata": {},
   "outputs": [
    {
     "name": "stdout",
     "output_type": "stream",
     "text": [
      "{'sha3_384', 'mdc2', 'whirlpool', 'sm3', 'sha512_256', 'shake_128', 'sha3_224', 'md4', 'sha224', 'sha3_256', 'sha512_224', 'md5-sha1', 'ripemd160', 'sha384', 'blake2b', 'sha512', 'md5', 'sha3_512', 'blake2s', 'sha1', 'sha256', 'shake_256'}\n"
     ]
    }
   ],
   "source": [
    "import hashlib\n",
    "print(hashlib.algorithms_available)"
   ]
  },
  {
   "cell_type": "code",
   "execution_count": 82,
   "id": "6095bd95",
   "metadata": {},
   "outputs": [],
   "source": [
    "# initialize the empty message using SHA-256\n",
    "message = hashlib.sha256()"
   ]
  },
  {
   "cell_type": "code",
   "execution_count": 83,
   "id": "3dbb2dfb",
   "metadata": {},
   "outputs": [
    {
     "name": "stdout",
     "output_type": "stream",
     "text": [
      "b'\\x17Q\\xa9k\\\\\\xb6\\x9e4\\x0f\\x8eo\\x04\\xd1`\\xc1\\x85\\xb2Rm>np\\xf7<\\n\\xe1\\xd5\\xb4\\xaaY\\x17u'\n",
      "1751a96b5cb69e340f8e6f04d160c185b2526d3e6e70f73c0ae1d5b4aa591775\n"
     ]
    }
   ],
   "source": [
    "# update message using byte strings\n",
    "message.update(b'Hello there')\n",
    "message.update(b'how are you')\n",
    "# print the message digest - returns byte\n",
    "print(message.digest())\n",
    "# print hexadecimal (0-9, a-f)\n",
    "print(message.hexdigest())"
   ]
  },
  {
   "cell_type": "code",
   "execution_count": 85,
   "id": "98db0165",
   "metadata": {},
   "outputs": [
    {
     "data": {
      "text/plain": [
       "64"
      ]
     },
     "execution_count": 85,
     "metadata": {},
     "output_type": "execute_result"
    }
   ],
   "source": [
    "len(message.hexdigest())"
   ]
  },
  {
   "cell_type": "code",
   "execution_count": 88,
   "id": "46b0c520",
   "metadata": {},
   "outputs": [],
   "source": [
    "def get_sha_256_has(input_value):\n",
    "    return hashlib.sha256(input_value).hexdigest()"
   ]
  },
  {
   "cell_type": "code",
   "execution_count": 93,
   "id": "71e177e6",
   "metadata": {},
   "outputs": [
    {
     "data": {
      "text/plain": [
       "'a591a6d40bf420404a011733cfb7b190d62c65bf0bcda32b57b277d9ad9f146e'"
      ]
     },
     "execution_count": 93,
     "metadata": {},
     "output_type": "execute_result"
    }
   ],
   "source": [
    "get_sha_256_has(b'Hello World')"
   ]
  },
  {
   "cell_type": "code",
   "execution_count": 97,
   "id": "aa4426cc",
   "metadata": {},
   "outputs": [
    {
     "name": "stdout",
     "output_type": "stream",
     "text": [
      "ecf149c73b09ae9bc0bc1c62917a8bbb9d22b96c4c25c97d05ca8674eb35f684\n",
      "After updating: cfec575dae2c5b03b677298b604b707800a3a5298cab745f6c6725cd3be83a65\n",
      "True\n"
     ]
    }
   ],
   "source": [
    "def hash_string(input):\n",
    "    byte_input = input.encode()\n",
    "    hash_object = hashlib.sha256(byte_input)\n",
    "    return hash_object\n",
    "\n",
    "def update_hash(hash_object,input_str):\n",
    "    hash_object.update(input_str.encode())\n",
    "\n",
    "hash_object = hash_string(\"Hello from ABC\")\n",
    "\n",
    "#print hexvalue of message\n",
    "print(hash_object.hexdigest())\n",
    "\n",
    "# update the message\n",
    "update_hash(hash_object,\"Hello, how are you?\")\n",
    "\n",
    "#print the hash message after update\n",
    "print('After updating:', hash_object.hexdigest())\n",
    "\n",
    "new_str = \"Hello from ABCHello, how are you?\"\n",
    "print(hash_string(new_str).hexdigest()==hash_object.hexdigest())"
   ]
  },
  {
   "cell_type": "code",
   "execution_count": null,
   "id": "0974db68",
   "metadata": {},
   "outputs": [],
   "source": []
  }
 ],
 "metadata": {
  "kernelspec": {
   "display_name": "Python 3 (ipykernel)",
   "language": "python",
   "name": "python3"
  },
  "language_info": {
   "codemirror_mode": {
    "name": "ipython",
    "version": 3
   },
   "file_extension": ".py",
   "mimetype": "text/x-python",
   "name": "python",
   "nbconvert_exporter": "python",
   "pygments_lexer": "ipython3",
   "version": "3.9.13"
  }
 },
 "nbformat": 4,
 "nbformat_minor": 5
}
