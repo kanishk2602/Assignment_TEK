{
 "cells": [
  {
   "cell_type": "markdown",
   "id": "0a0789e9",
   "metadata": {},
   "source": [
    "### Variables\n",
    "* A python varriable is a reserved menory location to store values. A variable is created the moment we assign a value t it."
   ]
  },
  {
   "cell_type": "code",
   "execution_count": 1,
   "id": "4a4a5ef0",
   "metadata": {},
   "outputs": [],
   "source": [
    "#assignment\n",
    "first_string_var = \"Test Variable\"\n",
    "first_integer_var = 100"
   ]
  },
  {
   "cell_type": "code",
   "execution_count": 2,
   "id": "e04b330a",
   "metadata": {},
   "outputs": [
    {
     "name": "stdout",
     "output_type": "stream",
     "text": [
      "200\n"
     ]
    }
   ],
   "source": [
    "first_integer_var = first_integer_var + 100\n",
    "print(first_integer_var)"
   ]
  },
  {
   "cell_type": "code",
   "execution_count": 3,
   "id": "f67f8261",
   "metadata": {},
   "outputs": [
    {
     "data": {
      "text/plain": [
       "int"
      ]
     },
     "execution_count": 3,
     "metadata": {},
     "output_type": "execute_result"
    }
   ],
   "source": [
    "type(first_integer_var)"
   ]
  },
  {
   "cell_type": "code",
   "execution_count": 4,
   "id": "845618a2",
   "metadata": {},
   "outputs": [
    {
     "data": {
      "text/plain": [
       "'Test VariableTest VariableTest VariableTest VariableTest Variable'"
      ]
     },
     "execution_count": 4,
     "metadata": {},
     "output_type": "execute_result"
    }
   ],
   "source": [
    "# multilying string var with integer\n",
    "first_string_var * 5"
   ]
  },
  {
   "cell_type": "markdown",
   "id": "80e9b0f4",
   "metadata": {},
   "source": [
    "### Multiple Assignments\n",
    " * Multiple variables can be assigned simultaneously."
   ]
  },
  {
   "cell_type": "code",
   "execution_count": 5,
   "id": "5ec3a243",
   "metadata": {},
   "outputs": [],
   "source": [
    "intvar, strvar, floatvar, boolvar = 10000, 'This is python variable', 123.456, True"
   ]
  },
  {
   "cell_type": "code",
   "execution_count": 6,
   "id": "d15d11e9",
   "metadata": {},
   "outputs": [
    {
     "name": "stdout",
     "output_type": "stream",
     "text": [
      "10000 This is python variable 123.456 True\n"
     ]
    }
   ],
   "source": [
    "print(intvar, strvar, floatvar, boolvar)"
   ]
  },
  {
   "cell_type": "code",
   "execution_count": 7,
   "id": "d784c0be",
   "metadata": {},
   "outputs": [
    {
     "name": "stdout",
     "output_type": "stream",
     "text": [
      "Integer Value -> 10000, String Value -> This is python variable, Float Value -> 123.456, Boolean Value -> True\n"
     ]
    }
   ],
   "source": [
    "print(\"Integer Value -> {}, String Value -> {}, Float Value -> {}, Boolean Value -> {}\".format(intvar, strvar, floatvar, boolvar))"
   ]
  },
  {
   "cell_type": "markdown",
   "id": "3d461692",
   "metadata": {},
   "source": [
    "### Data Types\n",
    "* isinstance()"
   ]
  },
  {
   "cell_type": "code",
   "execution_count": 8,
   "id": "c4a63a1c",
   "metadata": {},
   "outputs": [],
   "source": [
    "?isinstance"
   ]
  },
  {
   "cell_type": "code",
   "execution_count": 9,
   "id": "4e6eb80c",
   "metadata": {},
   "outputs": [
    {
     "name": "stdout",
     "output_type": "stream",
     "text": [
      "10  is integer? True\n"
     ]
    }
   ],
   "source": [
    "var1=10\n",
    "print(var1, \" is integer?\", isinstance(var1,int))"
   ]
  },
  {
   "cell_type": "code",
   "execution_count": 10,
   "id": "de7df703",
   "metadata": {},
   "outputs": [
    {
     "name": "stdout",
     "output_type": "stream",
     "text": [
      "10  is integer? False\n"
     ]
    }
   ],
   "source": [
    "var1=10\n",
    "print(var1, \" is integer?\", isinstance(var1,bool))"
   ]
  },
  {
   "cell_type": "code",
   "execution_count": 11,
   "id": "a2c2bc14",
   "metadata": {},
   "outputs": [
    {
     "name": "stdout",
     "output_type": "stream",
     "text": [
      "(23+24j)  is complex? False\n"
     ]
    }
   ],
   "source": [
    "var2 = 23+24j\n",
    "print(var2, \" is complex?\", isinstance(var2,int))"
   ]
  },
  {
   "cell_type": "code",
   "execution_count": 12,
   "id": "28fba5e2",
   "metadata": {},
   "outputs": [
    {
     "name": "stdout",
     "output_type": "stream",
     "text": [
      "(23+24j)  is complex? True\n"
     ]
    }
   ],
   "source": [
    "var2 = 23+24j\n",
    "print(var2, \" is complex?\", isinstance(var2,complex))"
   ]
  },
  {
   "cell_type": "code",
   "execution_count": 13,
   "id": "f288a4a2",
   "metadata": {},
   "outputs": [
    {
     "data": {
      "text/plain": [
       "1737313667248"
      ]
     },
     "execution_count": 13,
     "metadata": {},
     "output_type": "execute_result"
    }
   ],
   "source": [
    "# displays the unique id of any variable\n",
    "id(var2)"
   ]
  },
  {
   "cell_type": "markdown",
   "id": "10e273fb",
   "metadata": {},
   "source": [
    "### Operators\n",
    " Operators are constraints which can help manipulate the values of operands.\n",
    "  1. Arithematic Operators\n",
    "     * Used to perform mathematical opreations like addition, sub, mul, div."
   ]
  },
  {
   "cell_type": "code",
   "execution_count": 14,
   "id": "6948b5d9",
   "metadata": {},
   "outputs": [],
   "source": [
    "variable1, variable2 = 5,2"
   ]
  },
  {
   "cell_type": "code",
   "execution_count": 15,
   "id": "bd1c33ed",
   "metadata": {},
   "outputs": [
    {
     "name": "stdout",
     "output_type": "stream",
     "text": [
      "3\n",
      "7\n",
      "10\n",
      "2.5\n",
      "2\n",
      "1\n",
      "25\n"
     ]
    }
   ],
   "source": [
    "print(variable1 - variable2)\n",
    "print(variable1 + variable2)\n",
    "print(variable1 * variable2)\n",
    "print(variable1 / variable2)\n",
    "print(variable1 // variable2) #returns quotient\n",
    "print(variable1 % variable2)  #returns remainder\n",
    "print(variable1 ** variable2) #power"
   ]
  },
  {
   "cell_type": "markdown",
   "id": "39374123",
   "metadata": {},
   "source": [
    "2. Comparison Operators\n",
    "   * comparison operators are used to compare values. It either returns True or False according to condition."
   ]
  },
  {
   "cell_type": "code",
   "execution_count": 16,
   "id": "b7e390cc",
   "metadata": {},
   "outputs": [],
   "source": [
    "variable1, variable2 = 7,3"
   ]
  },
  {
   "cell_type": "code",
   "execution_count": 17,
   "id": "8f92ffbb",
   "metadata": {},
   "outputs": [
    {
     "name": "stdout",
     "output_type": "stream",
     "text": [
      "True\n",
      "False\n",
      "True\n",
      "False\n",
      "False\n",
      "True\n"
     ]
    }
   ],
   "source": [
    "print(variable1 > variable2)\n",
    "print(variable1 < variable2)\n",
    "print(variable1 >= variable2)\n",
    "print(variable1 == variable2)\n",
    "print(variable1 <= variable2)\n",
    "print(variable1 != variable2)"
   ]
  },
  {
   "cell_type": "markdown",
   "id": "20a0e3d9",
   "metadata": {},
   "source": [
    "3. Logical Operators\n",
    "   * logical opeators 'and', 'or', 'not'"
   ]
  },
  {
   "cell_type": "code",
   "execution_count": 18,
   "id": "f8dc63d9",
   "metadata": {},
   "outputs": [],
   "source": [
    "variable1, variable2 = True, False"
   ]
  },
  {
   "cell_type": "code",
   "execution_count": 19,
   "id": "a36e6732",
   "metadata": {},
   "outputs": [
    {
     "name": "stdout",
     "output_type": "stream",
     "text": [
      "False\n",
      "True\n",
      "True\n"
     ]
    }
   ],
   "source": [
    "print(variable1 and variable2)\n",
    "print(variable1 or variable2)\n",
    "print( not variable2)"
   ]
  },
  {
   "cell_type": "markdown",
   "id": "1c979c23",
   "metadata": {},
   "source": [
    "4. Bitwise Operators\n",
    "   * This acts like an operator as if they were string of binary digits. It operates bit by bit"
   ]
  },
  {
   "cell_type": "code",
   "execution_count": 20,
   "id": "b2a997a9",
   "metadata": {},
   "outputs": [],
   "source": [
    "variable1, variable2 = 3,7"
   ]
  },
  {
   "cell_type": "code",
   "execution_count": 21,
   "id": "32f41776",
   "metadata": {},
   "outputs": [
    {
     "name": "stdout",
     "output_type": "stream",
     "text": [
      "3\n",
      "7\n",
      "-8\n",
      "4\n"
     ]
    }
   ],
   "source": [
    "print(variable1 & variable2)  #bitwise AND -> 0000 0011 & 0000 0111 -> 0000 0011\n",
    "print(variable1 | variable2)  #bitwise OR -> 0000 0011 | 0000 0111 -> 0000 0111\n",
    "print(~variable2)             #bitwise NOT -> 0000 0011 & 0000 0111 -> 0000 0011\n",
    "print(variable1 ^ variable2)  #bitwise XOR"
   ]
  },
  {
   "cell_type": "markdown",
   "id": "637bef10",
   "metadata": {},
   "source": [
    "### Assignment Operators"
   ]
  },
  {
   "cell_type": "code",
   "execution_count": 22,
   "id": "b82fff11",
   "metadata": {},
   "outputs": [
    {
     "name": "stdout",
     "output_type": "stream",
     "text": [
      "44\n",
      "36\n",
      "144\n",
      "48.0\n",
      "8.0\n"
     ]
    }
   ],
   "source": [
    "var3=40\n",
    "var3+=4     # var3 = var3 + 4\n",
    "print(var3)\n",
    "var3-=8\n",
    "print(var3)\n",
    "var3*=4\n",
    "print(var3)\n",
    "var3/=3\n",
    "print(var3)\n",
    "var3%=10\n",
    "print(var3)"
   ]
  },
  {
   "cell_type": "markdown",
   "id": "713ad70c",
   "metadata": {},
   "source": [
    "### Python Statements"
   ]
  },
  {
   "cell_type": "code",
   "execution_count": 23,
   "id": "1cac4f00",
   "metadata": {},
   "outputs": [
    {
     "name": "stdout",
     "output_type": "stream",
     "text": [
      "230\n"
     ]
    }
   ],
   "source": [
    "#Multiple line statements\n",
    "number= (10+20+30+\n",
    "        40+50+60+\n",
    "        20)\n",
    "print(number)"
   ]
  },
  {
   "cell_type": "code",
   "execution_count": 24,
   "id": "97582a6d",
   "metadata": {},
   "outputs": [
    {
     "name": "stdout",
     "output_type": "stream",
     "text": [
      "230\n"
     ]
    }
   ],
   "source": [
    "#Multiple line statements\n",
    "number= 10+20+30+ \\\n",
    "        40+50+60+ \\\n",
    "        20\n",
    "print(number)"
   ]
  },
  {
   "cell_type": "markdown",
   "id": "7bf1adc1",
   "metadata": {},
   "source": [
    "### Python Indentation\n",
    "  * Unlike C, C++, JAVA where we use {} to define a blockof code. In python we use indentation."
   ]
  },
  {
   "cell_type": "code",
   "execution_count": 25,
   "id": "c0f57aff",
   "metadata": {},
   "outputs": [],
   "source": [
    "# variable1=10\n",
    "#             variable2=20"
   ]
  },
  {
   "cell_type": "code",
   "execution_count": 26,
   "id": "8c1f38f9",
   "metadata": {},
   "outputs": [],
   "source": [
    "# p=10\n",
    "# if p==10:\n",
    "# print(\"p is equal to 10\")"
   ]
  },
  {
   "cell_type": "markdown",
   "id": "c8098382",
   "metadata": {},
   "source": [
    "### Conditional Statement\n",
    "   * Control o conditional statements allow to check the behaviour of a program"
   ]
  },
  {
   "cell_type": "code",
   "execution_count": 27,
   "id": "134acdb6",
   "metadata": {},
   "outputs": [
    {
     "name": "stdout",
     "output_type": "stream",
     "text": [
      "Number is less than 15\n",
      "within if block\n",
      "outside of if block\n"
     ]
    }
   ],
   "source": [
    "number = 10\n",
    "\n",
    "if number < 15:\n",
    "    print(\"Number is less than 15\")\n",
    "    print(\"within if block\")\n",
    "#default\n",
    "print(\"outside of if block\")\n",
    "    "
   ]
  },
  {
   "cell_type": "code",
   "execution_count": 28,
   "id": "300ccd72",
   "metadata": {},
   "outputs": [
    {
     "name": "stdout",
     "output_type": "stream",
     "text": [
      "Child\n"
     ]
    }
   ],
   "source": [
    "age=18\n",
    "\n",
    "if age > 18:\n",
    "    print(\"Adult\")\n",
    "else:\n",
    "    print(\"Child\")"
   ]
  },
  {
   "cell_type": "code",
   "execution_count": 29,
   "id": "443acb7f",
   "metadata": {},
   "outputs": [
    {
     "name": "stdout",
     "output_type": "stream",
     "text": [
      "Child\n",
      "This is default print and will alwalys get executed\n"
     ]
    }
   ],
   "source": [
    "#Nested if\n",
    "age = 10\n",
    "\n",
    "if age>=13:\n",
    "    if age<=19:\n",
    "        print(\"Teenager\")\n",
    "    else:\n",
    "        print(\"Adult\")\n",
    "else:\n",
    "    print(\"Child\")\n",
    "print(\"This is default print and will alwalys get executed\")"
   ]
  },
  {
   "cell_type": "code",
   "execution_count": 30,
   "id": "c95c38ca",
   "metadata": {},
   "outputs": [
    {
     "name": "stdout",
     "output_type": "stream",
     "text": [
      "Enter Age: 2\n",
      "Child\n",
      "This is default print and will alwalys get executed\n"
     ]
    }
   ],
   "source": [
    "#Nested if\n",
    "age = int(input(\"Enter Age: \"))\n",
    "\n",
    "if age>=13:\n",
    "    if age<=19:\n",
    "        print(\"Teenager\")\n",
    "    else:\n",
    "        print(\"Adult\")\n",
    "else:\n",
    "    print(\"Child\")\n",
    "print(\"This is default print and will alwalys get executed\")"
   ]
  },
  {
   "cell_type": "code",
   "execution_count": 31,
   "id": "7e60396a",
   "metadata": {},
   "outputs": [
    {
     "name": "stdout",
     "output_type": "stream",
     "text": [
      "Enter students marks: 33\n",
      "Grade F\n"
     ]
    }
   ],
   "source": [
    "# if....elif (else if)....else\n",
    "marks= float(input(\"Enter students marks: \"))\n",
    "\n",
    "if marks > 90:\n",
    "    print(\"Grade A\")\n",
    "elif marks >80 and marks <=90:\n",
    "    print(\"Grade B\")\n",
    "elif marks >70 and marks <=80:\n",
    "    print(\"Grade C\")\n",
    "elif marks >60 and marks <=70:\n",
    "    print(\"Grade D\")\n",
    "elif marks >50 and marks <=60:\n",
    "    print(\"Grade E\")\n",
    "else:\n",
    "    print(\"Grade F\")"
   ]
  },
  {
   "cell_type": "markdown",
   "id": "f9adaa50",
   "metadata": {},
   "source": [
    "### Ternary Operator\n",
    "* Ternary operator  also known as conditional statement,  test a condition ina single line, replacing multiple line if..else..This makes code compact"
   ]
  },
  {
   "cell_type": "code",
   "execution_count": 32,
   "id": "e9ec1cdc",
   "metadata": {},
   "outputs": [
    {
     "name": "stdout",
     "output_type": "stream",
     "text": [
      "20\n"
     ]
    }
   ],
   "source": [
    "a,b=10,20\n",
    "max = a if a> b else b\n",
    "print(max)"
   ]
  },
  {
   "cell_type": "code",
   "execution_count": 33,
   "id": "08a804b0",
   "metadata": {},
   "outputs": [
    {
     "name": "stdout",
     "output_type": "stream",
     "text": [
      "Enter Age: 33\n",
      "Adult\n"
     ]
    }
   ],
   "source": [
    "age=float(input(\"Enter Age: \"))\n",
    "category = \"Adult\" if age>=18 else \"Child\"\n",
    "print(category)"
   ]
  },
  {
   "cell_type": "code",
   "execution_count": 34,
   "id": "52076850",
   "metadata": {},
   "outputs": [
    {
     "name": "stdout",
     "output_type": "stream",
     "text": [
      "Enter brothers Age: 33\n",
      "Enter sisters Age: 33\n",
      "both are twins\n"
     ]
    }
   ],
   "source": [
    "brother = float(input(\"Enter brothers Age: \"))\n",
    "sister = float(input(\"Enter sisters Age: \"))\n",
    "if brother >  sister:\n",
    "    print(\"brother is elder\")\n",
    "elif sister > brother:\n",
    "    print(\"sister is elder\")\n",
    "else:\n",
    "    print(\"both are twins\")"
   ]
  },
  {
   "cell_type": "code",
   "execution_count": 35,
   "id": "d7aa3f24",
   "metadata": {},
   "outputs": [
    {
     "name": "stdout",
     "output_type": "stream",
     "text": [
      "Enter brothers Age: 33\n",
      "Enter sisters Age: 33\n",
      "both are twins\n"
     ]
    }
   ],
   "source": [
    "brother = float(input(\"Enter brothers Age: \"))\n",
    "sister = float(input(\"Enter sisters Age: \"))\n",
    "output = \"brother is elder\" if  brother > sister else \"sister is elder\" if sister > brother  else \"both are twins\"\n",
    "print(output)"
   ]
  },
  {
   "cell_type": "markdown",
   "id": "ebbbf58d",
   "metadata": {},
   "source": [
    "### While Loop\n",
    "   * Use while loop to iterate over a blockof code as long as the test expression is true or break statement is found."
   ]
  },
  {
   "cell_type": "code",
   "execution_count": 36,
   "id": "f42819f7",
   "metadata": {},
   "outputs": [
    {
     "name": "stdout",
     "output_type": "stream",
     "text": [
      "10\n",
      "20\n",
      "30\n",
      "40\n",
      "50\n",
      "60\n",
      "70\n",
      "80\n",
      "90\n"
     ]
    }
   ],
   "source": [
    "mylist = [10,20,30,40,50,60,70,80,90]\n",
    "index=0\n",
    "while index < len(mylist):\n",
    "    print(mylist[index])\n",
    "    index+=1"
   ]
  },
  {
   "cell_type": "code",
   "execution_count": 37,
   "id": "0cdcc760",
   "metadata": {},
   "outputs": [
    {
     "name": "stdout",
     "output_type": "stream",
     "text": [
      "9\n"
     ]
    }
   ],
   "source": [
    "print(index)"
   ]
  },
  {
   "cell_type": "code",
   "execution_count": 38,
   "id": "2fdae49e",
   "metadata": {},
   "outputs": [
    {
     "name": "stdout",
     "output_type": "stream",
     "text": [
      "10\n",
      "30\n",
      "60\n",
      "100\n",
      "150\n",
      "210\n",
      "280\n",
      "360\n",
      "450\n"
     ]
    }
   ],
   "source": [
    "mylist = [10,20,30,40,50,60,70,80,90]\n",
    "index=0\n",
    "sum=0\n",
    "while index < len(mylist):\n",
    "    sum=sum+(mylist[index])\n",
    "    index+=1\n",
    "    \n",
    "    print (sum)"
   ]
  },
  {
   "cell_type": "markdown",
   "id": "08a0fb3f",
   "metadata": {},
   "source": [
    "### While loop with else\n",
    "   * while loop in python have optional else part\n",
    "   * the statement in else will be executed when comdition is not fulfilled anymore."
   ]
  },
  {
   "cell_type": "code",
   "execution_count": 39,
   "id": "ca325fe7",
   "metadata": {},
   "outputs": [
    {
     "name": "stdout",
     "output_type": "stream",
     "text": [
      "enter new number: 5\n",
      "CORRECT\n"
     ]
    }
   ],
   "source": [
    "guess_value = 5\n",
    "guess=0\n",
    "while guess != guess_value:\n",
    "    guess=int(input(\"enter new number: \"))\n",
    "    if guess > 0:\n",
    "        if guess > guess_value:\n",
    "            print(\"number is large\")\n",
    "        elif guess < guess_value:\n",
    "            print(\"number is small\")\n",
    "    else:\n",
    "        print(\"sorry!invalid number\")\n",
    "        break\n",
    "else:\n",
    "    print(\"CORRECT\")"
   ]
  },
  {
   "cell_type": "markdown",
   "id": "85b53b53",
   "metadata": {},
   "source": [
    "### For Loop\n",
    "* Python for loop is an iterator based for loop. It steps through the items of list, tuple, string, key of dictionaries and other iterables."
   ]
  },
  {
   "cell_type": "code",
   "execution_count": 40,
   "id": "2543a90c",
   "metadata": {},
   "outputs": [
    {
     "name": "stdout",
     "output_type": "stream",
     "text": [
      "Sum is 450\n"
     ]
    }
   ],
   "source": [
    "mylist = [10,20,30,40,50,60,70,80,90]\n",
    "add=0\n",
    "for i in mylist:\n",
    "    add+=i\n",
    "print(\"Sum is\",add)"
   ]
  },
  {
   "cell_type": "code",
   "execution_count": 41,
   "id": "38d905a4",
   "metadata": {},
   "outputs": [
    {
     "name": "stdout",
     "output_type": "stream",
     "text": [
      "1\n",
      "6\n"
     ]
    }
   ],
   "source": [
    "#range(start_value, stop_value, step_size)\n",
    "for val in range (1,11,5):\n",
    "    print(val)"
   ]
  },
  {
   "cell_type": "markdown",
   "id": "a7b7c7da",
   "metadata": {},
   "source": [
    "### find list of even digit numbers\n",
    "Problem statement: wap which will print all numbers between 1000 and 3000(both included) such that each number is an even number.\n"
   ]
  },
  {
   "cell_type": "code",
   "execution_count": 42,
   "id": "f7044600",
   "metadata": {},
   "outputs": [
    {
     "name": "stdout",
     "output_type": "stream",
     "text": [
      "[1000, 1002, 1004, 1006, 1008, 1010, 1012, 1014, 1016, 1018, 1020, 1022, 1024, 1026, 1028, 1030, 1032, 1034, 1036, 1038, 1040, 1042, 1044, 1046, 1048, 1050, 1052, 1054, 1056, 1058, 1060, 1062, 1064, 1066, 1068, 1070, 1072, 1074, 1076, 1078, 1080, 1082, 1084, 1086, 1088, 1090, 1092, 1094, 1096, 1098, 1100, 1102, 1104, 1106, 1108, 1110, 1112, 1114, 1116, 1118, 1120, 1122, 1124, 1126, 1128, 1130, 1132, 1134, 1136, 1138, 1140, 1142, 1144, 1146, 1148, 1150, 1152, 1154, 1156, 1158, 1160, 1162, 1164, 1166, 1168, 1170, 1172, 1174, 1176, 1178, 1180, 1182, 1184, 1186, 1188, 1190, 1192, 1194, 1196, 1198, 1200, 1202, 1204, 1206, 1208, 1210, 1212, 1214, 1216, 1218, 1220, 1222, 1224, 1226, 1228, 1230, 1232, 1234, 1236, 1238, 1240, 1242, 1244, 1246, 1248, 1250, 1252, 1254, 1256, 1258, 1260, 1262, 1264, 1266, 1268, 1270, 1272, 1274, 1276, 1278, 1280, 1282, 1284, 1286, 1288, 1290, 1292, 1294, 1296, 1298, 1300, 1302, 1304, 1306, 1308, 1310, 1312, 1314, 1316, 1318, 1320, 1322, 1324, 1326, 1328, 1330, 1332, 1334, 1336, 1338, 1340, 1342, 1344, 1346, 1348, 1350, 1352, 1354, 1356, 1358, 1360, 1362, 1364, 1366, 1368, 1370, 1372, 1374, 1376, 1378, 1380, 1382, 1384, 1386, 1388, 1390, 1392, 1394, 1396, 1398, 1400, 1402, 1404, 1406, 1408, 1410, 1412, 1414, 1416, 1418, 1420, 1422, 1424, 1426, 1428, 1430, 1432, 1434, 1436, 1438, 1440, 1442, 1444, 1446, 1448, 1450, 1452, 1454, 1456, 1458, 1460, 1462, 1464, 1466, 1468, 1470, 1472, 1474, 1476, 1478, 1480, 1482, 1484, 1486, 1488, 1490, 1492, 1494, 1496, 1498, 1500, 1502, 1504, 1506, 1508, 1510, 1512, 1514, 1516, 1518, 1520, 1522, 1524, 1526, 1528, 1530, 1532, 1534, 1536, 1538, 1540, 1542, 1544, 1546, 1548, 1550, 1552, 1554, 1556, 1558, 1560, 1562, 1564, 1566, 1568, 1570, 1572, 1574, 1576, 1578, 1580, 1582, 1584, 1586, 1588, 1590, 1592, 1594, 1596, 1598, 1600, 1602, 1604, 1606, 1608, 1610, 1612, 1614, 1616, 1618, 1620, 1622, 1624, 1626, 1628, 1630, 1632, 1634, 1636, 1638, 1640, 1642, 1644, 1646, 1648, 1650, 1652, 1654, 1656, 1658, 1660, 1662, 1664, 1666, 1668, 1670, 1672, 1674, 1676, 1678, 1680, 1682, 1684, 1686, 1688, 1690, 1692, 1694, 1696, 1698, 1700, 1702, 1704, 1706, 1708, 1710, 1712, 1714, 1716, 1718, 1720, 1722, 1724, 1726, 1728, 1730, 1732, 1734, 1736, 1738, 1740, 1742, 1744, 1746, 1748, 1750, 1752, 1754, 1756, 1758, 1760, 1762, 1764, 1766, 1768, 1770, 1772, 1774, 1776, 1778, 1780, 1782, 1784, 1786, 1788, 1790, 1792, 1794, 1796, 1798, 1800, 1802, 1804, 1806, 1808, 1810, 1812, 1814, 1816, 1818, 1820, 1822, 1824, 1826, 1828, 1830, 1832, 1834, 1836, 1838, 1840, 1842, 1844, 1846, 1848, 1850, 1852, 1854, 1856, 1858, 1860, 1862, 1864, 1866, 1868, 1870, 1872, 1874, 1876, 1878, 1880, 1882, 1884, 1886, 1888, 1890, 1892, 1894, 1896, 1898, 1900, 1902, 1904, 1906, 1908, 1910, 1912, 1914, 1916, 1918, 1920, 1922, 1924, 1926, 1928, 1930, 1932, 1934, 1936, 1938, 1940, 1942, 1944, 1946, 1948, 1950, 1952, 1954, 1956, 1958, 1960, 1962, 1964, 1966, 1968, 1970, 1972, 1974, 1976, 1978, 1980, 1982, 1984, 1986, 1988, 1990, 1992, 1994, 1996, 1998, 2000, 2002, 2004, 2006, 2008, 2010, 2012, 2014, 2016, 2018, 2020, 2022, 2024, 2026, 2028, 2030, 2032, 2034, 2036, 2038, 2040, 2042, 2044, 2046, 2048, 2050, 2052, 2054, 2056, 2058, 2060, 2062, 2064, 2066, 2068, 2070, 2072, 2074, 2076, 2078, 2080, 2082, 2084, 2086, 2088, 2090, 2092, 2094, 2096, 2098, 2100, 2102, 2104, 2106, 2108, 2110, 2112, 2114, 2116, 2118, 2120, 2122, 2124, 2126, 2128, 2130, 2132, 2134, 2136, 2138, 2140, 2142, 2144, 2146, 2148, 2150, 2152, 2154, 2156, 2158, 2160, 2162, 2164, 2166, 2168, 2170, 2172, 2174, 2176, 2178, 2180, 2182, 2184, 2186, 2188, 2190, 2192, 2194, 2196, 2198, 2200, 2202, 2204, 2206, 2208, 2210, 2212, 2214, 2216, 2218, 2220, 2222, 2224, 2226, 2228, 2230, 2232, 2234, 2236, 2238, 2240, 2242, 2244, 2246, 2248, 2250, 2252, 2254, 2256, 2258, 2260, 2262, 2264, 2266, 2268, 2270, 2272, 2274, 2276, 2278, 2280, 2282, 2284, 2286, 2288, 2290, 2292, 2294, 2296, 2298, 2300, 2302, 2304, 2306, 2308, 2310, 2312, 2314, 2316, 2318, 2320, 2322, 2324, 2326, 2328, 2330, 2332, 2334, 2336, 2338, 2340, 2342, 2344, 2346, 2348, 2350, 2352, 2354, 2356, 2358, 2360, 2362, 2364, 2366, 2368, 2370, 2372, 2374, 2376, 2378, 2380, 2382, 2384, 2386, 2388, 2390, 2392, 2394, 2396, 2398, 2400, 2402, 2404, 2406, 2408, 2410, 2412, 2414, 2416, 2418, 2420, 2422, 2424, 2426, 2428, 2430, 2432, 2434, 2436, 2438, 2440, 2442, 2444, 2446, 2448, 2450, 2452, 2454, 2456, 2458, 2460, 2462, 2464, 2466, 2468, 2470, 2472, 2474, 2476, 2478, 2480, 2482, 2484, 2486, 2488, 2490, 2492, 2494, 2496, 2498, 2500, 2502, 2504, 2506, 2508, 2510, 2512, 2514, 2516, 2518, 2520, 2522, 2524, 2526, 2528, 2530, 2532, 2534, 2536, 2538, 2540, 2542, 2544, 2546, 2548, 2550, 2552, 2554, 2556, 2558, 2560, 2562, 2564, 2566, 2568, 2570, 2572, 2574, 2576, 2578, 2580, 2582, 2584, 2586, 2588, 2590, 2592, 2594, 2596, 2598, 2600, 2602, 2604, 2606, 2608, 2610, 2612, 2614, 2616, 2618, 2620, 2622, 2624, 2626, 2628, 2630, 2632, 2634, 2636, 2638, 2640, 2642, 2644, 2646, 2648, 2650, 2652, 2654, 2656, 2658, 2660, 2662, 2664, 2666, 2668, 2670, 2672, 2674, 2676, 2678, 2680, 2682, 2684, 2686, 2688, 2690, 2692, 2694, 2696, 2698, 2700, 2702, 2704, 2706, 2708, 2710, 2712, 2714, 2716, 2718, 2720, 2722, 2724, 2726, 2728, 2730, 2732, 2734, 2736, 2738, 2740, 2742, 2744, 2746, 2748, 2750, 2752, 2754, 2756, 2758, 2760, 2762, 2764, 2766, 2768, 2770, 2772, 2774, 2776, 2778, 2780, 2782, 2784, 2786, 2788, 2790, 2792, 2794, 2796, 2798, 2800, 2802, 2804, 2806, 2808, 2810, 2812, 2814, 2816, 2818, 2820, 2822, 2824, 2826, 2828, 2830, 2832, 2834, 2836, 2838, 2840, 2842, 2844, 2846, 2848, 2850, 2852, 2854, 2856, 2858, 2860, 2862, 2864, 2866, 2868, 2870, 2872, 2874, 2876, 2878, 2880, 2882, 2884, 2886, 2888, 2890, 2892, 2894, 2896, 2898, 2900, 2902, 2904, 2906, 2908, 2910, 2912, 2914, 2916, 2918, 2920, 2922, 2924, 2926, 2928, 2930, 2932, 2934, 2936, 2938, 2940, 2942, 2944, 2946, 2948, 2950, 2952, 2954, 2956, 2958, 2960, 2962, 2964, 2966, 2968, 2970, 2972, 2974, 2976, 2978, 2980, 2982, 2984, 2986, 2988, 2990, 2992, 2994, 2996, 2998, 3000]\n"
     ]
    }
   ],
   "source": [
    "list1=list()\n",
    "for i in range (1000,3001):\n",
    "    if i%2==0:\n",
    "        list1.append(i)\n",
    "print(list1)\n",
    "    "
   ]
  },
  {
   "cell_type": "code",
   "execution_count": 43,
   "id": "e713c351",
   "metadata": {},
   "outputs": [
    {
     "name": "stdout",
     "output_type": "stream",
     "text": [
      "[1000, 1002, 1004, 1006, 1008, 1010, 1012, 1014, 1016, 1018, 1020, 1022, 1024, 1026, 1028, 1030, 1032, 1034, 1036, 1038, 1040, 1042, 1044, 1046, 1048, 1050, 1052, 1054, 1056, 1058, 1060, 1062, 1064, 1066, 1068, 1070, 1072, 1074, 1076, 1078, 1080, 1082, 1084, 1086, 1088, 1090, 1092, 1094, 1096, 1098, 1100, 1102, 1104, 1106, 1108, 1110, 1112, 1114, 1116, 1118, 1120, 1122, 1124, 1126, 1128, 1130, 1132, 1134, 1136, 1138, 1140, 1142, 1144, 1146, 1148, 1150, 1152, 1154, 1156, 1158, 1160, 1162, 1164, 1166, 1168, 1170, 1172, 1174, 1176, 1178, 1180, 1182, 1184, 1186, 1188, 1190, 1192, 1194, 1196, 1198, 1200, 1202, 1204, 1206, 1208, 1210, 1212, 1214, 1216, 1218, 1220, 1222, 1224, 1226, 1228, 1230, 1232, 1234, 1236, 1238, 1240, 1242, 1244, 1246, 1248, 1250, 1252, 1254, 1256, 1258, 1260, 1262, 1264, 1266, 1268, 1270, 1272, 1274, 1276, 1278, 1280, 1282, 1284, 1286, 1288, 1290, 1292, 1294, 1296, 1298, 1300, 1302, 1304, 1306, 1308, 1310, 1312, 1314, 1316, 1318, 1320, 1322, 1324, 1326, 1328, 1330, 1332, 1334, 1336, 1338, 1340, 1342, 1344, 1346, 1348, 1350, 1352, 1354, 1356, 1358, 1360, 1362, 1364, 1366, 1368, 1370, 1372, 1374, 1376, 1378, 1380, 1382, 1384, 1386, 1388, 1390, 1392, 1394, 1396, 1398, 1400, 1402, 1404, 1406, 1408, 1410, 1412, 1414, 1416, 1418, 1420, 1422, 1424, 1426, 1428, 1430, 1432, 1434, 1436, 1438, 1440, 1442, 1444, 1446, 1448, 1450, 1452, 1454, 1456, 1458, 1460, 1462, 1464, 1466, 1468, 1470, 1472, 1474, 1476, 1478, 1480, 1482, 1484, 1486, 1488, 1490, 1492, 1494, 1496, 1498, 1500, 1502, 1504, 1506, 1508, 1510, 1512, 1514, 1516, 1518, 1520, 1522, 1524, 1526, 1528, 1530, 1532, 1534, 1536, 1538, 1540, 1542, 1544, 1546, 1548, 1550, 1552, 1554, 1556, 1558, 1560, 1562, 1564, 1566, 1568, 1570, 1572, 1574, 1576, 1578, 1580, 1582, 1584, 1586, 1588, 1590, 1592, 1594, 1596, 1598, 1600, 1602, 1604, 1606, 1608, 1610, 1612, 1614, 1616, 1618, 1620, 1622, 1624, 1626, 1628, 1630, 1632, 1634, 1636, 1638, 1640, 1642, 1644, 1646, 1648, 1650, 1652, 1654, 1656, 1658, 1660, 1662, 1664, 1666, 1668, 1670, 1672, 1674, 1676, 1678, 1680, 1682, 1684, 1686, 1688, 1690, 1692, 1694, 1696, 1698, 1700, 1702, 1704, 1706, 1708, 1710, 1712, 1714, 1716, 1718, 1720, 1722, 1724, 1726, 1728, 1730, 1732, 1734, 1736, 1738, 1740, 1742, 1744, 1746, 1748, 1750, 1752, 1754, 1756, 1758, 1760, 1762, 1764, 1766, 1768, 1770, 1772, 1774, 1776, 1778, 1780, 1782, 1784, 1786, 1788, 1790, 1792, 1794, 1796, 1798, 1800, 1802, 1804, 1806, 1808, 1810, 1812, 1814, 1816, 1818, 1820, 1822, 1824, 1826, 1828, 1830, 1832, 1834, 1836, 1838, 1840, 1842, 1844, 1846, 1848, 1850, 1852, 1854, 1856, 1858, 1860, 1862, 1864, 1866, 1868, 1870, 1872, 1874, 1876, 1878, 1880, 1882, 1884, 1886, 1888, 1890, 1892, 1894, 1896, 1898, 1900, 1902, 1904, 1906, 1908, 1910, 1912, 1914, 1916, 1918, 1920, 1922, 1924, 1926, 1928, 1930, 1932, 1934, 1936, 1938, 1940, 1942, 1944, 1946, 1948, 1950, 1952, 1954, 1956, 1958, 1960, 1962, 1964, 1966, 1968, 1970, 1972, 1974, 1976, 1978, 1980, 1982, 1984, 1986, 1988, 1990, 1992, 1994, 1996, 1998, 2000, 2002, 2004, 2006, 2008, 2010, 2012, 2014, 2016, 2018, 2020, 2022, 2024, 2026, 2028, 2030, 2032, 2034, 2036, 2038, 2040, 2042, 2044, 2046, 2048, 2050, 2052, 2054, 2056, 2058, 2060, 2062, 2064, 2066, 2068, 2070, 2072, 2074, 2076, 2078, 2080, 2082, 2084, 2086, 2088, 2090, 2092, 2094, 2096, 2098, 2100, 2102, 2104, 2106, 2108, 2110, 2112, 2114, 2116, 2118, 2120, 2122, 2124, 2126, 2128, 2130, 2132, 2134, 2136, 2138, 2140, 2142, 2144, 2146, 2148, 2150, 2152, 2154, 2156, 2158, 2160, 2162, 2164, 2166, 2168, 2170, 2172, 2174, 2176, 2178, 2180, 2182, 2184, 2186, 2188, 2190, 2192, 2194, 2196, 2198, 2200, 2202, 2204, 2206, 2208, 2210, 2212, 2214, 2216, 2218, 2220, 2222, 2224, 2226, 2228, 2230, 2232, 2234, 2236, 2238, 2240, 2242, 2244, 2246, 2248, 2250, 2252, 2254, 2256, 2258, 2260, 2262, 2264, 2266, 2268, 2270, 2272, 2274, 2276, 2278, 2280, 2282, 2284, 2286, 2288, 2290, 2292, 2294, 2296, 2298, 2300, 2302, 2304, 2306, 2308, 2310, 2312, 2314, 2316, 2318, 2320, 2322, 2324, 2326, 2328, 2330, 2332, 2334, 2336, 2338, 2340, 2342, 2344, 2346, 2348, 2350, 2352, 2354, 2356, 2358, 2360, 2362, 2364, 2366, 2368, 2370, 2372, 2374, 2376, 2378, 2380, 2382, 2384, 2386, 2388, 2390, 2392, 2394, 2396, 2398, 2400, 2402, 2404, 2406, 2408, 2410, 2412, 2414, 2416, 2418, 2420, 2422, 2424, 2426, 2428, 2430, 2432, 2434, 2436, 2438, 2440, 2442, 2444, 2446, 2448, 2450, 2452, 2454, 2456, 2458, 2460, 2462, 2464, 2466, 2468, 2470, 2472, 2474, 2476, 2478, 2480, 2482, 2484, 2486, 2488, 2490, 2492, 2494, 2496, 2498, 2500, 2502, 2504, 2506, 2508, 2510, 2512, 2514, 2516, 2518, 2520, 2522, 2524, 2526, 2528, 2530, 2532, 2534, 2536, 2538, 2540, 2542, 2544, 2546, 2548, 2550, 2552, 2554, 2556, 2558, 2560, 2562, 2564, 2566, 2568, 2570, 2572, 2574, 2576, 2578, 2580, 2582, 2584, 2586, 2588, 2590, 2592, 2594, 2596, 2598, 2600, 2602, 2604, 2606, 2608, 2610, 2612, 2614, 2616, 2618, 2620, 2622, 2624, 2626, 2628, 2630, 2632, 2634, 2636, 2638, 2640, 2642, 2644, 2646, 2648, 2650, 2652, 2654, 2656, 2658, 2660, 2662, 2664, 2666, 2668, 2670, 2672, 2674, 2676, 2678, 2680, 2682, 2684, 2686, 2688, 2690, 2692, 2694, 2696, 2698, 2700, 2702, 2704, 2706, 2708, 2710, 2712, 2714, 2716, 2718, 2720, 2722, 2724, 2726, 2728, 2730, 2732, 2734, 2736, 2738, 2740, 2742, 2744, 2746, 2748, 2750, 2752, 2754, 2756, 2758, 2760, 2762, 2764, 2766, 2768, 2770, 2772, 2774, 2776, 2778, 2780, 2782, 2784, 2786, 2788, 2790, 2792, 2794, 2796, 2798, 2800, 2802, 2804, 2806, 2808, 2810, 2812, 2814, 2816, 2818, 2820, 2822, 2824, 2826, 2828, 2830, 2832, 2834, 2836, 2838, 2840, 2842, 2844, 2846, 2848, 2850, 2852, 2854, 2856, 2858, 2860, 2862, 2864, 2866, 2868, 2870, 2872, 2874, 2876, 2878, 2880, 2882, 2884, 2886, 2888, 2890, 2892, 2894, 2896, 2898, 2900, 2902, 2904, 2906, 2908, 2910, 2912, 2914, 2916, 2918, 2920, 2922, 2924, 2926, 2928, 2930, 2932, 2934, 2936, 2938, 2940, 2942, 2944, 2946, 2948, 2950, 2952, 2954, 2956, 2958, 2960, 2962, 2964, 2966, 2968, 2970, 2972, 2974, 2976, 2978, 2980, 2982, 2984, 2986, 2988, 2990, 2992, 2994, 2996, 2998, 3000]\n"
     ]
    }
   ],
   "source": [
    "list1=list()\n",
    "a=1000\n",
    "while a<=3000:\n",
    "    if a%2==0:\n",
    "        list1.append(a)\n",
    "    a+=1\n",
    "print(list1)\n",
    "    "
   ]
  },
  {
   "cell_type": "code",
   "execution_count": 44,
   "id": "9ffdbf36",
   "metadata": {},
   "outputs": [
    {
     "name": "stdout",
     "output_type": "stream",
     "text": [
      "[2, 3, 5, 7, 11, 13, 17, 19, 23, 29, 31, 37, 41, 43, 47, 53, 59, 61, 67, 71, 73, 79, 83, 89, 97]\n"
     ]
    }
   ],
   "source": [
    "##list of prime numbers between 1 to 100\n",
    "prime=[]\n",
    "for i in range(2 , 101):\n",
    "    count=0\n",
    "    for j in range(2 , i//2+1):\n",
    "        if i%j==0:\n",
    "            count=1\n",
    "            break\n",
    "    if count==0:\n",
    "        prime.append(i)\n",
    "print(prime)"
   ]
  },
  {
   "cell_type": "markdown",
   "id": "1f1909a3",
   "metadata": {},
   "source": [
    "### Loops and Dictionary exercises"
   ]
  },
  {
   "cell_type": "code",
   "execution_count": 45,
   "id": "e08b0f77",
   "metadata": {},
   "outputs": [],
   "source": [
    "keys = ['M','A','N','G']\n",
    "values = ['Meta','Apple','Netflix','Google']\n",
    "## expected output -> {'M': 'Meta', 'A': 'Apple', 'N': 'Netflix', 'G': 'Google'}"
   ]
  },
  {
   "cell_type": "code",
   "execution_count": 46,
   "id": "5ce7eae1",
   "metadata": {},
   "outputs": [
    {
     "name": "stdout",
     "output_type": "stream",
     "text": [
      "{'M': 'Meta', 'A': 'Apple', 'N': 'Netflix', 'G': 'Google'}\n"
     ]
    }
   ],
   "source": [
    "keys = ['M','A','N','G']\n",
    "values = ['Meta','Apple','Netflix','Google']\n",
    "MANG=dict(zip(keys,values))\n",
    "print(MANG)"
   ]
  },
  {
   "cell_type": "code",
   "execution_count": 47,
   "id": "6a72ae58",
   "metadata": {},
   "outputs": [
    {
     "name": "stdout",
     "output_type": "stream",
     "text": [
      "{'M': 'Meta', 'A': 'Apple', 'N': 'Netflix', 'G': 'Google'}\n"
     ]
    }
   ],
   "source": [
    "keys = ['M','A','N','G']\n",
    "values = ['Meta','Apple','Netflix','Google']\n",
    "dict={}\n",
    "for i in range (len(keys)):\n",
    "    dict[keys[i]]=values[i]\n",
    "     \n",
    "print(dict)"
   ]
  },
  {
   "cell_type": "code",
   "execution_count": 48,
   "id": "6e719cfd",
   "metadata": {},
   "outputs": [
    {
     "name": "stdout",
     "output_type": "stream",
     "text": [
      "{'M': 'Meta', 'A': 'Apple', 'N': 'Netflix', 'G': 'Google'}\n"
     ]
    }
   ],
   "source": [
    "keys = ['M','A','N','G']\n",
    "values = ['Meta','Apple','Netflix','Google']\n",
    "mang_company= {}\n",
    "for i in range (len(keys)):\n",
    "    mang_company.update({keys[i]:values[i]})\n",
    "    \n",
    "print(mang_company)"
   ]
  },
  {
   "cell_type": "code",
   "execution_count": 49,
   "id": "79461d6a",
   "metadata": {},
   "outputs": [
    {
     "data": {
      "text/plain": [
       "1677239260.3142529"
      ]
     },
     "execution_count": 49,
     "metadata": {},
     "output_type": "execute_result"
    }
   ],
   "source": [
    "import time\n",
    "time.time()"
   ]
  },
  {
   "cell_type": "code",
   "execution_count": 50,
   "id": "ddcc0616",
   "metadata": {},
   "outputs": [],
   "source": [
    "#add delay\n",
    "#time.sleep()"
   ]
  },
  {
   "cell_type": "code",
   "execution_count": 51,
   "id": "4cdf33ae",
   "metadata": {},
   "outputs": [
    {
     "name": "stdout",
     "output_type": "stream",
     "text": [
      "{'M': 'Meta', 'A': 'Apple', 'N': 'Netflix', 'G': 'Google'}\n",
      "0.0\n"
     ]
    }
   ],
   "source": [
    "keys = ['M','A','N','G']\n",
    "values = ['Meta','Apple','Netflix','Google']\n",
    "dict={}\n",
    "# start timestamp\n",
    "start=time.time()\n",
    "for i in range (len(keys)):\n",
    "    dict[keys[i]]=values[i]\n",
    "#duration in seconds\n",
    "dur=time.time()-start  \n",
    "print(dict)\n",
    "print(dur)"
   ]
  },
  {
   "cell_type": "markdown",
   "id": "ebb01765",
   "metadata": {},
   "source": [
    "### Exercise: create a dictionary by extracting the keys from a given dictionary"
   ]
  },
  {
   "cell_type": "code",
   "execution_count": 52,
   "id": "719f389d",
   "metadata": {},
   "outputs": [],
   "source": [
    "sample={\n",
    "    \"name\":\"xyz\",\n",
    "    \"age\":25,\n",
    "    \"salary\":10000,\n",
    "    \"city\":\"New York\",\n",
    "    \"contact\":987654321\n",
    "}\n",
    "#keys to extract\n",
    "#keys=[\"name\",\"salary\"]"
   ]
  },
  {
   "cell_type": "code",
   "execution_count": 53,
   "id": "60f23114",
   "metadata": {},
   "outputs": [
    {
     "name": "stdout",
     "output_type": "stream",
     "text": [
      "{'name': 'xyz', 'salary': 10000}\n"
     ]
    }
   ],
   "source": [
    "sample={\n",
    "    \"name\":\"xyz\",\n",
    "    \"age\":25,\n",
    "    \"salary\":10000,\n",
    "    \"city\":\"New York\",\n",
    "    \"contact\":987654321\n",
    "}\n",
    "keys=[\"name\",\"salary\"]\n",
    "new_dict={}\n",
    "for i in keys:\n",
    "    new_dict[i]=sample[i]\n",
    "        \n",
    "print(new_dict)"
   ]
  },
  {
   "cell_type": "code",
   "execution_count": 54,
   "id": "1c2bfeaf",
   "metadata": {},
   "outputs": [
    {
     "name": "stdout",
     "output_type": "stream",
     "text": [
      "{'name': 'xyz', 'salary': 10000}\n"
     ]
    }
   ],
   "source": [
    "newDict = {k:sample[k] for k in keys}\n",
    "print(newDict)"
   ]
  },
  {
   "cell_type": "markdown",
   "id": "ae412d26",
   "metadata": {},
   "source": [
    "min()\n",
    "max()\n",
    "sum()\n",
    "abs()"
   ]
  },
  {
   "cell_type": "markdown",
   "id": "9cd7c20e",
   "metadata": {},
   "source": [
    "## Exercise:  Scan all keys from dictionary and get a key with minimum value"
   ]
  },
  {
   "cell_type": "code",
   "execution_count": 55,
   "id": "9b450e8f",
   "metadata": {},
   "outputs": [
    {
     "name": "stdout",
     "output_type": "stream",
     "text": [
      "maths\n"
     ]
    }
   ],
   "source": [
    "marks={\n",
    "    \"physics\":87,\n",
    "    \"maths\":59,\n",
    "    \"chemistry\":75,\n",
    "    \"english\":91\n",
    "}\n",
    "# min(iterable=dictionary, key=function)\n",
    "print(min(marks,key=marks.get))"
   ]
  },
  {
   "cell_type": "markdown",
   "id": "90691d5f",
   "metadata": {},
   "source": [
    "### Find freuency of  each word from a given input string"
   ]
  },
  {
   "cell_type": "code",
   "execution_count": 56,
   "id": "98ec1765",
   "metadata": {},
   "outputs": [
    {
     "name": "stdout",
     "output_type": "stream",
     "text": [
      "['mumbai', 'delhi', 'delhi', 'hyderabad', 'nagpur', 'hyderabad']\n"
     ]
    }
   ],
   "source": [
    "sample_str = \"mumbai delhi delhi hyderabad nagpur hyderabad \"\n",
    "words=sample_str.split()\n",
    "print(words)  "
   ]
  },
  {
   "cell_type": "code",
   "execution_count": 57,
   "id": "5952848b",
   "metadata": {},
   "outputs": [
    {
     "name": "stdout",
     "output_type": "stream",
     "text": [
      "{'mumbai': 1, 'delhi': 2, 'hyderabad': 2, 'nagpur': 1}\n"
     ]
    }
   ],
   "source": [
    "fre={}\n",
    "for i in words:\n",
    "    fre[i]=words.count(i)\n",
    "    \n",
    "print(fre)"
   ]
  },
  {
   "cell_type": "markdown",
   "id": "f792f60b",
   "metadata": {},
   "source": [
    "## Functions\n",
    "    * In programming, we define a function to make reusable code that performs similar operations. It is a block of organise code written to perform a specific task.  \n",
    "    * Information can be passed into functions as arguments.\n",
    "    * Parameters are specified after the function name within paranthesis. function_name(arg1,arg2,....)\n",
    "    * A function in Python is declared using def keyword.\n",
    "    * A function may or may not return data.\n",
    "    "
   ]
  },
  {
   "cell_type": "code",
   "execution_count": 58,
   "id": "dfac49fd",
   "metadata": {},
   "outputs": [],
   "source": [
    "#declaration of function\n",
    "def myfunc():\n",
    "    print(\"Hello\")"
   ]
  },
  {
   "cell_type": "code",
   "execution_count": 59,
   "id": "7e03d714",
   "metadata": {},
   "outputs": [
    {
     "name": "stdout",
     "output_type": "stream",
     "text": [
      "Hello\n"
     ]
    }
   ],
   "source": [
    "#call function\n",
    "myfunc()"
   ]
  },
  {
   "cell_type": "code",
   "execution_count": 60,
   "id": "df92cd7d",
   "metadata": {},
   "outputs": [
    {
     "name": "stdout",
     "output_type": "stream",
     "text": [
      "Hello Sir Good Evening\n"
     ]
    }
   ],
   "source": [
    "#function with parameters\n",
    "def greeting(name):\n",
    "    '''\n",
    "    This function greets a peron by its name.\n",
    "    greeting(name)\n",
    "    '''\n",
    "    print(\"Hello \" + str(name) + \" Good Evening\")\n",
    "greeting(\"Sir\")"
   ]
  },
  {
   "cell_type": "code",
   "execution_count": 61,
   "id": "28d05517",
   "metadata": {},
   "outputs": [
    {
     "name": "stdout",
     "output_type": "stream",
     "text": [
      "print(value, ..., sep=' ', end='\\n', file=sys.stdout, flush=False)\n",
      "\n",
      "Prints the values to a stream, or to sys.stdout by default.\n",
      "Optional keyword arguments:\n",
      "file:  a file-like object (stream); defaults to the current sys.stdout.\n",
      "sep:   string inserted between values, default a space.\n",
      "end:   string appended after the last value, default a newline.\n",
      "flush: whether to forcibly flush the stream.\n"
     ]
    }
   ],
   "source": [
    "print(print.__doc__)"
   ]
  },
  {
   "cell_type": "code",
   "execution_count": 62,
   "id": "9394793f",
   "metadata": {},
   "outputs": [
    {
     "name": "stdout",
     "output_type": "stream",
     "text": [
      "\n",
      "    This function greets a peron by its name.\n",
      "    greeting(name)\n",
      "    \n"
     ]
    }
   ],
   "source": [
    "#__doc__ use this to get documentation of methods/function\n",
    "print(greeting.__doc__)"
   ]
  },
  {
   "cell_type": "code",
   "execution_count": 63,
   "id": "b02ca9e5",
   "metadata": {},
   "outputs": [
    {
     "name": "stdout",
     "output_type": "stream",
     "text": [
      "sum of two arguments are: 24\n",
      "sum of two arguments are: 24.5\n"
     ]
    }
   ],
   "source": [
    "#function with two arguments\n",
    "def add(var1,var2):\n",
    "    var3=var1+var2\n",
    "    # %s - string, %d/%i - numerical(int), %f- float\n",
    "    print(\"sum of two arguments are: %d\" %var3)\n",
    "    print(\"sum of two arguments are:\", var3)\n",
    "add(12,12.5)"
   ]
  },
  {
   "cell_type": "code",
   "execution_count": 64,
   "id": "4f376edb",
   "metadata": {},
   "outputs": [
    {
     "data": {
      "text/plain": [
       "'Hello K Good Evening'"
      ]
     },
     "execution_count": 64,
     "metadata": {},
     "output_type": "execute_result"
    }
   ],
   "source": [
    "# Function with return statement\n",
    "def greeting(name):\n",
    "    statement=\"Hello \" + name + \" Good Evening\"\n",
    "    return statement\n",
    "# calling a function\n",
    "greeting(\"K\")"
   ]
  },
  {
   "cell_type": "markdown",
   "id": "b6e8f398",
   "metadata": {},
   "source": [
    "### Create a function calculator, takes 3 parameters two numbers and one operation"
   ]
  },
  {
   "cell_type": "code",
   "execution_count": 65,
   "id": "2b648099",
   "metadata": {},
   "outputs": [
    {
     "name": "stdout",
     "output_type": "stream",
     "text": [
      "Enter val1: 12\n",
      "Enter val2: 12\n",
      "enter operator*\n",
      "144.0\n"
     ]
    }
   ],
   "source": [
    "def calculator(val1,val2,operator):\n",
    "    ans=0\n",
    "    if operator==\"+\":\n",
    "        ans=val1+val2\n",
    "        print(ans)\n",
    "    elif operator==\"-\":\n",
    "        ans=val1-val2\n",
    "        print(ans)\n",
    "    elif operator==\"*\":\n",
    "        ans=val1*val2\n",
    "        print(ans)\n",
    "    elif operator==\"/\":\n",
    "        ans=val1/val2\n",
    "        print(ans)\n",
    "    elif operator==\"%\":\n",
    "        ans=val1%val2\n",
    "        print(ans)\n",
    "\n",
    "a=float(input(\"Enter val1: \"))\n",
    "b=float(input(\"Enter val2: \"))\n",
    "c=input(\"enter operator\")\n",
    "calculator(a,b,c)\n"
   ]
  },
  {
   "cell_type": "markdown",
   "id": "a262d815",
   "metadata": {},
   "source": []
  },
  {
   "cell_type": "code",
   "execution_count": 74,
   "id": "9097f07b",
   "metadata": {},
   "outputs": [
    {
     "name": "stdout",
     "output_type": "stream",
     "text": [
      "Enter val1: 12\n",
      "Enter val2: 10\n",
      "enter operator-\n"
     ]
    },
    {
     "data": {
      "text/plain": [
       "2.0"
      ]
     },
     "execution_count": 74,
     "metadata": {},
     "output_type": "execute_result"
    }
   ],
   "source": [
    "def calculator(val1,val2,operator):\n",
    "    ans=0\n",
    "    return(val1+val2 if operator==\"+\" else val1-val2 if operator==\"-\" else val1*val2 if operator==\"*\" else val1/val2 if operator==\"/\" else \"Not a valid operator\")\n",
    "    return ans\n",
    "\n",
    "a=float(input(\"Enter val1: \"))\n",
    "b=float(input(\"Enter val2: \"))\n",
    "c=input(\"enter operator\")\n",
    "calculator(a,b,c)\n"
   ]
  },
  {
   "cell_type": "markdown",
   "id": "3f1bd77e",
   "metadata": {},
   "source": [
    "### Scope of a variable\n",
    "    "
   ]
  },
  {
   "cell_type": "code",
   "execution_count": 76,
   "id": "6763c5fc",
   "metadata": {},
   "outputs": [
    {
     "name": "stdout",
     "output_type": "stream",
     "text": [
      "inner variable\n",
      "global variable\n"
     ]
    }
   ],
   "source": [
    "#local scope\n",
    "\n",
    "var = \"global variable\"\n",
    "def inner():\n",
    "    var = 'inner variable'\n",
    "    print(var)\n",
    "inner()\n",
    "print(var)"
   ]
  },
  {
   "cell_type": "code",
   "execution_count": 78,
   "id": "6cf5823c",
   "metadata": {},
   "outputs": [
    {
     "name": "stdout",
     "output_type": "stream",
     "text": [
      "global variable\n"
     ]
    }
   ],
   "source": [
    "#global variable\n",
    "var = \"global variable\"\n",
    "def inner():\n",
    "    var1 = 'inner variable'\n",
    "    print(var)\n",
    "inner()"
   ]
  },
  {
   "cell_type": "code",
   "execution_count": 81,
   "id": "dd4d0628",
   "metadata": {},
   "outputs": [
    {
     "name": "stdout",
     "output_type": "stream",
     "text": [
      "outer variable\n",
      "global variable\n"
     ]
    }
   ],
   "source": [
    "#enclosed scope\n",
    "var=\"global variable\"\n",
    "def outer():\n",
    "    var=\"outer variable\"\n",
    "    def inner():\n",
    "        print(var)\n",
    "    inner()\n",
    "    \n",
    "outer()\n",
    "print(var)"
   ]
  },
  {
   "cell_type": "code",
   "execution_count": null,
   "id": "0243d0ef",
   "metadata": {},
   "outputs": [],
   "source": []
  }
 ],
 "metadata": {
  "kernelspec": {
   "display_name": "Python 3 (ipykernel)",
   "language": "python",
   "name": "python3"
  },
  "language_info": {
   "codemirror_mode": {
    "name": "ipython",
    "version": 3
   },
   "file_extension": ".py",
   "mimetype": "text/x-python",
   "name": "python",
   "nbconvert_exporter": "python",
   "pygments_lexer": "ipython3",
   "version": "3.9.13"
  }
 },
 "nbformat": 4,
 "nbformat_minor": 5
}
