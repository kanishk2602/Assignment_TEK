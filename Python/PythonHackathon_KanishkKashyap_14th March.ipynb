{
 "cells": [
  {
   "cell_type": "code",
   "execution_count": 12,
   "id": "e92fbbfa",
   "metadata": {},
   "outputs": [
    {
     "data": {
      "text/plain": [
       "2"
      ]
     },
     "execution_count": 12,
     "metadata": {},
     "output_type": "execute_result"
    }
   ],
   "source": [
    "# 1.\n",
    "def div(list1):\n",
    "    count=0\n",
    "    for i in list1:\n",
    "        if i%3 == 0 and i%4==0:\n",
    "            d_sum = sum(int(j) for j in str(i))\n",
    "            if d_sum%5 !=0:\n",
    "                count +=1\n",
    "    return count\n",
    "div([3,4,21,12,22,44,55,108])"
   ]
  },
  {
   "cell_type": "code",
   "execution_count": 2,
   "id": "cb835c3c",
   "metadata": {},
   "outputs": [
    {
     "name": "stdout",
     "output_type": "stream",
     "text": [
      "1Z0Z1Z1X0Y1\n",
      "1\n"
     ]
    }
   ],
   "source": [
    "# 2.\n",
    "def StringBinaryOperations(str1):\n",
    "    if str1 is None:\n",
    "        return \"Invalid Input\"\n",
    "    a = int(str1[0])\n",
    "    b = int(str1[2])\n",
    "    for i in range(3, len(str1), 2):\n",
    "        test = str1[i]\n",
    "        if test == 'X':\n",
    "            b = a & int(str1[i+1])\n",
    "        elif test == 'Y':\n",
    "            b = a | int(str1[i+1])\n",
    "        elif test == 'Z':\n",
    "            b = a ^ int(str1[i+1])\n",
    "        a = b\n",
    "    return b\n",
    "str1=input()\n",
    "print(StringBinaryOperations(str1))"
   ]
  },
  {
   "cell_type": "code",
   "execution_count": 7,
   "id": "aa9e71ba",
   "metadata": {},
   "outputs": [
    {
     "name": "stdout",
     "output_type": "stream",
     "text": [
      "123\n",
      "qwerty\n",
      "1000\n",
      "100\n",
      "100\n",
      "1100\n",
      "None\n",
      "1000\n",
      "None\n"
     ]
    }
   ],
   "source": [
    "# 3.\n",
    "class Account:\n",
    "    def __init__(self,accntNo,accntName,accntBalance):\n",
    "        self.accntNo=accntNo\n",
    "        self.accntName=accntName\n",
    "        self.accntBalance=accntBalance\n",
    "        \n",
    "class AccountDemo:\n",
    "    def __init__(self):\n",
    "        pass\n",
    "\n",
    "    def depositAmnt(self,acnt,depo_amnt):\n",
    "        self.accntBalance1=acnt.accntBalance+depo_amnt\n",
    "        print(self.accntBalance1)\n",
    "    \n",
    "    def withdrawAmnt(self,acnt,withamnt): \n",
    "        deduct=self.accntBalance1-withamnt\n",
    "        if deduct<1000:\n",
    "            print(\"Insufficient balance\")\n",
    "        else:\n",
    "            print(deduct)\n",
    "if __name__ == '__main__':\n",
    "    acno=int(input())\n",
    "    acname=input()\n",
    "    acntbal=int(input())\n",
    "    depo_amnt=int(input())\n",
    "    withamnt=int(input())\n",
    "    acnt=Account(acno,acname,acntbal)\n",
    "    obj=AccountDemo()\n",
    "    print(obj.depositAmnt(acnt,depo_amnt))\n",
    "    print(obj.withdrawAmnt(acnt,withamnt))"
   ]
  },
  {
   "cell_type": "code",
   "execution_count": 8,
   "id": "bcf29229",
   "metadata": {},
   "outputs": [
    {
     "name": "stdout",
     "output_type": "stream",
     "text": [
      "Enter  :1210\n",
      "3\n"
     ]
    }
   ],
   "source": [
    "# 4.\n",
    "def FindAutoCount(n):\n",
    "    if n is None:\n",
    "        return 0\n",
    "    dict1 = {}\n",
    "    for i in n:\n",
    "        dict1[i] = dict1.get(i, 0) + 1\n",
    "    for i in range(len(n)):\n",
    "        if int(n[i]) != list(n).count(str(i)):\n",
    "            return 0\n",
    "    return len(set(n))\n",
    "n=input(\"Enter  :\")\n",
    "print(FindAutoCount(n))"
   ]
  },
  {
   "cell_type": "code",
   "execution_count": 6,
   "id": "7f01058d",
   "metadata": {},
   "outputs": [
    {
     "name": "stdout",
     "output_type": "stream",
     "text": [
      "Anagrams\n"
     ]
    }
   ],
   "source": [
    "# 5.\n",
    "def isAnagrams(str1, str2):\n",
    "    if(sorted(str1)== sorted(str2)):\n",
    "        print(\"Anagrams\")\n",
    "    else:\n",
    "        print(\"Not Anagrams\")        \n",
    "         \n",
    "str1 =\"race\"\n",
    "str2 =\"care\"\n",
    "isAnagrams(str1, str2)"
   ]
  }
 ],
 "metadata": {
  "kernelspec": {
   "display_name": "Python 3 (ipykernel)",
   "language": "python",
   "name": "python3"
  },
  "language_info": {
   "codemirror_mode": {
    "name": "ipython",
    "version": 3
   },
   "file_extension": ".py",
   "mimetype": "text/x-python",
   "name": "python",
   "nbconvert_exporter": "python",
   "pygments_lexer": "ipython3",
   "version": "3.9.13"
  }
 },
 "nbformat": 4,
 "nbformat_minor": 5
}
