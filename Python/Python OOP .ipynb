{
 "cells": [
  {
   "cell_type": "markdown",
   "id": "64ae4fd7",
   "metadata": {},
   "source": [
    "### Classes and Objects\n",
    "    *  A class is an object constructor or a blueprint for creating objects.\n",
    "    * Objects are nothing but an encapsulation of multiple variables and methods in a single entity.\n",
    "    * Object get their variables and functions from class.\n",
    "    * self parameter is reference to current/newly created object of class, with object used can access attributes/methods etc.\n",
    "    * self is the parameter of any method (function) in class."
   ]
  },
  {
   "cell_type": "code",
   "execution_count": 1,
   "id": "5a9af743",
   "metadata": {},
   "outputs": [],
   "source": [
    "#declare a class with classname\n",
    "class className:\n",
    "    #declare a function with parameter \"name\"\n",
    "    def createName(self,name):\n",
    "        #initialize attribute with self.name = name passed by user\n",
    "        self.name=name\n",
    "    \n",
    "    def greetings(self):\n",
    "        print(\"Hello, Good Afternoon\", self.name)\n",
    "        \n",
    "#obj is object of class\n",
    "obj=className()"
   ]
  },
  {
   "cell_type": "code",
   "execution_count": 2,
   "id": "40588fd9",
   "metadata": {},
   "outputs": [
    {
     "name": "stdout",
     "output_type": "stream",
     "text": [
      "Hello, Good Afternoon XYZ\n"
     ]
    }
   ],
   "source": [
    "obj.createName(\"XYZ\")\n",
    "obj.greetings()"
   ]
  },
  {
   "cell_type": "code",
   "execution_count": 3,
   "id": "d22d5d8e",
   "metadata": {},
   "outputs": [],
   "source": [
    "# create an employee class\n",
    "class Employee:\n",
    "    def __init__(self,name,empid):    # __init__() method is used to assign value at the object \n",
    "        self.name = name\n",
    "        self.empid = empid\n",
    "    \n",
    "    def greet(self):\n",
    "        print(\"Thanks for joining XYZ Company {} !!\".format(self.name))"
   ]
  },
  {
   "cell_type": "code",
   "execution_count": 4,
   "id": "1c7c66b7",
   "metadata": {},
   "outputs": [],
   "source": [
    "#cretae an Employee object\n",
    "emp1 = Employee(\"ABC\",9876)"
   ]
  },
  {
   "cell_type": "code",
   "execution_count": 5,
   "id": "fe36f641",
   "metadata": {},
   "outputs": [
    {
     "name": "stdout",
     "output_type": "stream",
     "text": [
      "Employee ID:  9876\n",
      "Name:  ABC\n",
      "Thanks for joining XYZ Company ABC !!\n"
     ]
    }
   ],
   "source": [
    "print(\"Employee ID: \",emp1.empid)\n",
    "print(\"Name: \",emp1.name)\n",
    "emp1.greet()"
   ]
  },
  {
   "cell_type": "code",
   "execution_count": 6,
   "id": "87578766",
   "metadata": {},
   "outputs": [
    {
     "name": "stdout",
     "output_type": "stream",
     "text": [
      "Employee ID:  6543\n",
      "Name:  XYZ\n",
      "India\n",
      "Thanks for joining XYZ Company XYZ !!\n",
      "DEF\n",
      "Thanks for joining XYZ Company DEF !!\n"
     ]
    }
   ],
   "source": [
    "#create another object\n",
    "emp2 =Employee('XYZ', 6543)\n",
    "print(\"Employee ID: \",emp2.empid)\n",
    "print(\"Name: \",emp2.name)\n",
    "\n",
    "emp2.country = \"India\" #Instance variable can be created manually.\n",
    "print(emp2.country)\n",
    "emp2.greet()\n",
    "\n",
    "#modify properties\n",
    "emp1.name=\"DEF\"\n",
    "print(emp1.name)\n",
    "\n",
    "emp1.greet()"
   ]
  },
  {
   "cell_type": "code",
   "execution_count": 7,
   "id": "1fe83b42",
   "metadata": {},
   "outputs": [],
   "source": [
    "#delete an object properties\n",
    "del(emp1)"
   ]
  },
  {
   "cell_type": "markdown",
   "id": "e9958289",
   "metadata": {},
   "source": [
    "### Exercise: create a class person.\n",
    "    * Initilize values 'name', 'surname', 'birthdate', 'address', 'contact', 'email'\n",
    "    * create a method tht returns age"
   ]
  },
  {
   "cell_type": "code",
   "execution_count": 31,
   "id": "17c545f1",
   "metadata": {},
   "outputs": [],
   "source": [
    "import datetime\n",
    "today=datetime.date.today()"
   ]
  },
  {
   "cell_type": "code",
   "execution_count": 39,
   "id": "fe083d3c",
   "metadata": {},
   "outputs": [],
   "source": [
    "# from datetime import date\n",
    "\n",
    "class person:\n",
    "    def __init__(self,name,surname,birthdate,address,contact,email):\n",
    "        self.name = name\n",
    "        self.surname =surname\n",
    "        self.birthdate=birthdate\n",
    "        self.address = address\n",
    "        self.contact = contact\n",
    "        self.email = email\n",
    "    \n",
    "    def age(self):\n",
    "        today = date.today()\n",
    "        age = today.year - self.birthdate.year - ((today.month, today.day) < (self.birthdate.month, self.birthdate.day))\n",
    "        return age"
   ]
  },
  {
   "cell_type": "code",
   "execution_count": 41,
   "id": "2b20fa0c",
   "metadata": {},
   "outputs": [
    {
     "data": {
      "text/plain": [
       "21"
      ]
     },
     "execution_count": 41,
     "metadata": {},
     "output_type": "execute_result"
    }
   ],
   "source": [
    "details = person(\"kanishk\",\"kashyap\",date(2002,2,26),\"Hyderabad\",987654321, \"kkashyap\")\n",
    "details.age()"
   ]
  },
  {
   "cell_type": "code",
   "execution_count": 42,
   "id": "a6cb4e56",
   "metadata": {},
   "outputs": [
    {
     "data": {
      "text/plain": [
       "datetime.date(2002, 2, 26)"
      ]
     },
     "execution_count": 42,
     "metadata": {},
     "output_type": "execute_result"
    }
   ],
   "source": [
    "details.birthdate"
   ]
  },
  {
   "cell_type": "code",
   "execution_count": 54,
   "id": "25408ed8",
   "metadata": {},
   "outputs": [],
   "source": [
    "import datetime\n",
    "today=datetime.date.today()\n",
    "\n",
    "class person:\n",
    "    def __init__(self,name,surname,birthdate,address,contact,email):\n",
    "        self.name = name\n",
    "        self.surname =surname\n",
    "        self.birthdate=birthdate\n",
    "        self.address = address\n",
    "        self.contact = contact\n",
    "        self.email = email\n",
    "    def age(self):\n",
    "        today = datetime.date.today()\n",
    "        age= today.year - self.birthdate.year\n",
    "        \n",
    "        if today < datetime.date(today.year,self.birthdate.month,self.birthdate.day):\n",
    "            age=-1\n",
    "            \n",
    "        if age < 0:\n",
    "            print(\"person not born\")\n",
    "        return age"
   ]
  },
  {
   "cell_type": "code",
   "execution_count": 55,
   "id": "c377dfec",
   "metadata": {},
   "outputs": [
    {
     "data": {
      "text/plain": [
       "21"
      ]
     },
     "execution_count": 55,
     "metadata": {},
     "output_type": "execute_result"
    }
   ],
   "source": [
    "details = person(\"kanishk\",\"kashyap\",date(2002,2,26),\"Hyderabad\",987654321, \"kkashyap\")\n",
    "details.age()"
   ]
  },
  {
   "cell_type": "code",
   "execution_count": 56,
   "id": "ddaa612e",
   "metadata": {},
   "outputs": [
    {
     "data": {
      "text/plain": [
       "'kanishk'"
      ]
     },
     "execution_count": 56,
     "metadata": {},
     "output_type": "execute_result"
    }
   ],
   "source": [
    "details.name"
   ]
  },
  {
   "cell_type": "code",
   "execution_count": 57,
   "id": "53ab97ce",
   "metadata": {},
   "outputs": [
    {
     "data": {
      "text/plain": [
       "'kashyap'"
      ]
     },
     "execution_count": 57,
     "metadata": {},
     "output_type": "execute_result"
    }
   ],
   "source": [
    "details.surname"
   ]
  },
  {
   "cell_type": "markdown",
   "id": "9da02024",
   "metadata": {},
   "source": [
    "### Access Modifiers - Public, Private and Protected modifiers"
   ]
  },
  {
   "cell_type": "code",
   "execution_count": 58,
   "id": "17b0005a",
   "metadata": {},
   "outputs": [],
   "source": [
    "# Example Public Access Modifiers in a class\n",
    "class Employee():\n",
    "    #declare constructor\n",
    "    def __init__(self,name,age):\n",
    "        #public data members\n",
    "        self.employeeName = name\n",
    "        self.employeeAge = age\n",
    "        \n",
    "    #public member function\n",
    "    def printAge(self):\n",
    "        print(\"Employee Age: \", self.employeeAge)"
   ]
  },
  {
   "cell_type": "code",
   "execution_count": 59,
   "id": "a8d07683",
   "metadata": {},
   "outputs": [
    {
     "name": "stdout",
     "output_type": "stream",
     "text": [
      "Employee Age:  25\n"
     ]
    }
   ],
   "source": [
    "#create an object of class Employee\n",
    "empobj = Employee(\"ABC\",25)\n",
    "empobj.printAge()"
   ]
  },
  {
   "cell_type": "code",
   "execution_count": 83,
   "id": "b35a4b52",
   "metadata": {},
   "outputs": [],
   "source": [
    "# Example Protected Access Modifiers in a class\n",
    "#Parent class\n",
    "class Employee:\n",
    "    #protected data members\n",
    "    _name = None\n",
    "    _department = None\n",
    "    \n",
    "    #declare constructor\n",
    "    def __init__(self,name,department):\n",
    "        #protected data members\n",
    "        self._name=name\n",
    "        self._department=department\n",
    "        \n",
    "    # protected member function\n",
    "    def _display(self):\n",
    "        print(self._name)\n",
    "        print(self._department)"
   ]
  },
  {
   "cell_type": "code",
   "execution_count": 84,
   "id": "664f731e",
   "metadata": {},
   "outputs": [],
   "source": [
    "# Derived class - derived class can access protecte data members of parent class\n",
    "class EmpDetails(Employee):\n",
    "    def __init__(self,name,department):\n",
    "        #calling parent class constructor\n",
    "        Employee.__init__(self,name,department)\n",
    "        \n",
    "    # public method\n",
    "    def displayDetails(self):\n",
    "        print(\"Name :\",self._name)\n",
    "        self._display()\n",
    "#         print(\"Department :\", self._department)\n",
    "        "
   ]
  },
  {
   "cell_type": "code",
   "execution_count": 85,
   "id": "22c516f3",
   "metadata": {},
   "outputs": [
    {
     "name": "stdout",
     "output_type": "stream",
     "text": [
      "Name : Kanishk\n",
      "Kanishk\n",
      "DI\n"
     ]
    }
   ],
   "source": [
    "# Declare object of derived class\n",
    "obj = EmpDetails(\"Kanishk\",\"DI\")\n",
    "obj.displayDetails()"
   ]
  },
  {
   "cell_type": "code",
   "execution_count": 101,
   "id": "904baf73",
   "metadata": {},
   "outputs": [],
   "source": [
    "# Private Access Modifiers\n",
    "class Employee:\n",
    "    # protected data members\n",
    "    __name = None\n",
    "    __department = None\n",
    "    #declare constructor\n",
    "    def __init__(self,name,department):\n",
    "        #protected data members\n",
    "        self.__name = name\n",
    "        self.__department = department\n",
    "        \n",
    "    # private member function\n",
    "    def __display(self):\n",
    "        print(self.__name)\n",
    "        print(self.__department)\n",
    "     \n",
    "    #public method\n",
    "    def accessPrivateFunction(self):\n",
    "        self.__display()\n"
   ]
  },
  {
   "cell_type": "code",
   "execution_count": 102,
   "id": "8b093c52",
   "metadata": {},
   "outputs": [
    {
     "name": "stdout",
     "output_type": "stream",
     "text": [
      "enter name: Kanishk\n",
      "enter department: DI\n"
     ]
    }
   ],
   "source": [
    "name = input(\"enter name: \")\n",
    "department = input(\"enter department: \")\n",
    "obj = Employee(name,department)"
   ]
  },
  {
   "cell_type": "code",
   "execution_count": 103,
   "id": "a64eacb0",
   "metadata": {},
   "outputs": [
    {
     "name": "stdout",
     "output_type": "stream",
     "text": [
      "Kanishk\n",
      "DI\n"
     ]
    }
   ],
   "source": [
    "obj.accessPrivateFunction()"
   ]
  },
  {
   "cell_type": "markdown",
   "id": "da1d3716",
   "metadata": {},
   "source": [
    "## Inheritance\n",
    "    * Inheritance provides code reusability in a program because we can use an existing class (super class/parent class/ base class) to create a new class (sub class/ child class/ derived class) instead of creating everything from scratch."
   ]
  },
  {
   "cell_type": "code",
   "execution_count": 1,
   "id": "77b73989",
   "metadata": {},
   "outputs": [],
   "source": [
    "#parent class declaraion\n",
    "class Parent:\n",
    "    #constructor\n",
    "    def __init__(self,name):\n",
    "        self.name=name\n",
    "        print(\"Calling Name: \", self.name)\n",
    "    def ParentMethod(self):\n",
    "        print(\"Calling parent Class Method\")\n",
    "        \n",
    "#derived class\n",
    "class Child(Parent):\n",
    "    def __init__(self):\n",
    "        print(\"Calling child constructor\")\n",
    "    def ChildMethod(self):\n",
    "        print(\"Calling child class method\")"
   ]
  },
  {
   "cell_type": "code",
   "execution_count": 4,
   "id": "673e059d",
   "metadata": {},
   "outputs": [
    {
     "name": "stdout",
     "output_type": "stream",
     "text": [
      "Calling Name:  Python\n",
      "Calling child constructor\n"
     ]
    }
   ],
   "source": [
    "#object of parent class\n",
    "obj1 = Parent(\"Python\")\n",
    "#object of child class\n",
    "obj2 = Child()"
   ]
  },
  {
   "cell_type": "code",
   "execution_count": 9,
   "id": "d231697b",
   "metadata": {},
   "outputs": [
    {
     "name": "stdout",
     "output_type": "stream",
     "text": [
      "Calling parent Class Method\n",
      "Calling child class method\n"
     ]
    }
   ],
   "source": [
    "obj2.ParentMethod()\n",
    "obj2.ChildMethod()"
   ]
  },
  {
   "cell_type": "markdown",
   "id": "d26af839",
   "metadata": {},
   "source": [
    "* Multilevel Inheritance"
   ]
  },
  {
   "cell_type": "raw",
   "id": "450fef67",
   "metadata": {},
   "source": [
    "# Multilevel Inheritance \n",
    "class Parent:\n",
    "    statement(s)\n",
    "    \n",
    "class Child(Parent):\n",
    "    statement(s)\n",
    "    \n",
    "class GrandChild(Child):\n",
    "    statement(s)\n",
    "\n",
    "    "
   ]
  },
  {
   "cell_type": "code",
   "execution_count": 16,
   "id": "f2e44856",
   "metadata": {},
   "outputs": [],
   "source": [
    "class person:\n",
    "    #constructor\n",
    "    def __init__(self,name,age,gender):\n",
    "        self.name = name\n",
    "        self.age = age\n",
    "        self.gender = gender\n",
    "    \n",
    "    def PersonInfo(self):\n",
    "        print('Name : {}'.format(self.name))\n",
    "        print('Age : {}'.format(self.age))\n",
    "        print('Gender : {}'.format(self.gender))\n",
    "\n",
    "#child class of person\n",
    "class employee(person):\n",
    "    def __init__(self,name,age,gender,empid,salary):\n",
    "        person.__init__(self,name,age,gender)\n",
    "        self.empid = empid\n",
    "        self.salary = salary\n",
    "    def employeeinfo(self):\n",
    "        print('Emp ID : {}'.format(self.empid))\n",
    "        print('Salary : {}'.format(self.salary))\n",
    "\n",
    "# grand-child class\n",
    "class fulltime(employee):\n",
    "    def __init__(self,name,age,gender,empid,salary,WorkExperience):\n",
    "        employee.__init__(self,name,age,gender,empid,salary)\n",
    "        self.WorkExperience = WorkExperience\n",
    "        \n",
    "    def FullTimeInfo(self):\n",
    "        print(\"Work Experience {}\".format(self.WorkExperience))\n",
    "\n",
    "# grand-child class\n",
    "class contractual(employee):\n",
    "     def __init__(self,name,age,gender,empid,salary,ContractExpiry):\n",
    "        employee.__init__(self,name,age,gender,empid,salary)\n",
    "        self.ContractExpiry = ContractExpiry\n",
    "        \n",
    "     def ContractInfo(self):\n",
    "        print(\"Contract Expiry {}\".format(self.ContractExpiry))  "
   ]
  },
  {
   "cell_type": "code",
   "execution_count": 17,
   "id": "3fcbc453",
   "metadata": {},
   "outputs": [
    {
     "name": "stdout",
     "output_type": "stream",
     "text": [
      "Contractual Employee Details:\n",
      "*****************************\n",
      "Name : XYZ\n",
      "Age : 25\n",
      "Gender : Male\n",
      "Emp ID : 12345\n",
      "Salary : 10000\n",
      "Contract Expiry 30-03-2023\n"
     ]
    }
   ],
   "source": [
    "print('Contractual Employee Details:')\n",
    "print('*****************************')\n",
    "contr_obj = contractual('XYZ',25,'Male',12345,10000,'30-03-2023')\n",
    "contr_obj.PersonInfo()\n",
    "contr_obj.employeeinfo()\n",
    "contr_obj.ContractInfo()"
   ]
  },
  {
   "cell_type": "code",
   "execution_count": 18,
   "id": "b0609d0c",
   "metadata": {},
   "outputs": [
    {
     "name": "stdout",
     "output_type": "stream",
     "text": [
      "Full Time Employee Details:\n",
      "*****************************\n",
      "Name : XYZ\n",
      "Age : 25\n",
      "Gender : Male\n",
      "Emp ID : 12345\n",
      "Salary : 10000\n",
      "Work Experience 5\n"
     ]
    }
   ],
   "source": [
    "print('Full Time Employee Details:')\n",
    "print('*****************************')\n",
    "full_obj = fulltime('XYZ',25,'Male',12345,10000,5)\n",
    "full_obj.PersonInfo()\n",
    "full_obj.employeeinfo()\n",
    "full_obj.FullTimeInfo()"
   ]
  },
  {
   "cell_type": "markdown",
   "id": "9bf94326",
   "metadata": {},
   "source": [
    "* Multiple Inheritance"
   ]
  },
  {
   "cell_type": "raw",
   "id": "a18d2445",
   "metadata": {},
   "source": [
    "# Multiple Inheritance\n",
    "class Father:\n",
    "    statement(s)\n",
    "\n",
    "class Mother:\n",
    "    statement(s)\n",
    "    \n",
    "class Child:\n",
    "    statement(s)"
   ]
  },
  {
   "cell_type": "code",
   "execution_count": 21,
   "id": "6936eb04",
   "metadata": {},
   "outputs": [
    {
     "name": "stdout",
     "output_type": "stream",
     "text": [
      "2023-02-28 10:58:10\n"
     ]
    }
   ],
   "source": [
    "class CurrentDate:\n",
    "    def __init__(self,date):\n",
    "        self.date=date\n",
    "    \n",
    "class CurrentTime:\n",
    "    def __init__(self,time):\n",
    "        self.time=time\n",
    " \n",
    "# Multiple Inheritance\n",
    "class timestamp(CurrentDate,CurrentTime):\n",
    "    def __init__(self,date,time):\n",
    "        CurrentDate.__init__(self,date)\n",
    "        CurrentTime.__init__(self,time)\n",
    "        timestamp = self.date + self.time\n",
    "        print(timestamp)\n",
    "        \n",
    "datetime1= timestamp(\"2023-02-28\", \" 10:58:10\")"
   ]
  },
  {
   "cell_type": "raw",
   "id": "ac3a749b",
   "metadata": {},
   "source": [
    "# Hierarchical Inheritance\n",
    "class Parent:\n",
    "    statement(s)\n",
    "\n",
    "# two derived class using parent class\n",
    "class Child1(Parent):\n",
    "    statement(s)\n",
    "    \n",
    "class Child2(Parent):\n",
    "    statement(s)\n"
   ]
  },
  {
   "cell_type": "code",
   "execution_count": 32,
   "id": "a4b8b82c",
   "metadata": {},
   "outputs": [
    {
     "name": "stdout",
     "output_type": "stream",
     "text": [
      "Price of car is : 1000\n",
      "Service cost is:  2000\n"
     ]
    }
   ],
   "source": [
    "class car:\n",
    "    def __init__(self,name,model):\n",
    "        self.name = name\n",
    "        self.model = model\n",
    "        \n",
    "class purchase(car):\n",
    "    def __init__(self,name,model,car_price):\n",
    "        car.__init__(self,name,model)\n",
    "        self.car_price = car_price\n",
    "        print(\"Price of car is :\",car_price )\n",
    "        \n",
    "class service(car):\n",
    "    def __init__(self,name,model,ser_price):\n",
    "        car.__init__(self,name,model)\n",
    "        self.ser_price = ser_price\n",
    "        print(\"Service cost is: \",ser_price)\n",
    "        \n",
    "obj1 = purchase(\"abc\",\"xyz\",1000)\n",
    "obj2 = service(\"abc\",\"xyz\",2000)     \n",
    "    "
   ]
  },
  {
   "cell_type": "markdown",
   "id": "dca03b2a",
   "metadata": {},
   "source": [
    "* super() : builtin function, this allows to access methods of parent class."
   ]
  },
  {
   "cell_type": "code",
   "execution_count": 40,
   "id": "1d97691b",
   "metadata": {},
   "outputs": [
    {
     "name": "stdout",
     "output_type": "stream",
     "text": [
      "Name : abc\n",
      "Age : 22\n",
      "Gender : male\n",
      "student ID : 123\n",
      "fees : 10000\n"
     ]
    }
   ],
   "source": [
    "class person:\n",
    "    def __init__(self,name,age,gender):\n",
    "        self.name = name\n",
    "        self.age = age\n",
    "        self.gender = gender\n",
    "        \n",
    "    def PersonInfo(self):\n",
    "        print('Name : {}'.format(self.name))\n",
    "        print('Age : {}'.format(self.age))\n",
    "        print('Gender : {}'.format(self.gender))\n",
    "        \n",
    "class student(person):\n",
    "    def __init__(self,name,age,gender,studentid,fees):\n",
    "        # replace class name by super()\n",
    "        super().__init__(name,age,gender)\n",
    "        self.studentid = studentid\n",
    "        self.fees = fees\n",
    "    def studentinfo(self):\n",
    "        super().PersonInfo()\n",
    "        print('student ID : {}'.format(self.studentid))\n",
    "        print('fees : {}'.format(self.fees))   \n",
    "        \n",
    "\n",
    "student_obj = student('abc',22,'male',123,10000)\n",
    "student_obj.studentinfo()"
   ]
  },
  {
   "cell_type": "markdown",
   "id": "e672eb62",
   "metadata": {},
   "source": [
    "### Encapsulation\n",
    "    * Wrapping up of data methods that work on data within one unit."
   ]
  },
  {
   "cell_type": "code",
   "execution_count": 44,
   "id": "c87e81eb",
   "metadata": {},
   "outputs": [
    {
     "name": "stdout",
     "output_type": "stream",
     "text": [
      "Calling protected members:  10000\n",
      "Calling protected members:  20000\n",
      "10000\n",
      "20000\n"
     ]
    }
   ],
   "source": [
    "class parent:\n",
    "    def __init__(self):\n",
    "        #protected member\n",
    "        self._value = 10000\n",
    "        self.__value1= \"protected member\"\n",
    "        \n",
    "class child(parent):\n",
    "    def __init__(self):\n",
    "        parent.__init__(self)\n",
    "        print(\"Calling protected members: \", self._value)\n",
    "        # modify protected variable\n",
    "        self._value = 20000\n",
    "        print(\"Calling protected members: \", self._value)\n",
    "#         self.__value1 = \"Updated protected member\"\n",
    "        \n",
    "obj1 = parent()\n",
    "obj2 = child()\n",
    "print(obj1._value)\n",
    "print(obj2._value)\n",
    "# print(obj2.__value1)"
   ]
  },
  {
   "cell_type": "code",
   "execution_count": 46,
   "id": "35cd11eb",
   "metadata": {},
   "outputs": [
    {
     "name": "stdout",
     "output_type": "stream",
     "text": [
      "Kanishk\n",
      "DI\n",
      "100000\n"
     ]
    }
   ],
   "source": [
    "# Exercise\n",
    "\n",
    "class Employee:\n",
    "    def __init__(self,name,_domain,__salary):\n",
    "        self.name = name\n",
    "        self._domain = _domain\n",
    "        self.__salary = __salary\n",
    "        \n",
    "    def display(self):\n",
    "        print(self.name)\n",
    "        print(self._domain)\n",
    "        print(self.__salary)\n",
    "        \n",
    "emp1 = Employee(\"Kanishk\",\"DI\",100000)\n",
    "emp1.display()"
   ]
  },
  {
   "cell_type": "markdown",
   "id": "d395ad39",
   "metadata": {},
   "source": [
    "### Method Overriding\n",
    "    * Ability of OOP that allows child to provide a specific implementation of method that is already present by super class or parent class."
   ]
  },
  {
   "cell_type": "code",
   "execution_count": 54,
   "id": "c7fa6084",
   "metadata": {},
   "outputs": [],
   "source": [
    "class Vehicle:\n",
    "    #constructor\n",
    "    def __init__(self):\n",
    "        self.tyres = 1\n",
    "    def showtyres(self):\n",
    "        print(self.tyres)\n",
    "\n",
    "# Inhiretance\n",
    "class Auto(Vehicle):\n",
    "    #constructor\n",
    "    def __init__(self):\n",
    "        self.tyres = 3\n",
    "    #method overriding\n",
    "    def showtyres(self):\n",
    "        print(self.tyres)\n",
    "        \n",
    "# Inhiretance\n",
    "class Car(Vehicle):\n",
    "    #constructor\n",
    "    def __init__(self):\n",
    "        self.tyres = 4\n",
    "    #method overriding\n",
    "    def showtyres(self):\n",
    "        print(self.tyres)"
   ]
  },
  {
   "cell_type": "code",
   "execution_count": 55,
   "id": "edbc082a",
   "metadata": {},
   "outputs": [
    {
     "name": "stdout",
     "output_type": "stream",
     "text": [
      "3\n"
     ]
    }
   ],
   "source": [
    "auto_obj = Auto()\n",
    "auto_obj.showtyres()"
   ]
  },
  {
   "cell_type": "code",
   "execution_count": 56,
   "id": "c602dc14",
   "metadata": {},
   "outputs": [
    {
     "name": "stdout",
     "output_type": "stream",
     "text": [
      "4\n"
     ]
    }
   ],
   "source": [
    "car_obj = Car()\n",
    "car_obj.showtyres()"
   ]
  },
  {
   "cell_type": "markdown",
   "id": "5f5ff33c",
   "metadata": {},
   "source": [
    "### Decorators\n",
    "    * Powerful toolof the python programming that allows programmers to modify the behaviour of a method/function or class.\n",
    "    * Decorators allow you to modify the functionality of method by wrapping it in another function.\n",
    "    * Outer function is called as decorator '@function_name' which takes original function and returns a modified version of it."
   ]
  },
  {
   "cell_type": "code",
   "execution_count": 63,
   "id": "d044ca65",
   "metadata": {},
   "outputs": [],
   "source": [
    "def calculate(a,b):\n",
    "    print(a/b)"
   ]
  },
  {
   "cell_type": "code",
   "execution_count": 64,
   "id": "42cf68fc",
   "metadata": {},
   "outputs": [
    {
     "name": "stdout",
     "output_type": "stream",
     "text": [
      "2.0\n"
     ]
    }
   ],
   "source": [
    "calculate(4,2)"
   ]
  },
  {
   "cell_type": "code",
   "execution_count": 65,
   "id": "2063aba7",
   "metadata": {},
   "outputs": [
    {
     "name": "stdout",
     "output_type": "stream",
     "text": [
      "0.5\n"
     ]
    }
   ],
   "source": [
    "calculate(2,4)"
   ]
  },
  {
   "cell_type": "markdown",
   "id": "487e4b09",
   "metadata": {},
   "source": [
    "* what if need a program which will check if Denom > numerator and if is so it will swap the value"
   ]
  },
  {
   "cell_type": "code",
   "execution_count": 66,
   "id": "4bc87241",
   "metadata": {},
   "outputs": [
    {
     "name": "stdout",
     "output_type": "stream",
     "text": [
      "2.0\n"
     ]
    }
   ],
   "source": [
    "def calculate(a,b):\n",
    "    if a<b:\n",
    "        #swap values\n",
    "        a,b=b,a\n",
    "    print(a/b)\n",
    "    \n",
    "calculate(2,4)"
   ]
  },
  {
   "cell_type": "markdown",
   "id": "19dbce22",
   "metadata": {},
   "source": [
    "* what if we need a program which will swap values. But not inside the function assuming this function is not given to you"
   ]
  },
  {
   "cell_type": "code",
   "execution_count": 68,
   "id": "9c339fbc",
   "metadata": {},
   "outputs": [],
   "source": [
    "def calculate(a,b):\n",
    "    print(a/b)"
   ]
  },
  {
   "cell_type": "code",
   "execution_count": 69,
   "id": "c36900d4",
   "metadata": {},
   "outputs": [],
   "source": [
    "def calculate_smart(func):\n",
    "    def inner(a,b):\n",
    "        if a<b:\n",
    "            a,b=b,a\n",
    "        return func(a,b)\n",
    "    return inner"
   ]
  },
  {
   "cell_type": "code",
   "execution_count": 70,
   "id": "1fe65a91",
   "metadata": {},
   "outputs": [],
   "source": [
    "#decorator\n",
    "calculate1 = calculate_smart(calculate)"
   ]
  },
  {
   "cell_type": "code",
   "execution_count": 71,
   "id": "e25579c6",
   "metadata": {},
   "outputs": [
    {
     "name": "stdout",
     "output_type": "stream",
     "text": [
      "2.0\n"
     ]
    }
   ],
   "source": [
    "calculate1(2,4)"
   ]
  },
  {
   "cell_type": "code",
   "execution_count": 73,
   "id": "e1e3ee8f",
   "metadata": {},
   "outputs": [
    {
     "name": "stdout",
     "output_type": "stream",
     "text": [
      "2.0\n"
     ]
    }
   ],
   "source": [
    "def calculate_smart(func):\n",
    "    def inner(a,b):\n",
    "        if a<b:\n",
    "            a,b=b,a\n",
    "        return func(a,b)\n",
    "    return inner\n",
    "\n",
    "#decorators\n",
    "@calculate_smart\n",
    "def calculate(a,b):\n",
    "    print(a/b)\n",
    "    \n",
    "calculate(2,4)"
   ]
  },
  {
   "cell_type": "markdown",
   "id": "e447ee87",
   "metadata": {},
   "source": [
    "* Polymorphism in Addition operator"
   ]
  },
  {
   "cell_type": "code",
   "execution_count": 75,
   "id": "934e7bbd",
   "metadata": {},
   "outputs": [
    {
     "name": "stdout",
     "output_type": "stream",
     "text": [
      "30\n"
     ]
    }
   ],
   "source": [
    "var1=10\n",
    "var2=20\n",
    "print(var1+var2)"
   ]
  },
  {
   "cell_type": "code",
   "execution_count": 77,
   "id": "bfcd1eb3",
   "metadata": {},
   "outputs": [
    {
     "name": "stdout",
     "output_type": "stream",
     "text": [
      "Python Programming Polymorphism\n"
     ]
    }
   ],
   "source": [
    "str1=\"Python\"\n",
    "str2=\"Programming\"\n",
    "str3=\"Polymorphism\"\n",
    "print(str1+\" \"+str2+\" \"+str3)"
   ]
  },
  {
   "cell_type": "markdown",
   "id": "6869ecd6",
   "metadata": {},
   "source": [
    "* Polymorphism in Class method"
   ]
  },
  {
   "cell_type": "code",
   "execution_count": 81,
   "id": "b9db018f",
   "metadata": {},
   "outputs": [],
   "source": [
    "class Tortoise:\n",
    "    def __init__(self,name,age):\n",
    "        self.name = name\n",
    "        self.age = age\n",
    "    def petinfo(self):\n",
    "        print(f\"Hey I am Tortoise. My name is {self.name}. My age is {self.age}\")\n",
    "    def sound(self):\n",
    "        print(\"Clicks\")\n",
    "        \n",
    "class Dog:\n",
    "    def __init__(self,name,age):\n",
    "        self.name = name\n",
    "        self.age = age\n",
    "    def petinfo(self):\n",
    "        print(f\"Hey I am Dog. My name is {self.name}. My age is {self.age}\")\n",
    "    def sound(self):\n",
    "        print(\"Barks\")\n",
    "        \n",
    "class Cat:\n",
    "    def __init__(self,name,age):\n",
    "        self.name = name\n",
    "        self.age = age\n",
    "    def petinfo(self):\n",
    "        print(f\"Hey I am Cat. My name is {self.name}. My age is {self.age}\")\n",
    "    def sound(self):\n",
    "        print(\"Meow\")\n",
    "        "
   ]
  },
  {
   "cell_type": "code",
   "execution_count": 82,
   "id": "ca3b653c",
   "metadata": {},
   "outputs": [],
   "source": [
    "cat_obj = Cat(\"Kitty\",3)\n",
    "dog_obj = Dog(\"Dawg\",5)\n",
    "tortoise_obj = Tortoise(\"Toto\",100)"
   ]
  },
  {
   "cell_type": "code",
   "execution_count": 83,
   "id": "75d72db0",
   "metadata": {},
   "outputs": [
    {
     "name": "stdout",
     "output_type": "stream",
     "text": [
      "Hey I am Cat. My name is Kitty. My age is 3\n",
      "Meow\n",
      "Hey I am Dog. My name is Dawg. My age is 5\n",
      "Barks\n",
      "Hey I am Tortoise. My name is Toto. My age is 100\n",
      "Clicks\n"
     ]
    }
   ],
   "source": [
    "for objects in [cat_obj,dog_obj,tortoise_obj]:\n",
    "    objects.petinfo()\n",
    "    objects.sound()"
   ]
  },
  {
   "cell_type": "markdown",
   "id": "8608ef97",
   "metadata": {},
   "source": [
    "* Polymorphism in class Inheritance"
   ]
  },
  {
   "cell_type": "code",
   "execution_count": 84,
   "id": "0336a0d8",
   "metadata": {},
   "outputs": [],
   "source": [
    "import math\n",
    "\n",
    "class shape:\n",
    "    def __init__(self,name):\n",
    "        self.name = name\n",
    "        \n",
    "    def area(self):\n",
    "        pass\n",
    "    \n",
    "class circle(shape):\n",
    "    def __init__(self,name,radius):\n",
    "        super().__init__(name)\n",
    "        self.radius = radius\n",
    "    def area(self):\n",
    "        return math.pi*self.radius ** 2"
   ]
  },
  {
   "cell_type": "code",
   "execution_count": 87,
   "id": "54c761d7",
   "metadata": {},
   "outputs": [
    {
     "data": {
      "text/plain": [
       "28"
      ]
     },
     "execution_count": 87,
     "metadata": {},
     "output_type": "execute_result"
    }
   ],
   "source": [
    "import random\n",
    "random.randint(2,30)"
   ]
  },
  {
   "cell_type": "code",
   "execution_count": 88,
   "id": "f39a1c42",
   "metadata": {},
   "outputs": [
    {
     "data": {
      "text/plain": [
       "153.93804002589985"
      ]
     },
     "execution_count": 88,
     "metadata": {},
     "output_type": "execute_result"
    }
   ],
   "source": [
    "# pass value using random.randint() - generate random integer value b/w range(2,30)\n",
    "obj1=circle(\"round\",random.randint(2,30))\n",
    "obj1.area()"
   ]
  },
  {
   "cell_type": "code",
   "execution_count": null,
   "id": "03cd1e5b",
   "metadata": {},
   "outputs": [],
   "source": []
  }
 ],
 "metadata": {
  "kernelspec": {
   "display_name": "Python 3 (ipykernel)",
   "language": "python",
   "name": "python3"
  },
  "language_info": {
   "codemirror_mode": {
    "name": "ipython",
    "version": 3
   },
   "file_extension": ".py",
   "mimetype": "text/x-python",
   "name": "python",
   "nbconvert_exporter": "python",
   "pygments_lexer": "ipython3",
   "version": "3.9.13"
  }
 },
 "nbformat": 4,
 "nbformat_minor": 5
}
